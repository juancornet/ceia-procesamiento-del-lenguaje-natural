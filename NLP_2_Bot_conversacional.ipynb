{
  "nbformat": 4,
  "nbformat_minor": 0,
  "metadata": {
    "colab": {
      "name": "NLP 2 - Bot conversacional.ipynb",
      "provenance": [],
      "collapsed_sections": []
    },
    "kernelspec": {
      "name": "python3",
      "display_name": "Python 3"
    },
    "language_info": {
      "name": "python"
    }
  },
  "cells": [
    {
      "cell_type": "markdown",
      "metadata": {
        "id": "Ue5hxxkdAQJg"
      },
      "source": [
        "<a href=\"https://www.inove.com.ar\"><img src=\"https://github.com/hernancontigiani/ceia_memorias_especializacion/raw/master/Figures/logoFIUBA.jpg\" width=\"500\" align=\"center\"></a>\n",
        "\n",
        "\n",
        "# Procesamiento de lenguaje natural\n",
        "## Bot conversacional\n"
      ]
    },
    {
      "cell_type": "code",
      "metadata": {
        "id": "kCED1hh-Ioyf",
        "colab": {
          "base_uri": "https://localhost:8080/"
        },
        "outputId": "7cb5a178-98b1-4156-9068-95e656c9caf6"
      },
      "source": [
        "import json\n",
        "import string\n",
        "import random\n",
        "import re\n",
        "import urllib.request\n",
        "\n",
        "import numpy as np\n",
        "import tensorflow as tf \n",
        "from tensorflow.keras import Sequential \n",
        "from tensorflow.keras.layers import Dense, Dropout\n",
        "\n",
        "# Para leer y parsear el texto en HTML de wikipedia\n",
        "import bs4 as bs\n",
        "\n",
        "import nltk\n",
        "# Descargar el diccionario\n",
        "nltk.download(\"punkt\")\n",
        "nltk.download(\"wordnet\")"
      ],
      "execution_count": 1,
      "outputs": [
        {
          "output_type": "stream",
          "name": "stdout",
          "text": [
            "[nltk_data] Downloading package punkt to /root/nltk_data...\n",
            "[nltk_data]   Unzipping tokenizers/punkt.zip.\n",
            "[nltk_data] Downloading package wordnet to /root/nltk_data...\n",
            "[nltk_data]   Unzipping corpora/wordnet.zip.\n"
          ]
        },
        {
          "output_type": "execute_result",
          "data": {
            "text/plain": [
              "True"
            ]
          },
          "metadata": {},
          "execution_count": 1
        }
      ]
    },
    {
      "cell_type": "markdown",
      "metadata": {
        "id": "DMOa4JPSCJ29"
      },
      "source": [
        "### Datos\n",
        "De la misma manera en la que fue visto en clase, se obtuvo el dataset desde Wikipedia, esta vez sobre la Trilogia de la Fundacion de Isaac Asimov."
      ]
    },
    {
      "cell_type": "code",
      "metadata": {
        "id": "RIO7b8GjAC17"
      },
      "source": [
        "raw_html = urllib.request.urlopen('https://en.wikipedia.org/wiki/Foundation_series')\n",
        "raw_html = raw_html.read()\n",
        "\n",
        "article_html = bs.BeautifulSoup(raw_html, 'lxml')\n",
        "\n",
        "article_paragraphs = article_html.find_all('p')\n",
        "\n",
        "article_text = ''\n",
        "\n",
        "for para in article_paragraphs:\n",
        "    article_text += para.text\n",
        "\n",
        "article_text = article_text.lower()"
      ],
      "execution_count": 2,
      "outputs": []
    },
    {
      "cell_type": "code",
      "metadata": {
        "id": "BtGLJjt6rQhK",
        "colab": {
          "base_uri": "https://localhost:8080/"
        },
        "outputId": "3e0d6e58-582a-4d85-c89a-52bdab242308"
      },
      "source": [
        "print(\"Cantidad de caracteres en la nota:\", len(article_text))"
      ],
      "execution_count": 3,
      "outputs": [
        {
          "output_type": "stream",
          "name": "stdout",
          "text": [
            "Cantidad de caracteres en la nota: 44037\n"
          ]
        }
      ]
    },
    {
      "cell_type": "markdown",
      "metadata": {
        "id": "FVHxBRNzCMOS"
      },
      "source": [
        "### 2 - Preprocesamiento\n",
        "- Remover caracteres especiales\n",
        "- Quitar espacios o saltos"
      ]
    },
    {
      "cell_type": "code",
      "metadata": {
        "id": "HnEUTD1Erl1N"
      },
      "source": [
        "text = re.sub(r'\\[[0-9]*\\]', ' ', article_text)\n",
        "text = re.sub(r'\\s+', ' ', text)"
      ],
      "execution_count": 4,
      "outputs": []
    },
    {
      "cell_type": "code",
      "metadata": {
        "id": "g7ycrAMYrn66",
        "colab": {
          "base_uri": "https://localhost:8080/",
          "height": 105
        },
        "outputId": "c37a9f86-ce45-4a86-a7ad-eee13b0f6157"
      },
      "source": [
        "# Revisamos el texto preprocesado\n",
        "text"
      ],
      "execution_count": 5,
      "outputs": [
        {
          "output_type": "execute_result",
          "data": {
            "application/vnd.google.colaboratory.intrinsic+json": {
              "type": "string"
            },
            "text/plain": [
              "'the foundation series is a science fiction book series written by american author isaac asimov. first published as a series of short stories in 1942–50, and subsequently in three collections in 1951–53, for thirty years the series was a trilogy: foundation, foundation and empire, and second foundation. it won the one-time hugo award for \"best all-time series\" in 1966. asimov began adding new volumes in 1981, with two sequels: foundation\\'s edge and foundation and earth, and two prequels: prelude to foundation and forward the foundation. the additions made reference to events in asimov\\'s robot and empire series, indicating that they also were set in the same fictional universe. the premise of the stories is that, in the waning days of a future galactic empire, the mathematician hari seldon spends his life developing a theory of psychohistory, a new and effective mathematical sociology. using statistical laws of mass action, it can predict the future of large populations. seldon foresees the imminent fall of the empire, which encompasses the entire milky way, and a dark age lasting 30,000 years before a second empire arises. although the inertia of the empire\\'s fall is too great to stop, seldon devises a plan by which \"the onrushing mass of events must be deflected just a little\" to eventually limit this interregnum to just one thousand years. to implement his plan, seldon creates the foundations—two groups of scientists and engineers settled at opposite ends of the galaxy—to preserve the spirit of science and civilization, and thus become the cornerstones of the new galactic empire. one key feature of seldon\\'s theory, which has proved influential in real-world social science, is the uncertainty principle of sociology: if a population gains knowledge of its predicted behavior, its self-aware collective actions become unpredictable. the original trilogy of novels collected a series of eight short stories published in astounding magazine between may 1942 and january 1950. according to asimov, the premise was based on ideas in edward gibbon\\'s history of the decline and fall of the roman empire, and was invented spontaneously on his way to meet with editor john w. campbell, with whom he developed the concepts of the collapse of the galactic empire, the civilization-preserving foundations, and psychohistory. asimov wrote these early stories in his west philadelphia apartment when he worked at the philadelphia naval yard.[original research?] the first four stories were collected, along with a new introductory story, and published by gnome press in 1951 as foundation. the later stories were published in pairs by gnome as foundation and empire (1952) and second foundation (1953), resulting in the \"foundation trilogy\", as the series is still known. in 1981, asimov was persuaded by his publishers to write a fourth book, which became foundation\\'s edge (1982). four years later, asimov followed up with yet another sequel, foundation and earth (1986), which was followed by the prequels prelude to foundation (1988) and forward the foundation (1993), published after his death in 1992. during the two-year lapse between writing the sequels and prequels, asimov had tied in his foundation series with his various other series, creating a single unified universe. the basic link is mentioned in foundation\\'s edge: an obscure myth about a first wave of space settlements with robots and then a second without. the idea is the one developed in robots of dawn, which, in addition to showing the way that the second wave of settlements was to be allowed, illustrates the benefits and shortcomings of the first wave of settlements and their so-called c/fe (carbon/iron, signifying humans and robots together) culture. in this same book, the word psychohistory is used to describe the nascent idea of seldon\\'s work. some of the drawbacks to this style of colonization, also called spacer culture, are also exemplified by the events described all the way back in 1957\\'s the naked sun. the link between the robot and foundation universes was tightened by letting the robot r. daneel olivaw - originally introduced in the caves of steel - live on for tens of thousands of years and play a major role behind the scenes in both the galactic empire in its heyday and in the rise of the two foundations to take its place. note: this plot outline for the seven novels follows the series\\' in-universe chronology, which is not the order of publication. after many years as a trilogy comprising foundation, foundation and empire, and second foundation, the series was expanded by two prequels and two sequels. prelude to foundation opens on the planet trantor, the empire\\'s capital planet, the day after hari seldon has given a speech at a mathematics conference. several parties become aware of the content of his speech (that using mathematical formulas, it may be possible to predict the future course of human history). seldon is hounded by the emperor and various employed thugs who are working surreptitiously, which forces him into exile. over the course of the book, seldon and dors venabili, a female companion and professor of history, are taken from location to location by chetter hummin who, under the guise of a reporter, introduces them to various trantorian walks of life in his attempts to keep seldon hidden from the emperor. throughout their adventures all over trantor, seldon continuously denies that psychohistory is a realistic science. even if feasible, it may take several decades to develop. hummin, however, is convinced that seldon knows something, so he continuously presses him to work out a starting point to develop psychohistory. eventually, after much traveling and introductions to various, diverse cultures on trantor, seldon realizes that using the entire known galaxy as a starting point is too overwhelming; he then decides to use trantor as a model to work out the science, with a goal of later using the applied knowledge on the rest of the galaxy. eight years after the events of prelude, seldon has worked out the science of psychohistory and has applied it on a galactic scale. his notability and fame increase and he is eventually promoted to first minister to the emperor. as the book progresses, seldon loses those closest to him, including his wife, dors venabili, as his own health deteriorates into old age. having worked his entire adult life to understand psychohistory, seldon instructs his granddaughter, wanda, to set up the second foundation. called forth to stand trial on trantor for allegations of treason (for foreshadowing the decline of the galactic empire), seldon explains that his science of psychohistory foresees many alternatives, all of which result in the galactic empire eventually falling. if humanity follows its current path, the empire will fall and 30,000 years of turmoil will overcome humanity before a second empire arises. however, an alternative path allows for the intervening years to be only one thousand, if seldon is allowed to collect the most intelligent minds and create a compendium of all human knowledge, entitled encyclopedia galactica. the board is still wary but allows seldon to assemble whomever he needs, provided he and the \"encyclopedists\" be exiled to a remote planet, terminus. seldon agrees to these terms – and also secretly establishes a second foundation of which almost nothing is known, which he says is at the \"opposite end\" of the galaxy. after fifty years on terminus, and with seldon now dead, the inhabitants find themselves in a crisis. with four powerful planets surrounding their own, the encyclopedists have no defenses but their own intelligence. at the same time, a vault left by seldon is due to automatically open. the vault reveals a pre-recorded hologram of seldon, who informs the encyclopedists that their entire reason for being on terminus is a fraud, insofar as seldon did not actually care whether or not an encyclopedia was created, only that the population was placed on terminus and the events needed by his calculations were set in motion. in reality, the recording discloses, terminus was set up to reduce the dark ages from 30,000 years to just one millennium, based on following his calculations. it will develop by facing intermittent and extreme \"crises\" – known as \"seldon crises\" – which the laws governing psychohistory show will inevitably be overcome, simply because human nature will cause events to fall in particular ways which lead to the intended goal. the recording reveals that the present events are the first such crisis, reminds them that a second foundation was also formed at the \"opposite end\" of the galaxy, and then falls silent. the mayor of terminus city, salvor hardin, proposes to play the planets against each other. his plan is a success; the foundation remains untouched, and he becomes the effective ruler. meanwhile, the minds of the foundation continue to develop newer and greater technologies which are smaller and more powerful than the empire\\'s equivalents. using its scientific advantage, terminus develops trade routes with nearby planets, eventually taking them over when its technology becomes a much-needed commodity. the interplanetary traders effectively become the new diplomats to other planets. one such trader, hober mallow, becomes powerful enough to challenge and win the office of mayor and, by cutting off supplies to a nearby region, also succeeds in adding more planets to the foundation\\'s control. an ambitious general of the current emperor of the galaxy perceives the foundation as a growing threat and orders an attack on it, using the empire\\'s still-mighty fleet of war vessels. the emperor, initially supportive, becomes suspicious of his general\\'s long-term motive for the attack, and recalls the fleet despite being close to victory. in spite of its undoubted inferiority in purely military terms, the foundation emerges as the victor and the empire itself is defeated. seldon\\'s hologram reappears in the vault on terminus, and explains to the foundation that this opening of the vault follows a conflict whose result was inevitable whatever might have been done – a weak imperial navy could not have attacked them, while a strong navy would have shown itself by its successes to be a direct threat to the emperor himself and been recalled. a century later, an unknown outsider called the mule has begun taking over planets at a rapid pace. the foundation comes to realize, too late, that the mule is unforeseen in seldon\\'s plan, and that the plan cannot have predicted any certainty of defeating him. toran and bayta darell, accompanied by ebling mis – the foundations\\'s greatest psychologist – and a court jester named magnifico familiar with the mule, set out to trantor to find the second foundation, hoping to bring an end to the mule\\'s reign. mis studies furiously in the great library of trantor to decipher the second foundation\\'s location in order to visit it and seek their help. he is successful and also deduces that the mule\\'s success stems from his being a mutant who is able to change the emotions of others, a power he used to first instill fear in the inhabitants of his conquered planets, then to make his enemies devoutly loyal to him. mis is murdered by bayta darell before he can reveal the location, she having realised that magnifico is in fact the mule and has been using his gifts to drive mis forward in his research, so that he can learn the location himself and subjugate the second foundation. dismayed at having made a mistake which allowed bayta to see through his disguise, the mule leaves trantor to rule over his conquered planets while continuing his search. as the mule comes closer to finding it, the mysterious second foundation comes briefly out of hiding to face the threat directly. it consists of the descendants of seldon\\'s psychohistorians. while the first foundation has developed the physical sciences, the second foundation has been developing seldon\\'s mathematics and the seldon plan, along with their own use of mental sciences. the second foundation ultimately wears down the mule, who returns to rule over his kingdom peacefully for the rest of his life, without any further thought of conquering the second foundation. however, as a result, the first foundation has learned something of the second foundation beyond the simple fact that it exists, and has some understanding of its role. this means their behavior will now be chosen in light of that knowledge, and not based on uninformed natural human behavior, which means their behavior will no longer be the natural responses required by the mathematics of the seldon plan. this places the plan itself at great risk. in addition, the first foundation starts to resentfully consider the other as a rival, and a small group secretly begins to develop equipment for detecting and blocking mental influence in order to detect members of the second foundation. after many attempts to infer the second foundation\\'s whereabouts from the few clues available, the foundation is led to believe the second foundation is located on terminus (the \"opposite end of the galaxy\" for a galaxy with a circular shape). the foundation uncovers and destroys a group of fifty members of the second foundation and is left believing they have destroyed the second foundation. no longer concerned with the perceived threat, their behavior as a society will tend towards those anticipated by the plan. in fact the group of fifty were volunteers on terminus whose role was to be captured and give the impression that they composed the whole of the second foundation, so that the seldon plan would be able to continue unimpeded. the second foundation itself, however, is finally revealed to be located on the former imperial homeworld of trantor. the clue \"at star\\'s end\" was not a physical clue, but was instead based on an old saying, \"all roads lead to trantor, and that is where all stars end.\" seldon, being a social scientist and not a physical one, placed the two foundations at \"opposite ends\" of the galaxy, but in a sociological rather than physical sense. the first foundation was located on the periphery of the galaxy, where the empire\\'s influence was minimal; the second foundation was on trantor, where, even in its dying days, the empire\\'s power and culture were strongest. believing the second foundation still exists (despite the common belief that it has been extinguished), young politician golan trevize is sent into exile by the current mayor of the foundation, harla branno, to uncover the second foundation; trevize is accompanied by a scholar named janov pelorat. the reason for their belief is that, despite the unforeseeable impact of the mule, the seldon plan still appears to be proceeding in accordance with the statements of seldon\\'s hologram, suggesting that the second foundation still exists and is secretly intervening to bring the plan back on course. after a few conversations with pelorat, trevize comes to believe that a mythical planet called earth may hold the secret to the location. no such planet exists in any database, yet several myths and legends all refer to it, and it is trevize\\'s belief that the planet is deliberately being kept hidden. unknown to trevize and pelorat, branno is tracking their ship so that, in the event they find the second foundation, the first foundation can take military or other action. meanwhile, stor gendibal, a prominent member of the second foundation, discovers a simple local on trantor who has had a very subtle alteration made to her mind, far more delicate than anything the second foundation can do. he concludes that a greater force of mentalics must be active in the galaxy. following the events on terminus, gendibal endeavors to follow trevize, reasoning that by doing so, he may find out who has altered the mind of the trantor native. using the few scraps of reliable information within the various myths, trevize and pelorat discover a planet called gaia which is inhabited solely by mentalics, to such an extent that every organism and inanimate object on the planet shares a common mind. both branno and gendibal, who have separately followed trevize, also reach gaia at the same time. gaia reveals that it has engineered this situation because it wishes to do what is best for humanity but cannot be sure what is best. trevize\\'s purpose, faced with the leaders of both the first and second foundations and gaia itself, is to be trusted to make the best decision among the three main alternatives for the future of the human race: the first foundation\\'s path, based on mastery of the physical world and its traditional political organization (i.e., empire); the second foundation\\'s path, based on mentalics and probable rule by an elite using mind control; or gaia\\'s path of absorption of the entire galaxy into one shared, harmonious living entity in which all beings, and the galaxy itself, would be a part. after trevize makes his decision for gaia\\'s path, the intellect of gaia adjusts both branno\\'s and gendibal\\'s minds so that each believes he or she has succeeded in a significant task. (branno believes she has successfully negotiated a treaty tying sayshell to the foundation, and gendibal – now leader of the second foundation – believes that the second foundation is victorious and should continue as normal.) trevize remains, but is uncertain as to why he is \"sure\" that gaia is the correct outcome for the future. still uncertain about his decision, trevize continues on with the search for earth along with pelorat and a local of gaia, advanced in mentalics, known as blissenobiarella (usually referred to simply as bliss). eventually, trevize finds three sets of coordinates which are very old. adjusting them for time, he realizes that his ship\\'s computer does not list any planet in the vicinity of the coordinates. when he physically visits the locations, he rediscovers the forgotten spacer worlds of aurora, solaria, and finally melpomenia. after searching and facing different dilemmas on each planet, trevize still has not discovered any answers. aurora and melpomenia are long deserted, but solaria contains a small population which is extremely advanced in the field of mentalics. when the lives of the group are threatened, bliss uses her abilities (and the shared intellect of gaia) to destroy the solarian who is about to kill them. this leaves behind a small child who will be put to death if left alone, so bliss makes the decision to keep the child as they quickly escape the planet. eventually, trevize discovers earth, but it, again, contains no satisfactory answers for him (it is also long-since deserted). however, it dawns on trevize that the answer may not be on earth, but on earth\\'s satellite – the moon. upon approaching the planet, they are drawn inside the moon\\'s core, where they meet a robot named r. daneel olivaw. olivaw explains that he has been instrumental in guiding human history for thousands of years, having provided the impetus for seldon to create psychohistory and also the creation of gaia, but is now close to the end of his ability to maintain himself and will shortly cease to function. despite replacing his positronic brain (which contains 20,000 years of memories), he is going to die shortly. he explains that no further robotic brain can be devised to replace his current one, or which will let him continue assisting for the benefit of humanity. however, some additional time can be won to ensure the long-term benefit of humanity by merging r. daneel olivaw\\'s mind with the organic intellect of a human – in this case, the intellect of the child that the group rescued on solaria. once again, trevize is put in the position of deciding if having olivaw meld with the child\\'s superior intellect would be in the best interests of the galaxy. the decision is left ambiguous (though likely a \"yes\") as it is implied that the melding of the minds may be to the child\\'s benefit, but that she may have sinister intentions. the early stories were inspired by edward gibbon\\'s the history of the decline and fall of the roman empire. the plot of the series focuses on the growth and reach of the foundation, against a backdrop of the \"decline and fall of the galactic empire.\" the themes of asimov\\'s stories were also influenced by the political tendency in sf fandom, associated with the futurians, known as michelism. the focus of the books is the trends through which a civilization might progress, specifically seeking to analyze their progress, using history as a precedent. although many science fiction novels such as nineteen eighty-four or fahrenheit 451 do this, their focus is upon how current trends in society might come to fruition and they act as a moral allegory of the modern world. the foundation series, on the other hand, looks at the trends in a wider scope, dealing with societal evolution and adaptation rather than the human and cultural qualities at one point in time. in this he followed the model of thucydides\\' work the history of the peloponnesian war, as he once acknowledged. furthermore, the concept of psychohistory, which gives the events in the story a sense of rational fatalism, leaves little room for moralization. hari seldon himself hopes that his plan will \"reduce 30,000 years of dark ages and barbarism to a single millennium,\" a goal of exceptional moral gravity. yet events within it are often treated as inevitable and necessary, rather than deviations from the greater good. for example, the foundation slides gradually into oligarchy and dictatorship prior to the appearance of the galactic conqueror, known as the mule, who was able to succeed through the random chance of a telepathic mutation. but, for the most part, the book treats the purpose of seldon\\'s plan as unquestionable, and that slide as being necessary in it, rather than mulling over whether the slide is, on the whole, positive or negative. the books also wrestle with the idea of individualism. hari seldon\\'s plan is often treated as an inevitable mechanism of society, a vast mindless mob mentality of quadrillions of humans across the galaxy. many in the series struggle against it, only to fail. however, the plan itself is reliant upon the cunning of individuals such as salvor hardin and hober mallow to make wise decisions that capitalize on the trends. on the other hand, the mule, a single individual with mental powers, topples the foundation and nearly destroys the seldon plan with his special, unforeseen abilities. to repair the damage the mule inflicts, the second foundation deploys a plan which turns upon individual reactions. psychohistory is based on group trends and cannot predict with sufficient accuracy the effects of extraordinary, unforeseeable individuals, and as originally presented, the second foundation\\'s purpose was to counter this flaw. later novels would identify the plan\\'s uncertainties that remained at seldon\\'s death as the primary reason for the existence of the second foundation, which (unlike the first) had retained the capacity to research and further develop psychohistory. asimov tried to end the series with second foundation. however, because of the predicted thousand years until the rise of the next empire (of which only a few hundred had elapsed), the series lacked a sense of closure. for decades, fans pressured him to write a sequel. in 1982, after a 30-year hiatus, asimov gave in and wrote what was at the time a fourth volume: foundation\\'s edge. this was followed shortly thereafter by foundation and earth. this novel, which takes place some 500 years after seldon, ties up all the loose ends and ties all his robot, empire, and foundation novels into a single story. he also opens a brand new line of thought in the last dozen pages regarding galaxia, a galaxy inhabited by a single collective mind. this concept was never explored further. according to his widow janet asimov (in her biography of isaac, it\\'s been a good life), he had no idea how to continue after foundation and earth, so he started writing the prequels. in the spring of 1955, asimov published a future history of humanity in the pages of thrilling wonder stories magazine based upon his thought processes concerning the foundation universe at that point in his life. according to the publication, \"the scheme was not originally worked out as a consistent pattern and only includes about one-quarter of his total writings\". because of this, the dating in the foundation series is approximate and inconsistent. asimov estimates that his foundation series takes place nearly 50,000 years into the future, with hari seldon born in 47,000 ce. around this time, the future emperor cleon i is born in the imperial capital trantor, 78 years before the foundation era (fe) and the events of the original foundation trilogy. after cleon inherits the crown, the mathematician hari seldon comes to trantor from helicon to deliver his theory of psychohistory that predicts the fall of the empire, which triggers the events of prelude to foundation. forward the foundation picks up the story a few years later, with the emperor being assassinated and seldon retiring from politics. at the start of the foundation era, the events of the original foundation novel (first published in astounding science fiction as a series of short stories) take place, and the in-universe foundation era truly begins. according to asimov, he intended this to take place around the year 47000 ce, with the empire in decay as it battles the rising foundation, who emerges as the dominant power a few centuries later. thus begins the events of the foundation and empire, which include the unpredicted rise of the mule, who defeats the foundation thanks to his mutant abilities. the events of second foundation chronicle the titular second foundation\\'s search and defeat of the mule, and their conflict with the remnants of the original foundation, averting the dark age. asimov estimates that the mule rises and falls somewhere around 47300 ce. foundation\\'s edge takes place 500 years after the establishment of the foundation, outside of the original trilogy of novels. foundation and earth follows immediately after, with humanity choosing and justifying a third path distinct from the opposing visions of the two foundations. according to asimov, the second galactic empire is established 48000 ce, 1000 years after the events of the first novel. asimov himself commented that his fiction\\'s internal history was \"actually made up ad hoc. my cross-references in the novels are thrown in as they occur to me and did not come from a systemized history. ... if some reader checks my stories carefully and finds that my dating is internally inconsistent, i can only say i\\'m not surprised.\" in learned optimism, psychologist martin seligman identifies the foundation series as one of the most important influences in his professional life, because of the possibility of predictive sociology based on psychological principles. he also lays claim to the first successful prediction of a major historical (sociological) event, in the 1988 us elections, and he specifically attributes this to a psychological principle. in his 1996 book to renew america, u. s. house speaker newt gingrich wrote that he was influenced by reading the foundation trilogy in high school. paul krugman, winner of the 2008 nobel memorial prize in economic sciences, credits the foundation series with turning his mind to economics, as the closest existing science to psychohistory. the businessman and entrepreneur elon musk counts the series among the inspirations for his career. when musk\\'s tesla roadster was launched into space on the maiden flight of the falcon heavy rocket in february 2018, amongst other items it carried a 5d optical data storage copy of the foundation series. stating that it \"offers a useful summary of some of the dynamics of far-flung imperial rome\", carl sagan in 1978 listed the foundation series as an example of how science fiction \"can convey bits and pieces, hints and phrases, of knowledge unknown or inaccessible to the reader\". in the nonfiction pbs series cosmos: a personal voyage, sagan referred to an encyclopedia galactica in the episodes \"encyclopaedia galactica\" and \"who speaks for earth\". in 1966, the foundation trilogy beat several other science fiction and fantasy series to receive a special hugo award for \"best all-time series\". the runners-up for the award were the barsoom series by edgar rice burroughs, the future history series by robert a. heinlein, the lensman series by edward e. smith and the lord of the rings by j. r. r. tolkien. the foundation series was the only series so honored until the establishment of the \"best series\" category in 2017. asimov himself wrote that he assumed the one-time award had been created to honor the lord of the rings, and he was amazed when his work won. the series has won three other hugo awards. foundation\\'s edge won best novel in 1983, and was a bestseller for almost a year. retrospective hugo awards were given in 1996 and 2018 for, respectively, \"the mule\" (the major part of foundation and empire) for best novel (1946) and \"foundation\" (the first story written for the series, and second chapter of the first novel) for best short story (1943). science fiction parodies, such as douglas adams\\' the hitchhiker\\'s guide to the galaxy and harry harrison\\'s bill, the galactic hero, often display clear foundation influences. for instance, \"the guide\" of the former is a spoof of the encyclopedia galactica, and the series actually mentions the encyclopedia by name, remarking that it is rather \"dry\", and consequently sells fewer copies than the guide; the latter also features the ultra-urbanized imperial planet helior, often parodying the logistics such a planet-city would require, but that asimov\\'s novel downplays when describing trantor.[citation needed] the 1957 short story marius, which set off poul anderson\\'s early future history, the psychotechnic league, clearly shows the influence of asimov\\'s foundation—though moved from the far future of a collapsing galactic empire to a near future of a late 20th century earth struggling to recover from the devastation of a nuclear third world war. in this situation, the finnish professor valti starts the science of psychodynamics, which makes it possible to mathematically predict the future, and the psychotechnic institute makes use of valti\\'s formulas to subtly \"guide\" and manipulate the emerging world government. the similarity to seldon and the foundation is obvious, nor did anderson try to hide it. frank herbert also wrote dune as a counterpoint to foundation. tim o\\'reilly in his monograph on herbert wrote that \"dune is clearly a commentary on the foundation trilogy. herbert has taken a look at the same imaginative situation that provoked asimov\\'s classic—the decay of a galactic empire—and restated it in a way that draws on different assumptions and suggests radically different conclusions. the twist he has introduced into dune is that the mule, not the foundation, is his hero.\" in 1995, donald kingsbury wrote \"historical crisis\", which he later expanded into a novel, psychohistorical crisis. it takes place about 2,000 years after foundation, after the founding of the second galactic empire. it is set in the same fictional universe as the foundation series, in considerable detail, but with virtually all foundation-specific names either changed (e.g., kalgan becomes lakgan), or avoided (psychohistory is created by an unnamed, but often-referenced founder). the novel explores the ideas of psychohistory in a number of new directions, inspired by more recent developments in mathematics and computer science, as well as by new ideas in science fiction itself. in 1998, the novel spectre (part of the shatnerverse series) by william shatner and judith and garfield reeves-stevens states that the mirror universe divergent path has been studied by the seldon psychohistory institute. the oboe-like holophonor in matt groening\\'s animated television series futurama is based directly upon the \"visi-sonor\" which magnifico plays in foundation and empire. the \"visi-sonor\" is also mirrored in an episode of special unit 2, where a child\\'s television character plays an instrument that induces mind control over children.[citation needed] during the 2006–2007 marvel comics civil war crossover storyline, in fantastic four #542 mister fantastic revealed his own attempt to develop psychohistory, saying he was inspired after reading the foundation series. according to lead singer ian gillan, the hard rock band deep purple\\'s song the mule is based on the foundation character: \"yes, the mule was inspired by asimov. it\\'s been a while but i\\'m sure you\\'ve made the right connection... asimov was required reading in the 60\\'s.\" an eight-part radio adaptation of the original trilogy, with sound design by the bbc radiophonic workshop, was broadcast on bbc radio 4 in 1973—one of the first bbc radio drama serials to be made in stereo. a bbc 7 rerun commenced in july 2003. adapted by patrick tull (episodes 1 to 4) and mike stott (episodes 5 to 8), the dramatisation was directed by david cain and starred william eedle as hari seldon, with geoffrey beevers as gaal dornick, lee montague as salvor hardin, julian glover as hober mallow, dinsdale landen as bel riose, maurice denham as ebling mis and prunella scales as lady callia. by 1998, new line cinema had spent $1.5 million developing a film version of the foundation trilogy. the failure to develop a new franchise was partly a reason the studio signed on to produce the lord of the rings film trilogy. on july 29, 2008, new line cinema co-founders bob shaye and michael lynne were reported to have been signed on to produce an adaptation of the trilogy by their company unique pictures for warner brothers. however, columbia pictures (sony) successfully bid for the screen rights on january 15, 2009, and then contracted roland emmerich to direct and produce. michael wimer was named as co-producer. two years later, the studio hired dante harper to adapt the books. this project failed to materialize and hbo acquired the rights when they became available in 2014. in november 2014, thewrap reported that jonathan nolan was writing and producing a tv series based on the foundation trilogy for hbo. nolan confirmed his involvement at a paley center event on april 13, 2015. in june 2017, deadline reported that skydance media would produce a tv series. in august 2018 it was announced that apple tv+ had commissioned a 10 episode straight-to-series order. however, on april 18, 2019, josh friedman left the project as co-writer and co-showrunner. this was apparently planned, with either friedman or screenwriter david goyer leaving and the other staying. on june 22, 2020, apple ceo tim cook announced the series would be released in 2021. on 13 march 2020, apple suspended all active filming on their shows due to the covid-19 outbreak; filming resumed on october 6, 2020. the series is filmed at troy studios, limerick, ireland and the budget was expected to be approximately $50 million. the first two episodes premiered on september 24, 2021. metacritic gave the first season a weighted average score of 63 out of 100 based on 22 reviews, indicating \"generally favorable reviews\". the series is set in the same universe as asimov\\'s first published novel, pebble in the sky, although foundation takes place about 10,000 years later. pebble in the sky became the basis for the empire series. then, at some unknown date (prior to writing foundation\\'s edge) asimov decided to merge the foundation/empire series with his robot series. thus, all three series are set in the same universe, giving them a combined length of 18 novels, and a total of about 1,500,000 words (see the list of books below). the merge also created a time-span of the series of around 20,000 years. the stand-alone story nemesis is also in the same continuity; being referenced in forward the foundation, where hari seldon refers to a twenty-thousand-year-old story of \"a young woman that could communicate with an entire planet that circled a sun named nemesis.\" commentators noted that nemesis contains barely disguised references to the spacers and their calendar system, the galactic empire and even to hari seldon which seem to have been deliberately placed for the purpose of later integration into the foundation universe. the foreword to prelude to foundation contains the chronological ordering of asimov\\'s science fiction books. asimov stated that the books of his robot, empire, and foundation series \"offer a kind of history of the future, which is, perhaps, not completely consistent, since i did not plan consistency to begin with.\" asimov also noted that the books in his list \"were not written in the order in which (perhaps) they should be read\". in the author\\'s note, asimov noted that there is room for a book between robots and empire and the currents of space, and that he could follow foundation and earth with additional volumes. forward the foundation, nemesis, and the positronic man do not appear in asimov\\'s list, as they were not yet published at the time, and the order of the empire novels in asimov\\'s list is not entirely consistent with other lists. for example, the 1983 ballantine books printing of the robots of dawn lists the empire novels as: the stars, like dust, the currents of space, and pebble in the sky. given that the currents of space includes trantor and that the stars, like dust does not, these two books possibly were accidentally reversed in asimov\\'s list. while not mentioned in the \"author\\'s note\" of prelude to foundation, the novels the end of eternity (1955), nemesis (1989), and the positronic man (1992) are related to the greater foundation series. the end of eternity is vaguely referenced in foundation\\'s edge, where a character mentions the eternals, whose \"task it was to choose a reality that would be most suitable to humanity\". (the end of eternity also refers to a \"galactic empire\" within its story.) asimov himself did not mention the end of eternity in the series listing from prelude to foundation. as for nemesis, it was written after prelude to foundation, but in the author\\'s note asimov explicitly states that the book is not part of the foundation or empire series, but that some day he might tie it to the others. in forward the foundation, hari seldon refers to a 20-thousand-year-old story of \"a young woman that could communicate with an entire planet that circled a sun named nemesis\", a reference to nemesis. in nemesis, the main colony is one of the fifty settlements, a collection of orbital colonies that form a state. the fifty settlements possibly were the basis for the fifty spacer worlds in the robot stories. the implication at the end of nemesis that the inhabitants of the off-earth colonies are splitting off from earthbound humans could also be connected to a similar implication about the spacers in mark w. tiedemann\\'s robot books. according to alasdair wilkins, in a discussion posted on gizmodo, \"asimov absolutely loves weird, elliptical structures. all three of his non-robot/foundation science fiction novels — the end of eternity, the gods themselves, and nemesis — leaned heavily on non-chronological narratives, and he does it with gusto in the gods themselves.\" in the robots of dawn, dr. han fastolfe briefly summarizes the story from the positronic man (1992) or \"the bicentennial man\" (1976) in a conversation with elijah baley. the following novels are listed in chronological order by narrative: asimov\\'s novels covered only 500 of the expected 1,000 years it would take for the foundation to become a galactic empire. the novels written after asimov did not continue the timeline but rather sought to fill in gaps in the earlier stories. the foundation universe was once again revisited in 1989\\'s foundation\\'s friends, a collection of short stories written by many prominent science fiction authors of that time. orson scott card\\'s \"the originist\" clarifies the founding of the second foundation shortly after seldon\\'s death; harry turtledove\\'s \"trantor falls\" tells of the efforts by the second foundation to survive during the sacking of trantor, the imperial capital and second foundation\\'s home; and george zebrowski\\'s \"foundation\\'s conscience\" is about the efforts of a historian to document seldon\\'s work following the rise of the second galactic empire. also, shortly before his death in 1992, asimov approved an outline for three novels by roger macbride allen, known as the caliban trilogy, set between robots and empire and the empire series. the caliban trilogy describes the terraforming of the spacer world inferno, a planet where an ecological crisis forces the spacers to abandon many long-cherished parts of their culture. allen\\'s novels echo the uncertainties that asimov\\'s later books express about the three laws of robotics, and in particular the way a thoroughly roboticized culture can degrade human initiative. after asimov\\'s death and at the request of janet asimov and the asimov estate\\'s representative, ralph vicinanza approached gregory benford and asked him to write another foundation story. he eventually agreed, and with vicinanza and after speaking \"to several authors about [the] project\", formed a plan for a trilogy with \"two hard sf writers broadly influenced by asimov and of unchallenged technical ability: greg bear and david brin.\" foundation\\'s fear (1997) takes place chronologically between part one and part two of asimov\\'s second prequel novel, forward the foundation; foundation and chaos (1998) is set at the same time as the first chapter of foundation, filling in background; foundation\\'s triumph (1999) covers ground following the recording of the holographic messages to the foundation, and ties together a number of loose ends. these books are now claimed by some to collectively be a \"second foundation trilogy\", although they are inserts into pre-existing prequels and some of the earlier foundation storylines and not generally recognized as a new trilogy. in an epilogue to foundation\\'s triumph, brin noted he could imagine himself or a different author writing another sequel to add to foundation\\'s triumph, feeling that hari seldon\\'s story was not yet necessarily finished. he later published a possible start of such a book on his website. more recently, the asimov estate authorized publication of another trilogy of robot mysteries by mark w. tiedemann. these novels, which take place several years before asimov\\'s robots and empire, are mirage (2000), chimera (2001), and aurora (2002). these were followed by yet another robot mystery, alexander c. irvine\\'s have robot, will travel (2004), set five years after the tiedemann trilogy. in 2001, donald kingsbury published the novel psychohistorical crisis, set in the foundation universe after the start of the second empire. novels by various authors (isaac asimov\\'s robot city, robots and aliens and robots in time series) are loosely connected to the robot series, but contain many inconsistencies with asimov\\'s books, and are not generally considered part of the foundation series. in november 2009, the isaac asimov estate announced the publication of a prequel to i, robot under the working title robots and chaos, the first volume in a prequel trilogy featuring susan calvin by fantasy author mickey zucker reichert. the first book was published in november 2011 under the title i, robot: to protect, followed by i, robot: to obey in 2013 and i, robot: to preserve in 2016. the following works are listed in chronological order by narrative: '"
            ]
          },
          "metadata": {},
          "execution_count": 5
        }
      ]
    },
    {
      "cell_type": "code",
      "metadata": {
        "id": "PA5F0s4UsMpf",
        "colab": {
          "base_uri": "https://localhost:8080/"
        },
        "outputId": "717316a8-d438-4b39-e7c2-240fb8c7bb66"
      },
      "source": [
        "print(\"Cantidad de caracteres en el texto:\", len(text))"
      ],
      "execution_count": 6,
      "outputs": [
        {
          "output_type": "stream",
          "name": "stdout",
          "text": [
            "Cantidad de caracteres en el texto: 43815\n"
          ]
        }
      ]
    },
    {
      "cell_type": "markdown",
      "metadata": {
        "id": "DKNcDGcisajf"
      },
      "source": [
        "### 3 - Dividir el texto en sentencias y en palabras"
      ]
    },
    {
      "cell_type": "code",
      "metadata": {
        "id": "reXBOFQ7sdlB"
      },
      "source": [
        "corpus = nltk.sent_tokenize(text)\n",
        "words = nltk.word_tokenize(text)"
      ],
      "execution_count": 7,
      "outputs": []
    },
    {
      "cell_type": "code",
      "metadata": {
        "id": "J5GloV9fsi6o",
        "colab": {
          "base_uri": "https://localhost:8080/"
        },
        "outputId": "0d14ebc8-2282-4908-a3c3-15f2a8501c5d"
      },
      "source": [
        "# Revisamos el los primeros documentos del corpus\n",
        "corpus[:10]"
      ],
      "execution_count": 8,
      "outputs": [
        {
          "output_type": "execute_result",
          "data": {
            "text/plain": [
              "['the foundation series is a science fiction book series written by american author isaac asimov.',\n",
              " 'first published as a series of short stories in 1942–50, and subsequently in three collections in 1951–53, for thirty years the series was a trilogy: foundation, foundation and empire, and second foundation.',\n",
              " 'it won the one-time hugo award for \"best all-time series\" in 1966. asimov began adding new volumes in 1981, with two sequels: foundation\\'s edge and foundation and earth, and two prequels: prelude to foundation and forward the foundation.',\n",
              " \"the additions made reference to events in asimov's robot and empire series, indicating that they also were set in the same fictional universe.\",\n",
              " 'the premise of the stories is that, in the waning days of a future galactic empire, the mathematician hari seldon spends his life developing a theory of psychohistory, a new and effective mathematical sociology.',\n",
              " 'using statistical laws of mass action, it can predict the future of large populations.',\n",
              " 'seldon foresees the imminent fall of the empire, which encompasses the entire milky way, and a dark age lasting 30,000 years before a second empire arises.',\n",
              " 'although the inertia of the empire\\'s fall is too great to stop, seldon devises a plan by which \"the onrushing mass of events must be deflected just a little\" to eventually limit this interregnum to just one thousand years.',\n",
              " 'to implement his plan, seldon creates the foundations—two groups of scientists and engineers settled at opposite ends of the galaxy—to preserve the spirit of science and civilization, and thus become the cornerstones of the new galactic empire.',\n",
              " \"one key feature of seldon's theory, which has proved influential in real-world social science, is the uncertainty principle of sociology: if a population gains knowledge of its predicted behavior, its self-aware collective actions become unpredictable.\"]"
            ]
          },
          "metadata": {},
          "execution_count": 8
        }
      ]
    },
    {
      "cell_type": "code",
      "metadata": {
        "id": "hmQ7nkvvsi0i",
        "colab": {
          "base_uri": "https://localhost:8080/"
        },
        "outputId": "6fa5ee81-8a95-4963-ac06-991e592ec5eb"
      },
      "source": [
        "# Revisamos las primeras palabras del vocabulario\n",
        "words[:20]"
      ],
      "execution_count": 9,
      "outputs": [
        {
          "output_type": "execute_result",
          "data": {
            "text/plain": [
              "['the',\n",
              " 'foundation',\n",
              " 'series',\n",
              " 'is',\n",
              " 'a',\n",
              " 'science',\n",
              " 'fiction',\n",
              " 'book',\n",
              " 'series',\n",
              " 'written',\n",
              " 'by',\n",
              " 'american',\n",
              " 'author',\n",
              " 'isaac',\n",
              " 'asimov',\n",
              " '.',\n",
              " 'first',\n",
              " 'published',\n",
              " 'as',\n",
              " 'a']"
            ]
          },
          "metadata": {},
          "execution_count": 9
        }
      ]
    },
    {
      "cell_type": "markdown",
      "metadata": {
        "id": "NlYKyb3OtDse"
      },
      "source": [
        "### 4 - Funciones de ayuda para limpiar y procesar el input del usuario\n",
        "- Lematizar los tokens de la oración\n",
        "- Quitar símbolos de puntuación"
      ]
    },
    {
      "cell_type": "code",
      "metadata": {
        "id": "afPok8pstPOx"
      },
      "source": [
        "from nltk.stem import WordNetLemmatizer\n",
        "lemmatizer = WordNetLemmatizer()\n",
        "\n",
        "def perform_lemmatization(tokens):\n",
        "    return [lemmatizer.lemmatize(token) for token in tokens]\n",
        "\n",
        "punctuation_removal = dict((ord(punctuation), None) for punctuation in string.punctuation)\n",
        "\n",
        "def get_processed_text(document):\n",
        "    # 1 - reduce el texto a mínuscula\n",
        "    # 2 - quitar los simbolos de puntuacion\n",
        "    # 3 - realiza la tokenización\n",
        "    # 4 - realiza la lematización\n",
        "    return perform_lemmatization(nltk.word_tokenize(document.lower().translate(punctuation_removal)))"
      ],
      "execution_count": 10,
      "outputs": []
    },
    {
      "cell_type": "markdown",
      "metadata": {
        "id": "Jl8r6d9ZuyR9"
      },
      "source": [
        "### 5 - Utilizar vectores TF-IDF y la similitud coseno construido con el corpus de wikipedia"
      ]
    },
    {
      "cell_type": "code",
      "metadata": {
        "id": "IRYFHcBfk2Gt"
      },
      "source": [
        "from sklearn.feature_extraction.text import TfidfVectorizer\n",
        "from sklearn.metrics.pairwise import cosine_similarity\n",
        "\n",
        "def generate_response(user_input, corpus):\n",
        "    response = ''\n",
        "    # Sumar al corpus la pregunta del usuario para calcular\n",
        "    # su cercania con otros documentos/sentencias\n",
        "    corpus.append(user_input)\n",
        "\n",
        "    # Crear un vectorizar TFIDF que quite las \"stop words\" del ingles y utilice\n",
        "    # nuestra funcion para obtener los tokens lematizados \"get_processed_text\"\n",
        "    word_vectorizer = TfidfVectorizer(tokenizer=get_processed_text, stop_words='english')\n",
        "\n",
        "    # Crear los vectores a partir del corpus\n",
        "    all_word_vectors = word_vectorizer.fit_transform(corpus)\n",
        "\n",
        "    # Calcular la similitud coseno entre todas los documentos excepto el agregado (el útlimo \"-1\")\n",
        "    # NOTA: con los word embedings veremos más en detalle esta matriz de similitud\n",
        "    similar_vector_values = cosine_similarity(all_word_vectors[-1], all_word_vectors)\n",
        "\n",
        "    # Obtener el índice del vector más cercano a nuestra oración\n",
        "    # --> descartando la similitud contra nuestor vector propio\n",
        "    similar_sentence_number = similar_vector_values.argsort()[0][-2]\n",
        "    matched_vector = similar_vector_values.flatten()\n",
        "    matched_vector.sort()\n",
        "    vector_matched = matched_vector[-2]\n",
        "\n",
        "    if vector_matched == 0:\n",
        "        response = \"I am sorry, I could not understand you\"\n",
        "    else:\n",
        "        response = corpus[similar_sentence_number]\n",
        "    \n",
        "    corpus.remove(user_input)\n",
        "    return response"
      ],
      "execution_count": 18,
      "outputs": []
    },
    {
      "cell_type": "markdown",
      "metadata": {
        "id": "OK-BuXPBybSp"
      },
      "source": [
        "### 6 - Ensayar el sistema\n",
        "El sistema intentará encontrar la parte del artículo que más se relaciona con nuestro texto de entrada. Sugerencias ensayar:\n",
        "- Author\n",
        "- Character\n",
        "- Books\n",
        "- Hari Seldon\n",
        "- Trantor\n",
        "- Galaxy\n"
      ]
    },
    {
      "cell_type": "code",
      "metadata": {
        "colab": {
          "base_uri": "https://localhost:8080/"
        },
        "id": "HAtf6u59Xfxy",
        "outputId": "16ac1c29-f098-4e47-9276-99bc530fc89c"
      },
      "source": [
        "generate_response(\"author\", corpus)"
      ],
      "execution_count": 17,
      "outputs": [
        {
          "output_type": "stream",
          "name": "stderr",
          "text": [
            "/usr/local/lib/python3.7/dist-packages/sklearn/feature_extraction/text.py:385: UserWarning: Your stop_words may be inconsistent with your preprocessing. Tokenizing the stop words generated tokens ['ha', 'le', 'u', 'wa'] not in stop_words.\n",
            "  'stop_words.' % sorted(inconsistent))\n"
          ]
        }
      ]
    },
    {
      "cell_type": "code",
      "metadata": {
        "colab": {
          "base_uri": "https://localhost:8080/",
          "height": 90
        },
        "id": "FBCvhV45YGxv",
        "outputId": "a1da33f9-b494-4406-f1e5-9b60752b06ae"
      },
      "source": [
        "generate_response(\"character\", corpus)"
      ],
      "execution_count": 20,
      "outputs": [
        {
          "output_type": "stream",
          "name": "stderr",
          "text": [
            "/usr/local/lib/python3.7/dist-packages/sklearn/feature_extraction/text.py:385: UserWarning: Your stop_words may be inconsistent with your preprocessing. Tokenizing the stop words generated tokens ['ha', 'le', 'u', 'wa'] not in stop_words.\n",
            "  'stop_words.' % sorted(inconsistent))\n"
          ]
        },
        {
          "output_type": "execute_result",
          "data": {
            "application/vnd.google.colaboratory.intrinsic+json": {
              "type": "string"
            },
            "text/plain": [
              "'the end of eternity is vaguely referenced in foundation\\'s edge, where a character mentions the eternals, whose \"task it was to choose a reality that would be most suitable to humanity\".'"
            ]
          },
          "metadata": {},
          "execution_count": 20
        }
      ]
    },
    {
      "cell_type": "code",
      "metadata": {
        "colab": {
          "base_uri": "https://localhost:8080/",
          "height": 90
        },
        "id": "4Rvk8rVnYJsj",
        "outputId": "60e5b826-9e4a-4612-91e7-ae8985661d46"
      },
      "source": [
        "generate_response(\"books\", corpus)"
      ],
      "execution_count": 21,
      "outputs": [
        {
          "output_type": "stream",
          "name": "stderr",
          "text": [
            "/usr/local/lib/python3.7/dist-packages/sklearn/feature_extraction/text.py:385: UserWarning: Your stop_words may be inconsistent with your preprocessing. Tokenizing the stop words generated tokens ['ha', 'le', 'u', 'wa'] not in stop_words.\n",
            "  'stop_words.' % sorted(inconsistent))\n"
          ]
        },
        {
          "output_type": "execute_result",
          "data": {
            "application/vnd.google.colaboratory.intrinsic+json": {
              "type": "string"
            },
            "text/plain": [
              "'the books also wrestle with the idea of individualism.'"
            ]
          },
          "metadata": {},
          "execution_count": 21
        }
      ]
    },
    {
      "cell_type": "code",
      "metadata": {
        "colab": {
          "base_uri": "https://localhost:8080/",
          "height": 90
        },
        "id": "XCxOhGPLYbEh",
        "outputId": "00bf58ab-3c24-4fba-94a4-da5469365ef8"
      },
      "source": [
        "generate_response(\"hari seldon\", corpus)"
      ],
      "execution_count": 22,
      "outputs": [
        {
          "output_type": "stream",
          "name": "stderr",
          "text": [
            "/usr/local/lib/python3.7/dist-packages/sklearn/feature_extraction/text.py:385: UserWarning: Your stop_words may be inconsistent with your preprocessing. Tokenizing the stop words generated tokens ['ha', 'le', 'u', 'wa'] not in stop_words.\n",
            "  'stop_words.' % sorted(inconsistent))\n"
          ]
        },
        {
          "output_type": "execute_result",
          "data": {
            "application/vnd.google.colaboratory.intrinsic+json": {
              "type": "string"
            },
            "text/plain": [
              "'asimov estimates that his foundation series takes place nearly 50,000 years into the future, with hari seldon born in 47,000 ce.'"
            ]
          },
          "metadata": {},
          "execution_count": 22
        }
      ]
    },
    {
      "cell_type": "code",
      "metadata": {
        "colab": {
          "base_uri": "https://localhost:8080/",
          "height": 90
        },
        "id": "dRlNGaQMYdqp",
        "outputId": "11fb9083-964a-467e-cc63-397446714c14"
      },
      "source": [
        "generate_response(\"trantor\", corpus)"
      ],
      "execution_count": 23,
      "outputs": [
        {
          "output_type": "stream",
          "name": "stderr",
          "text": [
            "/usr/local/lib/python3.7/dist-packages/sklearn/feature_extraction/text.py:385: UserWarning: Your stop_words may be inconsistent with your preprocessing. Tokenizing the stop words generated tokens ['ha', 'le', 'u', 'wa'] not in stop_words.\n",
            "  'stop_words.' % sorted(inconsistent))\n"
          ]
        },
        {
          "output_type": "execute_result",
          "data": {
            "application/vnd.google.colaboratory.intrinsic+json": {
              "type": "string"
            },
            "text/plain": [
              "'the second foundation itself, however, is finally revealed to be located on the former imperial homeworld of trantor.'"
            ]
          },
          "metadata": {},
          "execution_count": 23
        }
      ]
    },
    {
      "cell_type": "code",
      "metadata": {
        "colab": {
          "base_uri": "https://localhost:8080/",
          "height": 90
        },
        "id": "cdOqNNU1Yf7J",
        "outputId": "618f860d-da1d-442f-8448-0e49267153c2"
      },
      "source": [
        "generate_response(\"the mule\", corpus)"
      ],
      "execution_count": 24,
      "outputs": [
        {
          "output_type": "stream",
          "name": "stderr",
          "text": [
            "/usr/local/lib/python3.7/dist-packages/sklearn/feature_extraction/text.py:385: UserWarning: Your stop_words may be inconsistent with your preprocessing. Tokenizing the stop words generated tokens ['ha', 'le', 'u', 'wa'] not in stop_words.\n",
            "  'stop_words.' % sorted(inconsistent))\n"
          ]
        },
        {
          "output_type": "execute_result",
          "data": {
            "application/vnd.google.colaboratory.intrinsic+json": {
              "type": "string"
            },
            "text/plain": [
              "'according to lead singer ian gillan, the hard rock band deep purple\\'s song the mule is based on the foundation character: \"yes, the mule was inspired by asimov.'"
            ]
          },
          "metadata": {},
          "execution_count": 24
        }
      ]
    },
    {
      "cell_type": "code",
      "metadata": {
        "colab": {
          "base_uri": "https://localhost:8080/",
          "height": 107
        },
        "id": "0EITrZahYh3G",
        "outputId": "fdc9ff4e-03d8-405c-99c0-523df87c2745"
      },
      "source": [
        "generate_response(\"galaxy\", corpus)"
      ],
      "execution_count": 25,
      "outputs": [
        {
          "output_type": "stream",
          "name": "stderr",
          "text": [
            "/usr/local/lib/python3.7/dist-packages/sklearn/feature_extraction/text.py:385: UserWarning: Your stop_words may be inconsistent with your preprocessing. Tokenizing the stop words generated tokens ['ha', 'le', 'u', 'wa'] not in stop_words.\n",
            "  'stop_words.' % sorted(inconsistent))\n"
          ]
        },
        {
          "output_type": "execute_result",
          "data": {
            "application/vnd.google.colaboratory.intrinsic+json": {
              "type": "string"
            },
            "text/plain": [
              "'after many attempts to infer the second foundation\\'s whereabouts from the few clues available, the foundation is led to believe the second foundation is located on terminus (the \"opposite end of the galaxy\" for a galaxy with a circular shape).'"
            ]
          },
          "metadata": {},
          "execution_count": 25
        }
      ]
    }
  ]
}