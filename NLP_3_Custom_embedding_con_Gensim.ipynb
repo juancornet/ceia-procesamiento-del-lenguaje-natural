{
  "nbformat": 4,
  "nbformat_minor": 0,
  "metadata": {
    "colab": {
      "name": "NLP 3 - Custom embedding con Gensim",
      "provenance": [],
      "collapsed_sections": [
        "3dNtKx42JZw8",
        "INThiy0BJqUY",
        "C01OBelHJsy9"
      ]
    },
    "kernelspec": {
      "name": "python3",
      "display_name": "Python 3"
    }
  },
  "cells": [
    {
      "cell_type": "markdown",
      "metadata": {
        "id": "sZd5yLnnHOK0"
      },
      "source": [
        "<a href=\"https://www.inove.com.ar\"><img src=\"https://github.com/hernancontigiani/ceia_memorias_especializacion/raw/master/Figures/logoFIUBA.jpg\" width=\"500\" align=\"center\"></a>\n",
        "\n",
        "\n",
        "# Procesamiento de lenguaje natural\n",
        "## Custom embedddings con Gensim\n",
        "\n"
      ]
    },
    {
      "cell_type": "markdown",
      "metadata": {
        "id": "vA7nqkumo9z9"
      },
      "source": [
        "### Objetivo\n",
        "El objetivo es utilizar documentos / corpus para crear embeddings de palabras basado en ese contexto. Se utilizarán los corpusde diferentes filosofoso para evaluar la diferencias en las interpretaciones de cada uno de ellos."
      ]
    },
    {
      "cell_type": "code",
      "metadata": {
        "id": "lFToQs5FK5uZ"
      },
      "source": [
        "import pandas as pd\n",
        "import matplotlib.pyplot as plt\n",
        "import seaborn as sns\n",
        "\n",
        "import multiprocessing\n",
        "from gensim.models import Word2Vec"
      ],
      "execution_count": 29,
      "outputs": []
    },
    {
      "cell_type": "markdown",
      "metadata": {
        "id": "g07zJxG7H9vG"
      },
      "source": [
        "### Datos\n",
        "Utilizaremos como dataset el conjunto de texto de cada uno de los autores por separado. En este caso elegimos a Nietzsche, Kant, Hume y Aristoteles."
      ]
    },
    {
      "cell_type": "code",
      "metadata": {
        "colab": {
          "base_uri": "https://localhost:8080/"
        },
        "id": "xjsuElZXV0oM",
        "outputId": "445d882d-3ca7-428e-927c-a795d4cc1b46"
      },
      "source": [
        "# Descargar la carpeta de dataset\n",
        "import os\n",
        "import gdown\n",
        "if os.access('./archive', os.F_OK) is False:\n",
        "    url = 'https://drive.google.com/uc?id=1BL83ikPLHdzorgO5u9XY_PgtIk3TquLv&export=download'\n",
        "    output = 'archive.zip'\n",
        "    gdown.download(url, output, quiet=False)\n",
        "    !unzip -q archive.zip   \n",
        "else:\n",
        "    print(\"El dataset ya se encuentra descargado\")"
      ],
      "execution_count": 30,
      "outputs": [
        {
          "output_type": "stream",
          "name": "stderr",
          "text": [
            "Downloading...\n",
            "From: https://drive.google.com/uc?id=1BL83ikPLHdzorgO5u9XY_PgtIk3TquLv&export=download\n",
            "To: /content/archive.zip\n",
            "100%|██████████| 17.0M/17.0M [00:00<00:00, 124MB/s] \n"
          ]
        },
        {
          "output_type": "stream",
          "name": "stdout",
          "text": [
            "replace aristotle.txt? [y]es, [n]o, [A]ll, [N]one, [r]ename: N\n"
          ]
        }
      ]
    },
    {
      "cell_type": "code",
      "metadata": {
        "colab": {
          "base_uri": "https://localhost:8080/",
          "height": 261
        },
        "id": "HqyRdgMSAQFB",
        "outputId": "19622a6e-7465-415d-be28-8c7978c77b0f"
      },
      "source": [
        "df_hume = pd.read_csv('hume.txt', sep='/n', header=None)\n",
        "df_hume.head()\n",
        "\n"
      ],
      "execution_count": 31,
      "outputs": [
        {
          "output_type": "stream",
          "name": "stderr",
          "text": [
            "/usr/local/lib/python3.7/dist-packages/ipykernel_launcher.py:1: ParserWarning: Falling back to the 'python' engine because the 'c' engine does not support regex separators (separators > 1 char and different from '\\s+' are interpreted as regex); you can avoid this warning by specifying engine='python'.\n",
            "  \"\"\"Entry point for launching an IPython kernel.\n"
          ]
        },
        {
          "output_type": "execute_result",
          "data": {
            "text/html": [
              "<div>\n",
              "<style scoped>\n",
              "    .dataframe tbody tr th:only-of-type {\n",
              "        vertical-align: middle;\n",
              "    }\n",
              "\n",
              "    .dataframe tbody tr th {\n",
              "        vertical-align: top;\n",
              "    }\n",
              "\n",
              "    .dataframe thead th {\n",
              "        text-align: right;\n",
              "    }\n",
              "</style>\n",
              "<table border=\"1\" class=\"dataframe\">\n",
              "  <thead>\n",
              "    <tr style=\"text-align: right;\">\n",
              "      <th></th>\n",
              "      <th>0</th>\n",
              "    </tr>\n",
              "  </thead>\n",
              "  <tbody>\n",
              "    <tr>\n",
              "      <th>0</th>\n",
              "      <td>THE victory which the earl of Richmond gained ...</td>\n",
              "    </tr>\n",
              "    <tr>\n",
              "      <th>1</th>\n",
              "      <td>entirely decisive; being attended, as well wit...</td>\n",
              "    </tr>\n",
              "    <tr>\n",
              "      <th>2</th>\n",
              "      <td>dispersion of the royal army, as with the deat...</td>\n",
              "    </tr>\n",
              "    <tr>\n",
              "      <th>3</th>\n",
              "      <td>for this great success suddenly prompted the s...</td>\n",
              "    </tr>\n",
              "    <tr>\n",
              "      <th>4</th>\n",
              "      <td>battle, to bestow on their victorious general ...</td>\n",
              "    </tr>\n",
              "  </tbody>\n",
              "</table>\n",
              "</div>"
            ],
            "text/plain": [
              "                                                   0\n",
              "0  THE victory which the earl of Richmond gained ...\n",
              "1  entirely decisive; being attended, as well wit...\n",
              "2  dispersion of the royal army, as with the deat...\n",
              "3  for this great success suddenly prompted the s...\n",
              "4  battle, to bestow on their victorious general ..."
            ]
          },
          "metadata": {},
          "execution_count": 31
        }
      ]
    },
    {
      "cell_type": "code",
      "metadata": {
        "colab": {
          "base_uri": "https://localhost:8080/",
          "height": 261
        },
        "id": "5gDtKtLKASJm",
        "outputId": "a3bff05c-b34a-4a56-fbec-79d3d824a52b"
      },
      "source": [
        "df_kant = pd.read_csv('kant.txt', sep='/n', header=None)\n",
        "df_kant.head()\n"
      ],
      "execution_count": 32,
      "outputs": [
        {
          "output_type": "stream",
          "name": "stderr",
          "text": [
            "/usr/local/lib/python3.7/dist-packages/ipykernel_launcher.py:1: ParserWarning: Falling back to the 'python' engine because the 'c' engine does not support regex separators (separators > 1 char and different from '\\s+' are interpreted as regex); you can avoid this warning by specifying engine='python'.\n",
            "  \"\"\"Entry point for launching an IPython kernel.\n"
          ]
        },
        {
          "output_type": "execute_result",
          "data": {
            "text/html": [
              "<div>\n",
              "<style scoped>\n",
              "    .dataframe tbody tr th:only-of-type {\n",
              "        vertical-align: middle;\n",
              "    }\n",
              "\n",
              "    .dataframe tbody tr th {\n",
              "        vertical-align: top;\n",
              "    }\n",
              "\n",
              "    .dataframe thead th {\n",
              "        text-align: right;\n",
              "    }\n",
              "</style>\n",
              "<table border=\"1\" class=\"dataframe\">\n",
              "  <thead>\n",
              "    <tr style=\"text-align: right;\">\n",
              "      <th></th>\n",
              "      <th>0</th>\n",
              "    </tr>\n",
              "  </thead>\n",
              "  <tbody>\n",
              "    <tr>\n",
              "      <th>0</th>\n",
              "      <td>We may call the faculty of cognition from prin...</td>\n",
              "    </tr>\n",
              "    <tr>\n",
              "      <th>1</th>\n",
              "      <td>Reason_, and the inquiry into its possibility ...</td>\n",
              "    </tr>\n",
              "    <tr>\n",
              "      <th>2</th>\n",
              "      <td>Critique of pure Reason, although by this facu...</td>\n",
              "    </tr>\n",
              "    <tr>\n",
              "      <th>3</th>\n",
              "      <td>Reason in its theoretical employment, as it ap...</td>\n",
              "    </tr>\n",
              "    <tr>\n",
              "      <th>4</th>\n",
              "      <td>in the former work; without wishing to inquire...</td>\n",
              "    </tr>\n",
              "  </tbody>\n",
              "</table>\n",
              "</div>"
            ],
            "text/plain": [
              "                                                   0\n",
              "0  We may call the faculty of cognition from prin...\n",
              "1  Reason_, and the inquiry into its possibility ...\n",
              "2  Critique of pure Reason, although by this facu...\n",
              "3  Reason in its theoretical employment, as it ap...\n",
              "4  in the former work; without wishing to inquire..."
            ]
          },
          "metadata": {},
          "execution_count": 32
        }
      ]
    },
    {
      "cell_type": "code",
      "metadata": {
        "colab": {
          "base_uri": "https://localhost:8080/",
          "height": 261
        },
        "id": "hEqwGjzeATzv",
        "outputId": "aad35083-01b6-4d13-bffd-80fc9deb026f"
      },
      "source": [
        "\n",
        "df_aristotle = pd.read_csv('aristotle.txt', sep='/n', header=None)\n",
        "df_aristotle.head()"
      ],
      "execution_count": 33,
      "outputs": [
        {
          "output_type": "stream",
          "name": "stderr",
          "text": [
            "/usr/local/lib/python3.7/dist-packages/ipykernel_launcher.py:2: ParserWarning: Falling back to the 'python' engine because the 'c' engine does not support regex separators (separators > 1 char and different from '\\s+' are interpreted as regex); you can avoid this warning by specifying engine='python'.\n",
            "  \n"
          ]
        },
        {
          "output_type": "execute_result",
          "data": {
            "text/html": [
              "<div>\n",
              "<style scoped>\n",
              "    .dataframe tbody tr th:only-of-type {\n",
              "        vertical-align: middle;\n",
              "    }\n",
              "\n",
              "    .dataframe tbody tr th {\n",
              "        vertical-align: top;\n",
              "    }\n",
              "\n",
              "    .dataframe thead th {\n",
              "        text-align: right;\n",
              "    }\n",
              "</style>\n",
              "<table border=\"1\" class=\"dataframe\">\n",
              "  <thead>\n",
              "    <tr style=\"text-align: right;\">\n",
              "      <th></th>\n",
              "      <th>0</th>\n",
              "    </tr>\n",
              "  </thead>\n",
              "  <tbody>\n",
              "    <tr>\n",
              "      <th>0</th>\n",
              "      <td>Things are said to be named 'equivocally' when...</td>\n",
              "    </tr>\n",
              "    <tr>\n",
              "      <th>1</th>\n",
              "      <td>common name, the definition corresponding with...</td>\n",
              "    </tr>\n",
              "    <tr>\n",
              "      <th>2</th>\n",
              "      <td>each. Thus, a real man and a figure in a pictu...</td>\n",
              "    </tr>\n",
              "    <tr>\n",
              "      <th>3</th>\n",
              "      <td>the name 'animal'; yet these are equivocally s...</td>\n",
              "    </tr>\n",
              "    <tr>\n",
              "      <th>4</th>\n",
              "      <td>have a common name, the definition correspondi...</td>\n",
              "    </tr>\n",
              "  </tbody>\n",
              "</table>\n",
              "</div>"
            ],
            "text/plain": [
              "                                                   0\n",
              "0  Things are said to be named 'equivocally' when...\n",
              "1  common name, the definition corresponding with...\n",
              "2  each. Thus, a real man and a figure in a pictu...\n",
              "3  the name 'animal'; yet these are equivocally s...\n",
              "4  have a common name, the definition correspondi..."
            ]
          },
          "metadata": {},
          "execution_count": 33
        }
      ]
    },
    {
      "cell_type": "code",
      "metadata": {
        "id": "ticoqYD1Z3I7",
        "colab": {
          "base_uri": "https://localhost:8080/",
          "height": 261
        },
        "outputId": "44f95591-a445-4856-ed96-f12ab79260f2"
      },
      "source": [
        "# Armar el dataset utilizando salto de línea para separar las oraciones/docs\n",
        "df_nietzsche = pd.read_csv('nietzsche.txt', sep='/n', header=None)\n",
        "df_nietzsche.head()\n"
      ],
      "execution_count": 34,
      "outputs": [
        {
          "output_type": "stream",
          "name": "stderr",
          "text": [
            "/usr/local/lib/python3.7/dist-packages/ipykernel_launcher.py:2: ParserWarning: Falling back to the 'python' engine because the 'c' engine does not support regex separators (separators > 1 char and different from '\\s+' are interpreted as regex); you can avoid this warning by specifying engine='python'.\n",
            "  \n"
          ]
        },
        {
          "output_type": "execute_result",
          "data": {
            "text/html": [
              "<div>\n",
              "<style scoped>\n",
              "    .dataframe tbody tr th:only-of-type {\n",
              "        vertical-align: middle;\n",
              "    }\n",
              "\n",
              "    .dataframe tbody tr th {\n",
              "        vertical-align: top;\n",
              "    }\n",
              "\n",
              "    .dataframe thead th {\n",
              "        text-align: right;\n",
              "    }\n",
              "</style>\n",
              "<table border=\"1\" class=\"dataframe\">\n",
              "  <thead>\n",
              "    <tr style=\"text-align: right;\">\n",
              "      <th></th>\n",
              "      <th>0</th>\n",
              "    </tr>\n",
              "  </thead>\n",
              "  <tbody>\n",
              "    <tr>\n",
              "      <th>0</th>\n",
              "      <td>What I am now going to relate is the history o...</td>\n",
              "    </tr>\n",
              "    <tr>\n",
              "      <th>1</th>\n",
              "      <td>I shall describe what will happen, what must n...</td>\n",
              "    </tr>\n",
              "    <tr>\n",
              "      <th>2</th>\n",
              "      <td>_the triumph of Nihilism._ This history can be...</td>\n",
              "    </tr>\n",
              "    <tr>\n",
              "      <th>3</th>\n",
              "      <td>necessity itself is at work in bringing it abo...</td>\n",
              "    </tr>\n",
              "    <tr>\n",
              "      <th>4</th>\n",
              "      <td>already proclaimed by a hundred different omen...</td>\n",
              "    </tr>\n",
              "  </tbody>\n",
              "</table>\n",
              "</div>"
            ],
            "text/plain": [
              "                                                   0\n",
              "0  What I am now going to relate is the history o...\n",
              "1  I shall describe what will happen, what must n...\n",
              "2  _the triumph of Nihilism._ This history can be...\n",
              "3  necessity itself is at work in bringing it abo...\n",
              "4  already proclaimed by a hundred different omen..."
            ]
          },
          "metadata": {},
          "execution_count": 34
        }
      ]
    },
    {
      "cell_type": "code",
      "metadata": {
        "id": "LEpKubK9XzXN",
        "colab": {
          "base_uri": "https://localhost:8080/"
        },
        "outputId": "a60d9557-91e9-4ae5-8e57-ac36b77674e9"
      },
      "source": [
        "print(\"Cantidad de documentos, Nietzsche:\", df_nietzsche.shape[0])\n",
        "print(\"Cantidad de documentos, Hume:\", df_hume.shape[0])\n",
        "print(\"Cantidad de documentos, Kant:\", df_kant.shape[0])\n",
        "print(\"Cantidad de documentos:\", df_aristotle.shape[0])"
      ],
      "execution_count": 35,
      "outputs": [
        {
          "output_type": "stream",
          "name": "stdout",
          "text": [
            "Cantidad de documentos, Nietzsche: 54697\n",
            "Cantidad de documentos, Hume: 154175\n",
            "Cantidad de documentos, Kant: 48425\n",
            "Cantidad de documentos: 31977\n"
          ]
        }
      ]
    },
    {
      "cell_type": "markdown",
      "metadata": {
        "id": "ab94qaFlrA1G"
      },
      "source": [
        "### 1 - Preprocesamiento"
      ]
    },
    {
      "cell_type": "code",
      "metadata": {
        "id": "OSb0v7h8r7hK"
      },
      "source": [
        "from gensim.models.callbacks import CallbackAny2Vec\n",
        "# Durante el entrenamiento gensim por defecto no informa el \"loss\" en cada época\n",
        "# Sobracargamos el callback para poder tener esta información\n",
        "class callback(CallbackAny2Vec):\n",
        "    \"\"\"\n",
        "    Callback to print loss after each epoch\n",
        "    \"\"\"\n",
        "    def __init__(self):\n",
        "        self.epoch = 0\n",
        "\n",
        "    def on_epoch_end(self, model):\n",
        "        loss = model.get_latest_training_loss()\n",
        "        if self.epoch == 0:\n",
        "            print('Loss after epoch {}: {}'.format(self.epoch, loss))\n",
        "        else:\n",
        "            print('Loss after epoch {}: {}'.format(self.epoch, loss- self.loss_previous_step))\n",
        "        self.epoch += 1\n",
        "        self.loss_previous_step = loss"
      ],
      "execution_count": 36,
      "outputs": []
    },
    {
      "cell_type": "code",
      "metadata": {
        "id": "rIsmMWmjrDHd"
      },
      "source": [
        "from keras.preprocessing.text import text_to_word_sequence\n",
        "\n",
        "def create_model(df):\n",
        "    sentence_tokens = []\n",
        "\n",
        "    for _, row in df[:None].iterrows():\n",
        "        sentence_tokens.append(text_to_word_sequence(row[0]))\n",
        "\n",
        "    w2v_model = Word2Vec(min_count=5,    # frecuencia mínima de palabra para incluirla en el vocabulario\n",
        "                     window=2,       # cant de palabras antes y desp de la predicha\n",
        "                     size=300,       # dimensionalidad de los vectores \n",
        "                     negative=20,    # cantidad de negative samples... 0 es no se usa\n",
        "                     workers=1,      # si tienen más cores pueden cambiar este valor\n",
        "                     sg=1)           # modelo 0:CBOW  1:skipgram\n",
        "\n",
        "    w2v_model.build_vocab(sentence_tokens)\n",
        "\n",
        "    print(\"Cantidad de docs en el corpus:\", w2v_model.corpus_count)\n",
        "    print(\"Cantidad de words distintas en el corpus:\", len(w2v_model.wv.vocab))\n",
        "\n",
        "    w2v_model.train(sentence_tokens,\n",
        "                 total_examples=w2v_model.corpus_count,\n",
        "                 epochs=20,\n",
        "                 compute_loss = True,\n",
        "                 callbacks=[callback()]\n",
        "                 )\n",
        "    \n",
        "    return w2v_model"
      ],
      "execution_count": 37,
      "outputs": []
    },
    {
      "cell_type": "markdown",
      "metadata": {
        "id": "BaXV6nlHr5Aa"
      },
      "source": [
        "### 2 - Crear los vectores (word2vec)"
      ]
    },
    {
      "cell_type": "markdown",
      "metadata": {
        "id": "fC9mZ8DPk-UC"
      },
      "source": [
        "### 3 - Entrenar el modelo generador"
      ]
    },
    {
      "cell_type": "code",
      "metadata": {
        "id": "QSp-x0PAsq56",
        "colab": {
          "base_uri": "https://localhost:8080/"
        },
        "outputId": "a09d021e-21ce-4964-a58b-9ff3dd6af44b"
      },
      "source": [
        "# Entrenamos el modelo generador de vectores\n",
        "\n",
        "w2v_aristotle = create_model(df_aristotle)"
      ],
      "execution_count": 38,
      "outputs": [
        {
          "output_type": "stream",
          "name": "stdout",
          "text": [
            "Cantidad de docs en el corpus: 31977\n",
            "Cantidad de words distintas en el corpus: 4649\n",
            "Loss after epoch 0: 2403093.75\n",
            "Loss after epoch 1: 1801277.25\n",
            "Loss after epoch 2: 1653045.0\n",
            "Loss after epoch 3: 1635215.0\n",
            "Loss after epoch 4: 1585498.0\n",
            "Loss after epoch 5: 1534436.0\n",
            "Loss after epoch 6: 1517969.0\n",
            "Loss after epoch 7: 1502319.0\n",
            "Loss after epoch 8: 1489356.0\n",
            "Loss after epoch 9: 1484057.0\n",
            "Loss after epoch 10: 1428536.0\n",
            "Loss after epoch 11: 1411410.0\n",
            "Loss after epoch 12: 1404964.0\n",
            "Loss after epoch 13: 1399986.0\n",
            "Loss after epoch 14: 1396676.0\n",
            "Loss after epoch 15: 1392566.0\n",
            "Loss after epoch 16: 1391966.0\n",
            "Loss after epoch 17: 1391906.0\n",
            "Loss after epoch 18: 1397022.0\n",
            "Loss after epoch 19: 1407960.0\n"
          ]
        }
      ]
    },
    {
      "cell_type": "code",
      "metadata": {
        "colab": {
          "base_uri": "https://localhost:8080/"
        },
        "id": "W-MzWWHvGKzT",
        "outputId": "0fd22507-655b-477a-adec-a36132cc8103"
      },
      "source": [
        "w2v_kanr = create_model(df_kant)"
      ],
      "execution_count": 39,
      "outputs": [
        {
          "output_type": "stream",
          "name": "stdout",
          "text": [
            "Cantidad de docs en el corpus: 48425\n",
            "Cantidad de words distintas en el corpus: 4564\n",
            "Loss after epoch 0: 3205007.75\n",
            "Loss after epoch 1: 2438415.75\n",
            "Loss after epoch 2: 2351424.0\n",
            "Loss after epoch 3: 2252797.5\n",
            "Loss after epoch 4: 2216432.0\n",
            "Loss after epoch 5: 2191654.0\n",
            "Loss after epoch 6: 2177567.0\n",
            "Loss after epoch 7: 2105522.0\n",
            "Loss after epoch 8: 2086442.0\n",
            "Loss after epoch 9: 2075064.0\n",
            "Loss after epoch 10: 2058578.0\n",
            "Loss after epoch 11: 2048620.0\n",
            "Loss after epoch 12: 2039742.0\n",
            "Loss after epoch 13: 2030902.0\n",
            "Loss after epoch 14: 2025888.0\n",
            "Loss after epoch 15: 2145336.0\n",
            "Loss after epoch 16: 2161804.0\n",
            "Loss after epoch 17: 2168832.0\n",
            "Loss after epoch 18: 2190140.0\n",
            "Loss after epoch 19: 2210232.0\n"
          ]
        }
      ]
    },
    {
      "cell_type": "code",
      "metadata": {
        "colab": {
          "base_uri": "https://localhost:8080/"
        },
        "id": "FSco-Yb5GPLu",
        "outputId": "0722dd5c-04a7-42c5-ba9c-0bf5802ac56e"
      },
      "source": [
        "w2v_nietzsche = create_model(df_nietzsche)"
      ],
      "execution_count": 40,
      "outputs": [
        {
          "output_type": "stream",
          "name": "stdout",
          "text": [
            "Cantidad de docs en el corpus: 54697\n",
            "Cantidad de words distintas en el corpus: 7777\n",
            "Loss after epoch 0: 3866808.5\n",
            "Loss after epoch 1: 2769714.0\n",
            "Loss after epoch 2: 2691383.5\n",
            "Loss after epoch 3: 2609977.0\n",
            "Loss after epoch 4: 2578673.0\n",
            "Loss after epoch 5: 2549616.0\n",
            "Loss after epoch 6: 2475424.0\n",
            "Loss after epoch 7: 2443630.0\n",
            "Loss after epoch 8: 2416090.0\n",
            "Loss after epoch 9: 2389938.0\n",
            "Loss after epoch 10: 2362490.0\n",
            "Loss after epoch 11: 2335822.0\n",
            "Loss after epoch 12: 2343646.0\n",
            "Loss after epoch 13: 2476588.0\n",
            "Loss after epoch 14: 2450888.0\n",
            "Loss after epoch 15: 2434240.0\n",
            "Loss after epoch 16: 2412660.0\n",
            "Loss after epoch 17: 2405060.0\n",
            "Loss after epoch 18: 2400692.0\n",
            "Loss after epoch 19: 2424288.0\n"
          ]
        }
      ]
    },
    {
      "cell_type": "code",
      "metadata": {
        "colab": {
          "base_uri": "https://localhost:8080/"
        },
        "id": "PE1JMB-OGWTn",
        "outputId": "67cd90c0-be39-4ac7-964f-f6b74dd46002"
      },
      "source": [
        "w2v_hume = create_model(df_hume)"
      ],
      "execution_count": 41,
      "outputs": [
        {
          "output_type": "stream",
          "name": "stdout",
          "text": [
            "Cantidad de docs en el corpus: 154175\n",
            "Cantidad de words distintas en el corpus: 12089\n",
            "Loss after epoch 0: 9505246.0\n",
            "Loss after epoch 1: 7684452.0\n",
            "Loss after epoch 2: 7301788.0\n",
            "Loss after epoch 3: 7154556.0\n",
            "Loss after epoch 4: 7244666.0\n",
            "Loss after epoch 5: 7196700.0\n",
            "Loss after epoch 6: 7052732.0\n",
            "Loss after epoch 7: 6938700.0\n",
            "Loss after epoch 8: 6819652.0\n",
            "Loss after epoch 9: 1680540.0\n",
            "Loss after epoch 10: 1494696.0\n",
            "Loss after epoch 11: 1461624.0\n",
            "Loss after epoch 12: 1421904.0\n",
            "Loss after epoch 13: 1387240.0\n",
            "Loss after epoch 14: 1349552.0\n",
            "Loss after epoch 15: 1317720.0\n",
            "Loss after epoch 16: 1280560.0\n",
            "Loss after epoch 17: 1246576.0\n",
            "Loss after epoch 18: 1217440.0\n",
            "Loss after epoch 19: 1200272.0\n"
          ]
        }
      ]
    },
    {
      "cell_type": "markdown",
      "metadata": {
        "id": "ddT9NVuNlCAe"
      },
      "source": [
        "### Evaluacion de modelos\n",
        "\n",
        "#### Hume"
      ]
    },
    {
      "cell_type": "code",
      "metadata": {
        "id": "6cHN9xGLuPEm",
        "colab": {
          "base_uri": "https://localhost:8080/"
        },
        "outputId": "e0b900f6-ba44-427a-fb1a-bfa334424b10"
      },
      "source": [
        "w2v_hume.wv.most_similar(positive=[\"god\"], topn=5)"
      ],
      "execution_count": 42,
      "outputs": [
        {
          "output_type": "execute_result",
          "data": {
            "text/plain": [
              "[('curse', 0.49214187264442444),\n",
              " ('god’s', 0.4783207178115845),\n",
              " ('savior', 0.4697226881980896),\n",
              " ('forbid', 0.4689366817474365),\n",
              " ('heaven', 0.4667375385761261)]"
            ]
          },
          "metadata": {},
          "execution_count": 42
        }
      ]
    },
    {
      "cell_type": "code",
      "metadata": {
        "id": "47HiU5gdkdMq",
        "colab": {
          "base_uri": "https://localhost:8080/"
        },
        "outputId": "778b5b61-eee1-4a6d-f885-b6c88a75523c"
      },
      "source": [
        "w2v_hume.wv.most_similar(positive=[\"truth\"], topn=5)"
      ],
      "execution_count": 43,
      "outputs": [
        {
          "output_type": "execute_result",
          "data": {
            "text/plain": [
              "[('sweetness', 0.45587295293807983),\n",
              " ('assenting', 0.4500746726989746),\n",
              " ('astronomy', 0.44134700298309326),\n",
              " ('withal', 0.42235422134399414),\n",
              " ('reader', 0.42134958505630493)]"
            ]
          },
          "metadata": {},
          "execution_count": 43
        }
      ]
    },
    {
      "cell_type": "code",
      "metadata": {
        "id": "DT4Rvno2mD65",
        "colab": {
          "base_uri": "https://localhost:8080/"
        },
        "outputId": "51e0f0b1-4b4d-45ac-e319-9bb60c54d3c1"
      },
      "source": [
        "w2v_hume.wv.most_similar(positive=[\"love\"], topn=5)"
      ],
      "execution_count": 44,
      "outputs": [
        {
          "output_type": "execute_result",
          "data": {
            "text/plain": [
              "[('pity', 0.48173290491104126),\n",
              " ('dislike', 0.4709981679916382),\n",
              " ('fumes', 0.4703837037086487),\n",
              " ('contempt', 0.46717074513435364),\n",
              " ('humility', 0.46627748012542725)]"
            ]
          },
          "metadata": {},
          "execution_count": 44
        }
      ]
    },
    {
      "cell_type": "markdown",
      "metadata": {
        "id": "3dNtKx42JZw8"
      },
      "source": [
        "#### Kant"
      ]
    },
    {
      "cell_type": "code",
      "metadata": {
        "colab": {
          "base_uri": "https://localhost:8080/"
        },
        "id": "ZlbUwcxXJYop",
        "outputId": "bb2a7c25-4169-461d-9448-5658d7d17f1e"
      },
      "source": [
        "w2v_kanr.wv.most_similar(positive=[\"god\"], topn=5)"
      ],
      "execution_count": 45,
      "outputs": [
        {
          "output_type": "execute_result",
          "data": {
            "text/plain": [
              "[('divine', 0.530991792678833),\n",
              " ('immortality', 0.521170973777771),\n",
              " ('physician', 0.4907466173171997),\n",
              " ('deity', 0.48998719453811646),\n",
              " ('personality', 0.48404788970947266)]"
            ]
          },
          "metadata": {},
          "execution_count": 45
        }
      ]
    },
    {
      "cell_type": "code",
      "metadata": {
        "colab": {
          "base_uri": "https://localhost:8080/"
        },
        "id": "P6mzI9zLJkET",
        "outputId": "109aeda4-85c5-4a84-8e38-4600bf94d797"
      },
      "source": [
        "w2v_kanr.wv.most_similar(positive=[\"truth\"], topn=5)"
      ],
      "execution_count": 46,
      "outputs": [
        {
          "output_type": "execute_result",
          "data": {
            "text/plain": [
              "[('falsehood', 0.545657217502594),\n",
              " ('falsity', 0.5106203556060791),\n",
              " ('incompetent', 0.5029391050338745),\n",
              " ('impossibility', 0.4763123691082001),\n",
              " ('assertion', 0.4720863401889801)]"
            ]
          },
          "metadata": {},
          "execution_count": 46
        }
      ]
    },
    {
      "cell_type": "code",
      "metadata": {
        "colab": {
          "base_uri": "https://localhost:8080/"
        },
        "id": "ZSpwb7ZOJkQQ",
        "outputId": "30daac9a-a636-41d8-e426-267cafec6303"
      },
      "source": [
        "w2v_kanr.wv.most_similar(positive=[\"love\"], topn=5)"
      ],
      "execution_count": 47,
      "outputs": [
        {
          "output_type": "execute_result",
          "data": {
            "text/plain": [
              "[('denial', 0.6088111400604248),\n",
              " ('approve', 0.5773358345031738),\n",
              " ('selfishness', 0.5720782279968262),\n",
              " ('prayers', 0.5572217702865601),\n",
              " ('propensities', 0.5534285306930542)]"
            ]
          },
          "metadata": {},
          "execution_count": 47
        }
      ]
    },
    {
      "cell_type": "markdown",
      "metadata": {
        "id": "INThiy0BJqUY"
      },
      "source": [
        "#### Aristotle"
      ]
    },
    {
      "cell_type": "code",
      "metadata": {
        "id": "3H5B4AIpJsWg",
        "colab": {
          "base_uri": "https://localhost:8080/"
        },
        "outputId": "d1e0f63f-ec53-433a-b893-a32186010f27"
      },
      "source": [
        "w2v_aristotle.wv.most_similar(positive=[\"god\"], topn=5)"
      ],
      "execution_count": 48,
      "outputs": [
        {
          "output_type": "execute_result",
          "data": {
            "text/plain": [
              "[('shoe', 0.7328649163246155),\n",
              " ('lemnos', 0.7284876704216003),\n",
              " ('expenses', 0.728395938873291),\n",
              " ('sophist', 0.72465980052948),\n",
              " ('lawgiver', 0.7230583429336548)]"
            ]
          },
          "metadata": {},
          "execution_count": 48
        }
      ]
    },
    {
      "cell_type": "code",
      "metadata": {
        "id": "ufxD5jYzJsjk",
        "colab": {
          "base_uri": "https://localhost:8080/"
        },
        "outputId": "43be3000-489f-4005-d242-bece3bab3284"
      },
      "source": [
        "w2v_aristotle.wv.most_similar(positive=[\"truth\"], topn=5)"
      ],
      "execution_count": 49,
      "outputs": [
        {
          "output_type": "execute_result",
          "data": {
            "text/plain": [
              "[('gnomae', 0.6589851379394531),\n",
              " ('experience', 0.6587479710578918),\n",
              " ('mine', 0.6425724029541016),\n",
              " ('phronesis', 0.641693651676178),\n",
              " ('tragic', 0.6355767250061035)]"
            ]
          },
          "metadata": {},
          "execution_count": 49
        }
      ]
    },
    {
      "cell_type": "code",
      "metadata": {
        "id": "KGDZRf_JJsmJ",
        "colab": {
          "base_uri": "https://localhost:8080/"
        },
        "outputId": "897233c1-7379-4227-9060-5a391afcd241"
      },
      "source": [
        "w2v_aristotle.wv.most_similar(positive=[\"love\"], topn=5)"
      ],
      "execution_count": 50,
      "outputs": [
        {
          "output_type": "execute_result",
          "data": {
            "text/plain": [
              "[('envy', 0.6429694294929504),\n",
              " ('wants', 0.6347129344940186),\n",
              " ('utility', 0.6136761903762817),\n",
              " ('values', 0.608590841293335),\n",
              " ('dishonour', 0.6044912338256836)]"
            ]
          },
          "metadata": {},
          "execution_count": 50
        }
      ]
    },
    {
      "cell_type": "markdown",
      "metadata": {
        "id": "C01OBelHJsy9"
      },
      "source": [
        "#### Nietzsche"
      ]
    },
    {
      "cell_type": "code",
      "metadata": {
        "id": "hnyljSQqJtB6",
        "colab": {
          "base_uri": "https://localhost:8080/"
        },
        "outputId": "d73662bf-0844-4dcc-fe9e-17806ef5fc14"
      },
      "source": [
        "w2v_nietzsche.wv.most_similar(positive=[\"god\"], topn=5)"
      ],
      "execution_count": 51,
      "outputs": [
        {
          "output_type": "execute_result",
          "data": {
            "text/plain": [
              "[('maid', 0.44852370023727417),\n",
              " ('delphic', 0.4399888515472412),\n",
              " ('punishes', 0.4374995827674866),\n",
              " ('beloved', 0.4363768696784973),\n",
              " ('blasphemy', 0.4347548484802246)]"
            ]
          },
          "metadata": {},
          "execution_count": 51
        }
      ]
    },
    {
      "cell_type": "code",
      "metadata": {
        "id": "wT3FvFVBJtFS",
        "colab": {
          "base_uri": "https://localhost:8080/"
        },
        "outputId": "a8ff1272-e275-4082-f53b-ce9bc0e71ae8"
      },
      "source": [
        "w2v_nietzsche.wv.most_similar(positive=[\"truth\"], topn=5)"
      ],
      "execution_count": 52,
      "outputs": [
        {
          "output_type": "execute_result",
          "data": {
            "text/plain": [
              "[('martyrs', 0.5049238204956055),\n",
              " ('fidelity', 0.4889427423477173),\n",
              " ('‘i', 0.47673070430755615),\n",
              " ('justice', 0.47319066524505615),\n",
              " ('socialism', 0.47144877910614014)]"
            ]
          },
          "metadata": {},
          "execution_count": 52
        }
      ]
    },
    {
      "cell_type": "code",
      "metadata": {
        "id": "ScYmu5a1JtPV",
        "colab": {
          "base_uri": "https://localhost:8080/"
        },
        "outputId": "329107de-e5bc-4542-d014-58f1f301204c"
      },
      "source": [
        "w2v_nietzsche.wv.most_similar(positive=[\"love\"], topn=5)"
      ],
      "execution_count": 53,
      "outputs": [
        {
          "output_type": "execute_result",
          "data": {
            "text/plain": [
              "[('fidelity', 0.497587651014328),\n",
              " ('tickle', 0.49569636583328247),\n",
              " ('hate', 0.4927929639816284),\n",
              " ('charity', 0.4907481074333191),\n",
              " ('unlearn', 0.4890514612197876)]"
            ]
          },
          "metadata": {},
          "execution_count": 53
        }
      ]
    },
    {
      "cell_type": "markdown",
      "metadata": {
        "id": "MKEgjVBvRW0H"
      },
      "source": [
        "### Analisis de resultados"
      ]
    },
    {
      "cell_type": "markdown",
      "metadata": {
        "id": "4nSe1B_kQvpp"
      },
      "source": [
        "|       | God | Truth     | Love |\n",
        "| :---        |    :----:   |          :---: |:---: |\n",
        "| Aristotle      | Shoe, Lemnos, Expenses, Sophist, Lawgiver       |Gnomae, Experience, Mine, Phronesis, Tragic   |Envy, Wants, Utility, Values, Dishonour|\n",
        "| Kant   | Divine, Immortality, Physician, Deity, Personality        | Falsehood, Falsity, Incompetent, Impossibility, Assertion      |Denial, Approve, Selfishness, Prayers, Propensities|\n",
        "| Hume   | Curse, God, Savior, Forbid, Heaven        | Sweetness, Assenting, Astronomy, Withal, Reader      |Pity, Dislike, Fumes, Contempt, Humility|\n",
        "| Nietzsche   | Maid, Delphic, Punishes, Beloved, Blasphemy        | Martyrs, Fidelity, I, Justice, Socialism      | Fidelity, Tickle, Hate, Charity, Unlearn|"
      ]
    },
    {
      "cell_type": "markdown",
      "metadata": {
        "id": "0TEjlmg8Sa4o"
      },
      "source": [
        "Lejos de ser un conocedor en el tema, es mas, me gustaria serlo para poder hacer una evaluacion mas cierta de los modelos, me parece que se puede evidenciar en los resultados las diferentes interpretaciones que hacen los autores sobre algunos de los topicos que mas han inquietado al hombre desde el inicio de su existencia. **Dios** por ejemplo, es para Kant expresion de divinidad e inmortalidad mientras que para Hume es quien maldice y prohibe, aunque tambien tiene alguna cercania con la palabra salvador. El **Amor** por otro lado, mientras que en los textos de Nietzsche aparece cercano a la fidelidad y la caridad, en Aristoteles parece estar asociado a algo que se quiere o algo que tenga utilidad."
      ]
    }
  ]
}