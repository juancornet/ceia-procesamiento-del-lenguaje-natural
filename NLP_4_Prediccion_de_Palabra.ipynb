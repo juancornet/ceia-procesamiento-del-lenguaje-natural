{
  "nbformat": 4,
  "nbformat_minor": 0,
  "metadata": {
    "colab": {
      "name": "NLP 4 - Prediccion de Palabra.ipynb",
      "provenance": [],
      "collapsed_sections": []
    },
    "kernelspec": {
      "name": "python3",
      "display_name": "Python 3"
    },
    "language_info": {
      "name": "python"
    },
    "accelerator": "GPU"
  },
  "cells": [
    {
      "cell_type": "markdown",
      "metadata": {
        "id": "g3yeJGnCYxuF"
      },
      "source": [
        "<a href=\"https://www.inove.com.ar\"><img src=\"https://github.com/hernancontigiani/ceia_memorias_especializacion/raw/master/Figures/logoFIUBA.jpg\" width=\"500\" align=\"center\"></a>\n",
        "\n",
        "\n",
        "# Procesamiento de lenguaje natural\n",
        "## Predicción de próxima palabra"
      ]
    },
    {
      "cell_type": "markdown",
      "metadata": {
        "id": "Iv5PEwGzZA9-"
      },
      "source": [
        "### Objetivo\n",
        "El objetivo es utilizar documentos / corpus para crear embeddings de palabras basado en ese contexto utilizando la layer Embedding de Keras. Se utilizará esos embeddings junto con layers LSTM para predeccir la próxima posible palabra."
      ]
    },
    {
      "cell_type": "code",
      "metadata": {
        "id": "Y-QdFbHZYj7C"
      },
      "source": [
        "import random\n",
        "import io\n",
        "import pickle\n",
        "\n",
        "import numpy as np\n",
        "import pandas as pd\n",
        "\n",
        "from tensorflow import keras\n",
        "from tensorflow.keras import layers\n",
        "from keras.utils.np_utils import to_categorical\n",
        "from keras.models import Sequential\n",
        "from keras.layers import Dense, LSTM, Embedding, Dropout, Bidirectional"
      ],
      "execution_count": 101,
      "outputs": []
    },
    {
      "cell_type": "markdown",
      "metadata": {
        "id": "xTvXlEKQZdqx"
      },
      "source": [
        "### Datos\n",
        "Utilizaremos como dataset canciones de bandas de habla inglés."
      ]
    },
    {
      "cell_type": "code",
      "metadata": {
        "id": "IkdPfrQJZdB5",
        "colab": {
          "base_uri": "https://localhost:8080/"
        },
        "outputId": "92829d3c-380f-4995-e2f8-fd50055c1d86"
      },
      "source": [
        "# Descargar la carpeta de dataset\n",
        "import os\n",
        "import gdown\n",
        "if os.access('./songs_dataset', os.F_OK) is False:\n",
        "    if os.access('simpsons_dataset.zip', os.F_OK) is False:\n",
        "        url = 'https://drive.google.com/uc?id=1VLVgb3fD02XrF2V5OruKvQTOT91juXcs&export=download'\n",
        "        output = 'songs_dataset.zip'\n",
        "        gdown.download(url, output, quiet=False)\n",
        "    !unzip -q songs_dataset.zip\n",
        "else:\n",
        "    print(\"El dataset ya se encuentra descargado\")"
      ],
      "execution_count": 102,
      "outputs": [
        {
          "output_type": "stream",
          "name": "stdout",
          "text": [
            "El dataset ya se encuentra descargado\n"
          ]
        }
      ]
    },
    {
      "cell_type": "code",
      "metadata": {
        "id": "5omO4Vc0cf5S",
        "colab": {
          "base_uri": "https://localhost:8080/"
        },
        "outputId": "aa49382a-0581-47b1-c123-1ae4719a0f5d"
      },
      "source": [
        "# Posibles bandas\n",
        "os.listdir(\"./songs_dataset/\")"
      ],
      "execution_count": 103,
      "outputs": [
        {
          "output_type": "execute_result",
          "data": {
            "text/plain": [
              "['bjork.txt',\n",
              " 'jimi-hendrix.txt',\n",
              " 'nirvana.txt',\n",
              " 'adele.txt',\n",
              " 'lady-gaga.txt',\n",
              " 'bruce-springsteen.txt',\n",
              " 'dolly-parton.txt',\n",
              " 'lorde.txt',\n",
              " 'dickinson.txt',\n",
              " 'britney-spears.txt',\n",
              " 'leonard-cohen.txt',\n",
              " 'cake.txt',\n",
              " 'janisjoplin.txt',\n",
              " 'bob-dylan.txt',\n",
              " 'ludacris.txt',\n",
              " 'alicia-keys.txt',\n",
              " 'beatles.txt',\n",
              " 'al-green.txt',\n",
              " 'prince.txt',\n",
              " 'radiohead.txt',\n",
              " 'notorious_big.txt',\n",
              " 'disney.txt',\n",
              " 'nursery_rhymes.txt',\n",
              " 'amy-winehouse.txt',\n",
              " 'notorious-big.txt',\n",
              " 'blink-182.txt',\n",
              " 'bieber.txt',\n",
              " 'joni-mitchell.txt',\n",
              " 'nicki-minaj.txt',\n",
              " 'missy-elliott.txt',\n",
              " 'r-kelly.txt',\n",
              " 'michael-jackson.txt',\n",
              " 'nickelback.txt',\n",
              " 'lil-wayne.txt',\n",
              " 'lin-manuel-miranda.txt',\n",
              " 'dj-khaled.txt',\n",
              " 'kanye-west.txt',\n",
              " 'dr-seuss.txt',\n",
              " 'bob-marley.txt',\n",
              " 'johnny-cash.txt',\n",
              " 'kanye.txt',\n",
              " 'paul-simon.txt',\n",
              " 'rihanna.txt',\n",
              " 'bruno-mars.txt',\n",
              " 'eminem.txt',\n",
              " 'drake.txt',\n",
              " 'Lil_Wayne.txt',\n",
              " 'Kanye_West.txt',\n",
              " 'patti-smith.txt']"
            ]
          },
          "metadata": {},
          "execution_count": 103
        }
      ]
    },
    {
      "cell_type": "code",
      "metadata": {
        "id": "Gb39v3PaZmRH",
        "colab": {
          "base_uri": "https://localhost:8080/",
          "height": 261
        },
        "outputId": "6161ce61-f0e9-41bc-e518-085c92e2d727"
      },
      "source": [
        "# Armar el dataset utilizando salto de línea para separar las oraciones/docs\n",
        "df = pd.read_csv('songs_dataset/nirvana.txt', sep='/n', header=None)\n",
        "df.head()"
      ],
      "execution_count": 104,
      "outputs": [
        {
          "output_type": "stream",
          "name": "stderr",
          "text": [
            "/usr/local/lib/python3.7/dist-packages/ipykernel_launcher.py:2: ParserWarning: Falling back to the 'python' engine because the 'c' engine does not support regex separators (separators > 1 char and different from '\\s+' are interpreted as regex); you can avoid this warning by specifying engine='python'.\n",
            "  \n"
          ]
        },
        {
          "output_type": "execute_result",
          "data": {
            "text/html": [
              "<div>\n",
              "<style scoped>\n",
              "    .dataframe tbody tr th:only-of-type {\n",
              "        vertical-align: middle;\n",
              "    }\n",
              "\n",
              "    .dataframe tbody tr th {\n",
              "        vertical-align: top;\n",
              "    }\n",
              "\n",
              "    .dataframe thead th {\n",
              "        text-align: right;\n",
              "    }\n",
              "</style>\n",
              "<table border=\"1\" class=\"dataframe\">\n",
              "  <thead>\n",
              "    <tr style=\"text-align: right;\">\n",
              "      <th></th>\n",
              "      <th>0</th>\n",
              "    </tr>\n",
              "  </thead>\n",
              "  <tbody>\n",
              "    <tr>\n",
              "      <th>0</th>\n",
              "      <td>Load up on guns, bring your friends</td>\n",
              "    </tr>\n",
              "    <tr>\n",
              "      <th>1</th>\n",
              "      <td>It's fun to lose and to pretend</td>\n",
              "    </tr>\n",
              "    <tr>\n",
              "      <th>2</th>\n",
              "      <td>She's over-bored and self-assured</td>\n",
              "    </tr>\n",
              "    <tr>\n",
              "      <th>3</th>\n",
              "      <td>Oh no, I know a dirty word Hello, hello, hello...</td>\n",
              "    </tr>\n",
              "    <tr>\n",
              "      <th>4</th>\n",
              "      <td>Hello, hello, hello, how low</td>\n",
              "    </tr>\n",
              "  </tbody>\n",
              "</table>\n",
              "</div>"
            ],
            "text/plain": [
              "                                                   0\n",
              "0                Load up on guns, bring your friends\n",
              "1                    It's fun to lose and to pretend\n",
              "2                  She's over-bored and self-assured\n",
              "3  Oh no, I know a dirty word Hello, hello, hello...\n",
              "4                       Hello, hello, hello, how low"
            ]
          },
          "metadata": {},
          "execution_count": 104
        }
      ]
    },
    {
      "cell_type": "code",
      "metadata": {
        "id": "riT898QlZnmF",
        "colab": {
          "base_uri": "https://localhost:8080/"
        },
        "outputId": "b0655e00-587b-4dcc-bf15-7ceef769ee10"
      },
      "source": [
        "print(\"Cantidad de documentos:\", df.shape[0])"
      ],
      "execution_count": 105,
      "outputs": [
        {
          "output_type": "stream",
          "name": "stdout",
          "text": [
            "Cantidad de documentos: 1985\n"
          ]
        }
      ]
    },
    {
      "cell_type": "markdown",
      "metadata": {
        "id": "RDoouHp7Zp6D"
      },
      "source": [
        "### Ejemplo de Preprocesamiento\n",
        "- Hay que transformar las oraciones en tokens.\n",
        "- Dichas oraciones hay que ajustarlas al tamaño fijo de nuestra sentencia de entrada al modelo.\n",
        "- Hay que separar las palabras objetivos (target) que el modelo debe predecir en cada sentencia armada."
      ]
    },
    {
      "cell_type": "code",
      "metadata": {
        "id": "m5FeTaGvbDbw"
      },
      "source": [
        "from keras.preprocessing.text import Tokenizer # equivalente a ltokenizer de nltk\n",
        "from keras.preprocessing.text import text_to_word_sequence # equivalente a word_teokenize de nltk\n",
        "from keras.preprocessing.sequence import pad_sequences # se utilizará para padding\n",
        "\n",
        "# largo de la secuencia, incluye seq input + word output\n",
        "train_len = 4"
      ],
      "execution_count": 106,
      "outputs": []
    },
    {
      "cell_type": "code",
      "metadata": {
        "id": "Zf3O7eK6ZpP8",
        "colab": {
          "base_uri": "https://localhost:8080/",
          "height": 35
        },
        "outputId": "d4e1881b-49e4-44c2-f924-4194ca84de0f"
      },
      "source": [
        "# Ejemplo de como transformar una oración a tokens usando keras\n",
        "text = df.loc[0,0]\n",
        "text"
      ],
      "execution_count": 107,
      "outputs": [
        {
          "output_type": "execute_result",
          "data": {
            "application/vnd.google.colaboratory.intrinsic+json": {
              "type": "string"
            },
            "text/plain": [
              "'Load up on guns, bring your friends'"
            ]
          },
          "metadata": {},
          "execution_count": 107
        }
      ]
    },
    {
      "cell_type": "code",
      "metadata": {
        "id": "AOv67Sj7aeFH",
        "colab": {
          "base_uri": "https://localhost:8080/"
        },
        "outputId": "3882d68a-fa25-4d66-d4f4-54985aece42c"
      },
      "source": [
        "tokens = text_to_word_sequence(text) # entran oraciones -> salen vectores de N posiciones (tokens)\n",
        "tokens"
      ],
      "execution_count": 108,
      "outputs": [
        {
          "output_type": "execute_result",
          "data": {
            "text/plain": [
              "['load', 'up', 'on', 'guns', 'bring', 'your', 'friends']"
            ]
          },
          "metadata": {},
          "execution_count": 108
        }
      ]
    },
    {
      "cell_type": "markdown",
      "metadata": {
        "id": "ZrlyqkoiaymK"
      },
      "source": [
        "1.1 - Transformar las oraciones en secuencias (tokens) de palabras"
      ]
    },
    {
      "cell_type": "code",
      "metadata": {
        "id": "XH_L14Wjaowe"
      },
      "source": [
        "# Recorrer todas las filas y transformar las oraciones\n",
        "# en secuencias de palabras\n",
        "sentence_tokens = []\n",
        "for _, row in df[:None].iterrows():\n",
        "    sentence_tokens.append(text_to_word_sequence(row[0]))"
      ],
      "execution_count": 109,
      "outputs": []
    },
    {
      "cell_type": "code",
      "metadata": {
        "id": "KASzU4CdaxbZ",
        "colab": {
          "base_uri": "https://localhost:8080/"
        },
        "outputId": "402e0d27-d0a5-41bf-c10f-08ac4164e714"
      },
      "source": [
        "# Demos un vistazo\n",
        "sentence_tokens[:2]"
      ],
      "execution_count": 110,
      "outputs": [
        {
          "output_type": "execute_result",
          "data": {
            "text/plain": [
              "[['load', 'up', 'on', 'guns', 'bring', 'your', 'friends'],\n",
              " [\"it's\", 'fun', 'to', 'lose', 'and', 'to', 'pretend']]"
            ]
          },
          "metadata": {},
          "execution_count": 110
        }
      ]
    },
    {
      "cell_type": "code",
      "metadata": {
        "id": "A659lswTbIIB"
      },
      "source": [
        "# Código para hacer el desfazaje de las palabras\n",
        "# según el train_len\n",
        "text_sequences = []\n",
        "\n",
        "for i in range(train_len, len(tokens)):\n",
        "  seq = tokens[i-train_len:i]\n",
        "  text_sequences.append(seq)"
      ],
      "execution_count": 111,
      "outputs": []
    },
    {
      "cell_type": "code",
      "metadata": {
        "id": "01JEoPPnbgRF",
        "colab": {
          "base_uri": "https://localhost:8080/"
        },
        "outputId": "40081fd7-5d5a-4319-ca9f-b34e65bb2697"
      },
      "source": [
        "# Demos un vistazo a nuestros vectores para entrenar el modelo\n",
        "text_sequences "
      ],
      "execution_count": 112,
      "outputs": [
        {
          "output_type": "execute_result",
          "data": {
            "text/plain": [
              "[['load', 'up', 'on', 'guns'],\n",
              " ['up', 'on', 'guns', 'bring'],\n",
              " ['on', 'guns', 'bring', 'your']]"
            ]
          },
          "metadata": {},
          "execution_count": 112
        }
      ]
    },
    {
      "cell_type": "markdown",
      "metadata": {
        "id": "4B0gHnKVa4W_"
      },
      "source": [
        "1.2 - Crear los vectores de palabras (word2vec)\n",
        "\n",
        "Ahora necesitamos pasarlos a números para que lo entienda la red y separar input de output.\n",
        "- El Input seran integers (word2vec)\n",
        "- Mientras que el output será one hot encodeado (labels) del tamaño del vocabulario"
      ]
    },
    {
      "cell_type": "code",
      "metadata": {
        "id": "fkPNvXeQcS0U"
      },
      "source": [
        "tok = Tokenizer() \n",
        "\n",
        "# El tokeinzer \"aprende\" las palabras que se usaran\n",
        "# Se construye (fit) una vez por proyecto, se aplica N veces (tal cual un encoder)\n",
        "tok.fit_on_texts(text_sequences) \n",
        "\n",
        "# Convertimos las palabras a números\n",
        "# entran palabras -> salen números\n",
        "sequences = tok.texts_to_sequences(text_sequences)"
      ],
      "execution_count": 113,
      "outputs": []
    },
    {
      "cell_type": "code",
      "metadata": {
        "id": "4SIc44IocyQb",
        "colab": {
          "base_uri": "https://localhost:8080/"
        },
        "outputId": "e5389492-9f77-4394-a373-634e740d313e"
      },
      "source": [
        "# Ahora sequences tiene los números \"ID\", largo 4\n",
        "sequences"
      ],
      "execution_count": 114,
      "outputs": [
        {
          "output_type": "execute_result",
          "data": {
            "text/plain": [
              "[[5, 3, 1, 2], [3, 1, 2, 4], [1, 2, 4, 6]]"
            ]
          },
          "metadata": {},
          "execution_count": 114
        }
      ]
    },
    {
      "cell_type": "code",
      "metadata": {
        "id": "3ro81yCQc1oX",
        "colab": {
          "base_uri": "https://localhost:8080/"
        },
        "outputId": "43895192-918e-47f8-f2c8-96cabd2cbcce"
      },
      "source": [
        "# Cantidad de casos (doc) de entrada\n",
        "print(tok.document_count)"
      ],
      "execution_count": 115,
      "outputs": [
        {
          "output_type": "stream",
          "name": "stdout",
          "text": [
            "3\n"
          ]
        }
      ]
    },
    {
      "cell_type": "code",
      "metadata": {
        "id": "nzAWNfroc4u1",
        "colab": {
          "base_uri": "https://localhost:8080/"
        },
        "outputId": "f35de751-cd9b-49f4-9e50-c038cc1b24b3"
      },
      "source": [
        "# Cantidad de veces que aparece cada palabra\n",
        "print(len(tok.word_counts))"
      ],
      "execution_count": 116,
      "outputs": [
        {
          "output_type": "stream",
          "name": "stdout",
          "text": [
            "6\n"
          ]
        }
      ]
    },
    {
      "cell_type": "code",
      "metadata": {
        "id": "spTBxmFQc6h8",
        "colab": {
          "base_uri": "https://localhost:8080/"
        },
        "outputId": "41663dba-9d8d-4fc7-ad7a-88cc8c61ea22"
      },
      "source": [
        "# El índice para cada palabra\n",
        "# El sistema las ordena de las más populares a las menos populares\n",
        "print(tok.word_index)"
      ],
      "execution_count": 117,
      "outputs": [
        {
          "output_type": "stream",
          "name": "stdout",
          "text": [
            "{'on': 1, 'guns': 2, 'up': 3, 'bring': 4, 'load': 5, 'your': 6}\n"
          ]
        }
      ]
    },
    {
      "cell_type": "code",
      "metadata": {
        "id": "nUDkjy80c77h",
        "colab": {
          "base_uri": "https://localhost:8080/"
        },
        "outputId": "0a711655-e75d-44e5-d022-54583868e08f"
      },
      "source": [
        "# Cantidad de veces quea aparece cada palabra en cada \"documento\"\n",
        "# (1 documento = 1 caso de entrada)\n",
        "print(tok.word_docs)"
      ],
      "execution_count": 118,
      "outputs": [
        {
          "output_type": "stream",
          "name": "stdout",
          "text": [
            "defaultdict(<class 'int'>, {'up': 2, 'guns': 3, 'on': 3, 'load': 1, 'bring': 2, 'your': 1})\n"
          ]
        }
      ]
    },
    {
      "cell_type": "markdown",
      "metadata": {
        "id": "ohS5Tao1d2KB"
      },
      "source": [
        "### Preprocesamiento completo\n",
        "Debemos realizar los mismos pasos que en el ejemplo anterior, pero antes de eso debemos transformar ese dataset de filas de oraciones en un texto completo continuo para poder extraer el vocabulario."
      ]
    },
    {
      "cell_type": "code",
      "metadata": {
        "id": "63Z2-Se2t27r",
        "colab": {
          "base_uri": "https://localhost:8080/"
        },
        "outputId": "dc57ac56-8875-4d1e-9bd6-4dcb1b5df7c7"
      },
      "source": [
        "# Vistazo a las primeras filas\n",
        "df.loc[:15,0]"
      ],
      "execution_count": 119,
      "outputs": [
        {
          "output_type": "execute_result",
          "data": {
            "text/plain": [
              "0                   Load up on guns, bring your friends\n",
              "1                       It's fun to lose and to pretend\n",
              "2                     She's over-bored and self-assured\n",
              "3     Oh no, I know a dirty word Hello, hello, hello...\n",
              "4                          Hello, hello, hello, how low\n",
              "5                          Hello, hello, hello, how low\n",
              "6     Hello, hello, hello With the lights out, it's ...\n",
              "7                         Here we are now, entertain us\n",
              "8                          I feel stupid and contagious\n",
              "9                         Here we are now, entertain us\n",
              "10          A mulatto, an albino, a mosquito, my libido\n",
              "11                Yeah, hey I'm worse at what I do best\n",
              "12                     And for this gift I feel blessed\n",
              "13                     Our little group has always been\n",
              "14    And always will until the end Hello, hello, he...\n",
              "15                         Hello, hello, hello, how low\n",
              "Name: 0, dtype: object"
            ]
          },
          "metadata": {},
          "execution_count": 119
        }
      ]
    },
    {
      "cell_type": "code",
      "metadata": {
        "id": "kILsSoxTuHEr",
        "colab": {
          "base_uri": "https://localhost:8080/",
          "height": 105
        },
        "outputId": "56265b2c-466b-415c-e9a9-d41e2a43f6d5"
      },
      "source": [
        "# Concatenamos todos los rows en un solo valor\n",
        "corpus = df.apply(lambda row: ' '.join(row.values.astype(str)), axis=0)[0]\n",
        "corpus"
      ],
      "execution_count": 120,
      "outputs": [
        {
          "output_type": "execute_result",
          "data": {
            "application/vnd.google.colaboratory.intrinsic+json": {
              "type": "string"
            },
            "text/plain": [
              "'Load up on guns, bring your friends It\\'s fun to lose and to pretend She\\'s over-bored and self-assured Oh no, I know a dirty word Hello, hello, hello, how low Hello, hello, hello, how low Hello, hello, hello, how low Hello, hello, hello With the lights out, it\\'s less dangerous Here we are now, entertain us I feel stupid and contagious Here we are now, entertain us A mulatto, an albino, a mosquito, my libido Yeah, hey I\\'m worse at what I do best And for this gift I feel blessed Our little group has always been And always will until the end Hello, hello, hello, how low Hello, hello, hello, how low Hello, hello, hello, how low Hello, hello, hello With the lights out, it\\'s less dangerous Here we are now, entertain us I feel stupid and contagious Here we are now, entertain us A mulatto, an albino, a mosquito, my libido Yeah, hey, yeh And I forget just why I taste Oh yeah, I guess it makes me smile I found it hard, it\\'s hard to find Oh well, whatever, never mind Hello, hello, hello, how low Hello, hello, hello, how low Hello, hello, hello, how low Hello, hello, hello With the lights out, it\\'s less dangerous Here we are now, entertain us I feel stupid and contagious Here we are now, entertain us A mulatto, an albino, a mosquito, my libido A denial, a denial, a denial, a denial, a denial A denial, a denial, a denial, a denial What else should I be All apologies What else could I say Everyone is gay What else could I write I don\\'t have the right What else should I be All apologies In the sun In the sun I feel as one In the sun In the sun Married Buried I wish I was like you Easily amused Find my nest of salt Everything\\'s my fault I take all the blame Aqua seafoam shame Sunburn, freezer burn Choking on the ashes of her enemy In the sun In the sun I feel as one In the sun In the sun Married Married Married Buried Hangin\\' \\'round downtown by myself And I had so much time To sit and think about myself And then there she was Like double cherry pie Yeah, there she was Like disco superfly I smell sex and candy here Who\\'s that lounging in my chair? Who\\'s that casting devious stares in my direction? Mama, this surely is a dream, yeah Yeah mama, this surely is a dream, [dig it] Hangin\\' \\'round downtown by myself And I had too much caffeine And I was thinkin\\' \\'bout myself And then there she was In platform double suede Yeah, there she was Like disco lemonade I smell sex and candy here Who\\'s that lounging in my chair? Who\\'s that casting devious stares in my direction? Mama, this surely is a dream, yeah Yeah mama, this surely is a dream, [dig it] Yeah mama, this surely is a dream, yeah Come as you are, as you were As I want you to be As a friend, as a friend As an known enemy Take your time, hurry up The choice is yours, don\\'t be late Take a rest as a friend As an old Memoria, memoria Memoria, memoria Come doused in mud, soaked in bleach As I want you to be As a trend, as a friend As an old Memoria, memoria Memoria, memoria And I swear that I don\\'t have a gun No I don\\'t have a gun No I don\\'t have a gun Memoria, memoria Memoria, memoria (No I don\\'t have a gun) And I swear that I don\\'t have a gun No I don\\'t have a gun No I don\\'t have a gun No I don\\'t have a gun No I don\\'t have a gun Memoria, memoria Load up on guns, bring your friends It\\'s fun to lose and to pretend She\\'s over-bored and self-assured Oh no, I know a dirty word Hello, hello, hello, how low Hello, hello, hello, how low Hello, hello, hello, how low Hello, hello, hello With the lights out, it\\'s less dangerous Here we are now, entertain us I feel stupid and contagious Here we are now, entertain us A mulatto, an albino, a mosquito, my libido Yeah, hey I\\'m worse at what I do best And for this gift I feel blessed Our little group has always been And always will until the end Hello, hello, hello, how low Hello, hello, hello, how low Hello, hello, hello, how low Hello, hello, hello With the lights out, it\\'s less dangerous Here we are now, entertain us I feel stupid and contagious Here we are now, entertain us A mulatto, an albino, a mosquito, my libido Yeah, hey, yeh And I forget just why I taste Oh yeah, I guess it makes me smile I found it hard, it\\'s hard to find Oh well, whatever, never mind Hello, hello, hello, how low Hello, hello, hello, how low Hello, hello, hello, how low Hello, hello, hello With the lights out, it\\'s less dangerous Here we are now, entertain us I feel stupid and contagious Here we are now, entertain us A mulatto, an albino, a mosquito, my libido A denial, a denial, a denial, a denial, a denial A denial, a denial, a denial, a denial What else should I be All apologies What else could I say Everyone is gay What else could I write I don\\'t have the right What else should I be All apologies In the sun In the sun I feel as one In the sun In the sun Married Buried I wish I was like you Easily amused Find my nest of salt Everything\\'s my fault I take all the blame Aqua seafoam shame Sunburn, freezer burn Choking on the ashes of her enemy In the sun In the sun I feel as one In the sun In the sun Married Married Married Buried Hangin\\' \\'round downtown by myself And I had so much time To sit and think about myself And then there she was Like double cherry pie Yeah, there she was Like disco superfly I smell sex and candy here Who\\'s that lounging in my chair? Who\\'s that casting devious stares in my direction? Mama, this surely is a dream, yeah Yeah mama, this surely is a dream, [dig it] Hangin\\' \\'round downtown by myself And I had too much caffeine And I was thinkin\\' \\'bout myself And then there she was In platform double suede Yeah, there she was Like disco lemonade I smell sex and candy here Who\\'s that lounging in my chair? Who\\'s that casting devious stares in my direction? Mama, this surely is a dream, yeah Yeah mama, this surely is a dream, [dig it] Yeah mama, this surely is a dream, yeah Come as you are, as you were As I want you to be As a friend, as a friend As an known enemy Take your time, hurry up The choice is yours, don\\'t be late Take a rest as a friend As an old Memoria, memoria Memoria, memoria Come doused in mud, soaked in bleach As I want you to be As a trend, as a friend As an old Memoria, memoria Memoria, memoria And I swear that I don\\'t have a gun No I don\\'t have a gun No I don\\'t have a gun Memoria, memoria Memoria, memoria (No I don\\'t have a gun) And I swear that I don\\'t have a gun No I don\\'t have a gun No I don\\'t have a gun No I don\\'t have a gun No I don\\'t have a gun Memoria, memoria She eyes me like a Pisces when I am weak I\\'ve been locked inside your heart-shaped box for weeks I\\'ve been drawn into your magnetar pit trap trap I wish I could eat your cancer when you turn black Hey! Wait! I\\'ve got a new complaint Forever in debt to your priceless advice Hey! Wait! I\\'ve got a new complaint Forever in debt to your priceless advice Hey! Wait! I\\'ve got a new complaint Forever in debt to your priceless advice, your advice Meat-eating orchids forgive no one just yet Cut myself on angel hair and baby\\'s breath Broken hymen of your Highness, I\\'m left back Throw down your umbilical noose so I can climb right back Hey! Wait! I\\'ve got a new complaint Forever in debt to your priceless advice Hey! Wait! I\\'ve got a new complaint Forever in debt to your priceless advice Hey! Wait! I\\'ve got a new complaint Forever in debt to your priceless advice, your advice She eyes me like a Pisces when I am weak I\\'ve been locked inside your heart-shaped box for weeks I\\'ve been drawn into your magnetar pit trap trap I wish I could eat your cancer when you turn black Hey! Wait! I\\'ve got a new complaint Forever in debt to your priceless advice Hey! Wait! I\\'ve got a new complaint Forever in debt to your priceless advice Hey! Wait! I\\'ve got a new complaint Forever in debt to your priceless advice, your advice, your advice, your advice I\\'m so happy because today I\\'ve found my friends They\\'re in my head I\\'m so ugly, but that\\'s okay, \\'cause so are you We\\'ve broken our mirrors Sunday morning is everyday for all I care And I\\'m not scared Light my candles in a daze \\'Cause I\\'ve found god Hey, hey, hey I\\'m so lonely but that\\'s okay I shaved my head And I\\'m not sad And just maybe I\\'m to blame for all I\\'ve heard But I\\'m not sure I\\'m so excited, I can\\'t wait to meet you there But I don\\'t care I\\'m so horny but that\\'s okay My will is good Hey, hey, hey I like it, I\\'m not gonna crack I miss you, I\\'m not gonna crack I love you, I\\'m not gonna crack I killed you, I\\'m not gonna crack I like it, I\\'m not gonna crack I miss you, I\\'m not gonna crack I love you, I\\'m not gonna crack I killed you, I\\'m not gonna crack I\\'m so happy \\'cause today I\\'ve found my friends, They\\'re in my head I\\'m so ugly, that\\'s okay, \\'cause so are you, Broke our mirrors Sunday morning is everyday for all I care, And I\\'m not scared Light my candles in a daze \\'Cause I\\'ve found god Yeah, yeah, Yeah, yeah, Yeah, yeah, Yeah, yeah, Yeah, yeah, Yeah, yeah, yeah I like it, I\\'m not gonna crack I miss you, I\\'m not gonna crack I love you, I\\'m not gonna crack I killed you, I\\'m not gonna crack I like it, I\\'m not gonna crack I miss you, I\\'m not gonna crack I love you, I\\'m not gonna crack I killed you, I\\'m not gonna crack We passed upon the stair, we spoke of was and when Although I wasn\\'t there, he said I was his friend Which came as some surprise I spoke into his eyes I thought you died alone, a long long time ago Oh no, not me I never lost control You\\'re face to face With the man who sold the world I laughed and shook his hand, and made my way back home I searched for form and land, for years and years I roamed I gazed a gazley stare at all the millions here We must have died along, a long long time ago Who knows? Not me We never lost control You\\'re face to face With the man who sold the world Polly wants a cracker I think I should get off her first I think she wants some water To put out the blow torch It isn\\'t me We have some seed Let me clip Your dirty wings Let me take a ride Don\\'t cut yourself I want some help To please myself I\\'ve got some rope You have been told I promise you I have been true Let me take a ride Don\\'t cut yourself I want some help To please myself Polly wants a cracker Maybe she would like some food She asks me to untie her A chase would be nice for a few It isn\\'t me We have some seed Let me clip Your dirty wings Let me take a ride Don\\'t cut yourself I want some help To please myself I\\'ve got some rope You have been told I promise you I have been true Let me take a ride Don\\'t cut yourself I want some help To please myself Polly said Polly says her back hurts And she\\'s just as bored as me She caught me off my guard It amazes me, the will of instinct It isn\\'t me We have some seed Let me clip Your dirty wings Let me take a ride Don\\'t cut yourself I want some help To please myself I\\'ve got some rope You have been told I promise you I have been true Let me take a ride Don\\'t cut yourself I want some help To please myself I need an easy friend I do, with an ear to lend I don\\'t think you fit this shoe I do, won\\'t you have a clue I\\'ll take advantage while You hang me out to dry But I can\\'t see you every night Free I\\'m standing in your line I do hope you have the time I do pick a number too I do keep a date with you I\\'ll take advantage while You hang me out to dry But I can\\'t see you every night Free I need an easy friend I do whip her in to land I do think you fit this shoe I do won\\'t you have a clue I\\'ll take advantage while You hang me out to dry But I can\\'t see you every night No I can\\'t see you every night Free I do I do I do I do My girl, my girl, don\\'t lie to me, Tell me where did you sleep last night? In the pines, in the pines Where the sun will never shine I would shiver the whole night through My girl, my girl, where will you go? I\\'m going where the cold wind blows In the pines, in the pines Where the sun will never shine I would shiver the whole night through Her husband, was a hard working man Just about a mile from here His head was found in a driving wheel But his body never was found My girl, my girl, don\\'t lie to me, Tell me where did you sleep last night? In the pines, in the pines Where the sun will never shine I would shiver the whole night through My girl, my girl, where will you go? I\\'m going where the cold wind blows In the pines, in the pines Where the sun will never shine I would shiver the whole night through Rape me, rape me my friend Rape me, rape me again I\\'m not the only one I\\'m not the only one I\\'m not the only one I\\'m not the only one Hate me Do it and do it again Waste me Rape me, my friend I\\'m not the only one I\\'m not the only one I\\'m not the only one I\\'m not the only one My favorite inside source I\\'ll kiss your open sores Appreciate your concern You\\'re gonna stink and burn Rape me, rape me my friend Rape me, rape me again I\\'m not the only one I\\'m not the only one I\\'m not the only one I\\'m not the only one Load up on guns bring your friends It\\'s fun to lose and to pretend She\\'s overbored self assured And all I know are dirty words Hello hello hello how low Hello hello hello how low Hello hello hello how low Hello hello hello how low With,the lights,out it\\'s less dangerous Here we are now entertain us I feel stupid and contagious Here we are now entertain us Yeah Yeah Yeah I\\'m worse at what I do best and for this gift I feel blessed Our little group has always been and always will until the end Hello hello hello how low Hello hello hello how low Hello hello hello how low Hello hello hello how low With,the lights,out it\\'s less dangerous Here we are now entertain us I feel stupid and contagious Here we are now entertain us Yeah Yeah Yeah And I forget just why I taste Oh yeah I guess it makes me smile I found it\\'s hard... hard to find Oh well whatever never mind Hello hello hello how low Hello hello hello how low Hello hello hello how low Hello hello hello how low With,the lights,out it\\'s less dangerous Here we are now entertain us I feel stupid and contagious Here we are now entertain us a mullato an albino a denial a denial a denial a denial a denial a denial a denial a denial Verse 1: Forward yesterday -- Makes me wanna stay. What they said was real -- Makes me wanna steal. Livin\\' under house -- Guess I\\'m livin\\', I\\'m a mouse. All\\'s I gots is time -- Got no meaning, just a rhyme. Chorus: Take time with a wounded hand -- Cause it likes to heal Take time with a wounded hand -- Cause I like to steal Take time with a wounded hand -- Cause it likes to heal...I like to steal.. I\\'m half the man I used to be (This I feel as the dawn, it fades to gray). Well, I\\'m half the man I used to be (This I feel as the dawn, it fades to gray). Well, I\\'m half the man I used to be (This I feel as the dawn, it fades to gray). Well, I\\'m half the man I used to be.. Half the man I used to be.. Verse 2: Feelin\\' uninspired -- Think I\\'ll start a fire. Everybody run -- Bobby\\'s got a gun. Think you\\'re kinda neat -- Then she tells me I\\'m a creep. Friends don\\'t mean a thing -- Guess I\\'ll leave it up to me. Chorus: Take time with a wounded hand -- Cause it likes to heal Take time with a wounded hand -- Cause I like to steal Take time with a wounded hand -- Cause it likes to heal. I like to steal. I\\'m half the man I used to be (This I feel as the dawn, it fades to gray). Well, I\\'m half the man I used to be (This I feel as the dawn, it fades to gray). Well, I\\'m half the man I used to be (This I feel as the dawn, it fades to gray). Well, I\\'m half the man I used to be.. Half the man I used to be.. Sell the kids for food Weather changes moods Spring is here again Reproductive glands He\\'s the one Who like all our pretty songs And he likes to sing along And he likes to shoot his gun But he don\\'t know what it means Don\\'t know what it means And I say He\\'s the one Who like all our pretty songs And he likes to sing along And he likes to shoot his gun But he don\\'t know what it means Don\\'t know what it means And I say yeah We can have some more Nature is a whore Bruises on the fruit Tender age in bloom He\\'s the one Who like all our pretty songs And he likes to sing along And he likes to shoot his gun But he don\\'t know what it means Don\\'t know what it means And I say He\\'s the one Who like all our pretty songs And he likes to sing along And he likes to shoot his gun But he don\\'t know what it means Don\\'t know what it means And I say yeah I\\'m not like them But I can pretend The sun is gone But I have a light The day is done But I\\'m having fun I think I\\'m dumb Or maybe just happy Think I\\'m just happy My heart is broke But I have some glue Help me inhale And mend it with you We\\'ll float around And hang out on clouds Then we\\'ll come down And have a hangover, have a hangover Skin the sun Fall asleep Wish away The soul is cheap Lesson learned Wish me luck Soothe the burn Wake me up I\\'m not like them But I can pretend The sun is gone But I have a light The day is done But I\\'m having fun My girl, my girl, don\\'t lie to me Tell me where did you sleep last night In the pines, in the pines Where the sun don\\'t ever shine I would shiver the whole night through My girl, my girl, where will you go I\\'m going where the cold wind blows In the pines, in the pines Where the sun don\\'t ever shine I would shiver the whole night through Her husband, was a hard working man Just about a mile from here His head was found in a driving wheel But his body never was found My girl, my girl, don\\'t lie to me Tell me where did you sleep last night In the pines, in the pines Where the sun don\\'t ever shine I would shiver the whole night through My girl, my girl, where will you go I\\'m going where the cold wind blows In the pines, in the pines Where the sun don\\'t ever shine I would shiver the whole night through My girl, my girl, don\\'t lie to me Tell me where did you sleep last night In the pines, in the pines Where the sun don\\'t ever shine I would shiver the whole night through My girl, my girl, where will you go I\\'m going where the cold wind blows In the pines, in the pines The sun, shine I would shiver the whole night through One baby to another says, \"I\\'m lucky to have met you\" I don\\'t care what you think unless it is about me It is now my duty to completely drain you I travel through a tube and end up in your infection Chew my meat for you Pass it back and forth in a passionate kiss From my mouth to yours I like you With eyes so dilated, I\\'ve became your pupil You\\'ve taught me everything without a poison apple The water is so yellow I\\'m a healthy student Indebted and so grateful Vacuum out the fluids Chew my meat for you Pass it back and forth in a passionate kiss From my mouth to yours I like you, you, you, you, you, you One baby to another says, \"I\\'m lucky to have met you\" I don\\'t care what you think unless it is about me It is now my duty to completely drain you A travel through a tube and end up in your infection Chew my meat for you Pass it back and forth in a passionate kiss From my mouth to yours Sloppy lips to lips You\\'re my vitamins I like you Somebody finally freed my brother One more day to free my brother Help me I won\\'t find a way, no I\\'m going there to free my brother No one there to free my brother (Don\\'t go there to free my brother?) Help me I won\\'t find a way, brother He\\'s the friend to revive With all the love I got In every way I love you (In every way I\\'ll help you?) Help me know Going my way Jesus, don\\'t want me for a sunbeam Sunbeams are never made like me Don\\'t expect me to cry, For all the reasons you had to die Don\\'t ever ask your love of me Don\\'t expect me to cry Don\\'t expect me to lie Don\\'t expect me to die for me Jesus, don\\'t want me for a sunbeam Sunbeams are never made like me Don\\'t expect me to cry, For all the reasons you had to die Don\\'t ever ask your love of me Don\\'t expect me to cry Don\\'t expect me to lie Don\\'t expect me to die for me Don\\'t expect me to cry Don\\'t expect me to lie Don\\'t expect me to die for me Jesus, don\\'t want me for a sunbeam Sunbeams are never made like me Don\\'t expect me to cry, For all the reasons you had to die Don\\'t ever ask your love of me Don\\'t expect me to cry Don\\'t expect me to lie Don\\'t expect me to die Don\\'t expect me to cry Don\\'t expect me to lie Don\\'t expect me to die for me I would never bother you I would never promise to I will never follow you I will never bother you Never say a word again I will crawl away for good I will move away from here You won\\'t be afraid of fear No thought was put into this I always knew it would come to this Things have never been so swell And I have never failed to fail Pain Pain Pain You know you\\'re right You know you\\'re right You know you\\'re right It\\'s so warm and calm inside I no longer have to hide There\\'s talk about someone else Sterling silver begins to melt Nothin\\' really bothers her She just wants to love herself I will move away from here You won\\'t be afraid of fear No thought was put into this I always knew it\\'d come to this Things have never been so swell And I have never failed to fail Pain Pain Pain Pain Pain You know you\\'re right You know you\\'re right You know you\\'re right You know you\\'re right You know you\\'re right You know you\\'re right You know you\\'re right You know you\\'re right You know you\\'re right You know you\\'re right You know you\\'re right You know you\\'re right You know your rights You know your rights You know your rights Pain Underneath the bridge The tarp has sprung a leak And the animals I\\'ve trapped Have all become my pets And I\\'m living off of grass And the drippings from the ceiling But it\\'s okay to eat fish \\'Cause they don\\'t have any feelings Something in the way Ummmmm Something in the way, yeah Ummmmm Something in the way Ummmmm Something in the way, yeah Ummmmm Something in the way Ummmmm Something in the way, yeah Ummmmm Underneath the bridge The tarp has sprung a leak And the animals I\\'ve trapped Have all become my pets And I\\'m living off of grass And the drippings from the ceiling But it\\'s okay to eat fish \\'Cause they don\\'t have any feelings Something in the way Ummmmm Something in the way, yeah Ummmmm Something in the way Ummmmm Something in the way, yeah Ummmmm Something in the way Ummmmm Something in the way, yeah Ummmmm Something in the way Ummmmm Something in the way, yeah Ummmmm I don\\'t care I don\\'t care I don\\'t care I don\\'t care I don\\'t care Care if it\\'s old I don\\'t mind I don\\'t mind I don\\'t mind I don\\'t mind I don\\'t mind Mind, don\\'t have a mind Get away Get away Get away Get away Away, away from your home I\\'m afraid I\\'m afraid I\\'m afraid I\\'m afraid I\\'m afraid Afraid, afraid of a ghost Even if you have Even if you need I don\\'t mean to stare We don\\'t have to breed We could plant a house We could build a tree I don\\'t even care We could have all three She said She said She said She said She said She said She said I don\\'t care I don\\'t care I don\\'t care I don\\'t care I don\\'t care Care if it\\'s old I don\\'t mind I don\\'t mind I don\\'t mind I don\\'t mind I don\\'t mind Mind, I don\\'t have a mind Get away Get away Get away Get away Away, away from your home I\\'m afraid I\\'m afraid I\\'m afraid I\\'m afraid I\\'m afraid Afraid, afraid of a ghost Even if you have Even if you need I don\\'t mean to stare We don\\'t have to breed We can plant a house We can build a tree I don\\'t even care We could have all three She said She said She said She said She said She said She said She said Even if you have Even if you need I don\\'t mean to stare We don\\'t have to breed We can plant a house We can build a tree I don\\'t even care We could have all three She said She said She said She said She said She said She said She said, good! Where do bad folks go when they die? They don\\'t go to heaven where the angels fly They go down to the lake of fire and fry Won\\'t see \\'em again till the fourth of July I knew a lady who came from Duluth She got bit by a dog with a rabid tooth She went to her grave just a little too soon And she flew away howling on the yellow moon Where do bad folks go when they die? They don\\'t go to heaven where the angels fly They go down to the lake of fire and fry Won\\'t see \\'em again till the fourth of July Now the people cry and the people moan And they look for a dry place to call their home And try to find some place to rest their bones While the angels and the devils Fight to claim them for their own Wouldn\\'t you believe it It\\'s just my luck Wouldn\\'t you believe it It\\'s just my luck Wouldn\\'t you believe it It\\'s just my luck Wouldn\\'t you believe it It\\'s just my luck No recess No recess No recess Wouldn\\'t you believe it It\\'s just my luck Wouldn\\'t you believe it It\\'s just my luck Wouldn\\'t you believe it It\\'s just my luck Wouldn\\'t you believe it It\\'s just my luck No recess No recess No recess You\\'re in high school again You\\'re in high school again You\\'re in high school again You\\'re in high school again You\\'re in high school again You\\'re in high school again You\\'re in high school again You\\'re in high school again No recess No recess No recess No recess No recess No recess No recess I\\'m on my time with everyone I have very bad posture Sit and drink Pennyroyal Tea Distill the life that\\'s inside of me Sit and drink Pennyroyal Tea I\\'m anemic royalty Give me a Leonard Cohen afterworld So I can sigh eternally I\\'m so tired I can\\'t sleep I\\'m a liar and a thief Sit and drink Pennyroyal Tea I\\'m anemic royalty I\\'m on warm milk and laxatives Cherry-flavored antacids Sit and drink Pennyroyal Tea Distill the life that\\'s inside of me Sit and drink Pennyroyal Tea I\\'m anemic royalty I\\'ll start this off Without any words I got so high that I scratched \\'til I bled Love myself Better than you I know it\\'s wrong So what should I do? The finest day That I ever had Was when I learned To cry on command Love myself Better than you I know it\\'s wrong So what should I do? I\\'m on a plain I can\\'t complain I\\'m on a plain My mother died Every night It\\'s safe to say Don\\'t quote me on that Love myself Better than you I know it\\'s wrong So what should I do? The black sheep got Blackmailed again Forgot to put On the zip code Love myself Better than you I know it\\'s wrong So what should I do? I\\'m on a plain I can\\'t complain I\\'m on a plain Somewhere I have heard this before In a dream my memory has stored As defense I\\'m neutered and spayed What the hell am I trying to say? It is now time To make it unclear To write off lines That don\\'t make a sense Love myself Better than you I know it\\'s wrong So what should I do? One more special Message to go And then I\\'m done And I can go home Love myself Better than you I know it\\'s wrong So what should I do? I\\'m on a plain I can\\'t complain I\\'m on a plain I can\\'t complain I\\'m on a plain I can\\'t complain I\\'m on a plain I can\\'t complain I\\'m on aplain I can\\'t complain This is out of our reach This is out of our reach This is out of our reach and it\\'s grown This is getting to be This is getting to be This is getting to be drone I\\'m a negative creep I\\'m a negative creep I\\'m a negative creep and I\\'m stoned! I\\'m a negative creep I\\'m a negative creep I\\'m a negative creep and I\\'m, and I\\'m Daddy\\'s little girl ain\\'t a girl no more Daddy\\'s little girl ain\\'t a girl no more Daddy\\'s little girl ain\\'t a girl no more Daddy\\'s little girl ain\\'t a girl no more Daddy\\'s little girl ain\\'t a girl no more Daddy\\'s little girl ain\\'t a girl no more This is out of our range This is out of our range This is out of our range and it\\'s crude This is getting to be This is getting to be This is getting to be like drone I\\'m a negative creep I\\'m a negative creep I\\'m a negative creep and I\\'m stoned! I\\'m a negative creep I\\'m a negative creep I\\'m a negative creep and I\\'m and I\\'m Daddy\\'s little girl ain\\'t a girl no more Daddy\\'s little girl ain\\'t a girl no more Daddy\\'s little girl ain\\'t a girl no more Daddy\\'s little girl ain\\'t a girl no more Daddy\\'s little girl ain\\'t a girl no more Daddy\\'s little girl ain\\'t a girl no more Fuck! Yeah! Drone! Stoned! Daddy\\'s little girl ain\\'t a girl no more Daddy\\'s little girl ain\\'t a girl no more Daddy\\'s little girl ain\\'t a girl no more Daddy\\'s little girl ain\\'t a girl no more Daddy\\'s little girl ain\\'t a girl no more Daddy\\'s little girl ain\\'t a girl no more Daddy\\'s little girl ain\\'t a girl no more Daddy\\'s little girl ain\\'t a girl no more Daddy\\'s little girl ain\\'t a girl no more Daddy\\'s little girl ain\\'t a girl no more Daddy\\'s little girl ain\\'t a girl no more Daddy\\'s little girl ain\\'t a girl no more Daddy\\'s little girl ain\\'t a girl no more Daddy\\'s little girl ain\\'t a girl no more Truth covered in security I can\\'t let you smother me I\\'d like to but it couldn\\'t work Trading off and taking turns I don\\'t regret a thing I\\'ve got this friend, you see Who makes me feel And I wanted more Than I could steal I\\'ll arrest myself And wear a shield I\\'ll go out of my way To prove I still Smell her on you Don\\'t, tell me what I wanna hear Afraid of never knowning fear Experience anything you need I\\'ll keep fighting jealousy Until it\\'s fucking gone I\\'ve got this friend, you see Who makes me feel And I wanted more Than I could steal I\\'ll arrest myself And wear a shield I\\'ll go out of my way To prove I still Smell her on you Truth covered in security I can\\'t let you smother me I\\'d like to but it wouldn\\'t work Trading off and taking turns I don\\'t regret a thing I\\'ve got this friend, you see Who makes me feel And I wanted more Than I could steal I\\'ll arrest myself And wear a shield I\\'ll go out of my way To make you a deal We\\'ve make a pact To learn from who Ever we want Without new rules We\\'ll share what\\'s lost and what we grew They\\'ll go out of their way To prove they still Smell her on you They still, smell her on you Smell her on you It\\'s so relieving to know that you\\'re leaving as soon as you get paid It\\'s so relaxing to hear you\\'re asking wherever you get your way It\\'s so soothing to know that you\\'ll sue me, this is starting to sound the same I miss the comfort in being sad In her false withness, we hope you\\'re still with us, To see if they float or drown Our favorite patient, A display of patience, disease-covered Puget Sound She\\'ll come back as fire, to burn all the liars, And leave a blanket of ash on the ground I miss the comfort in being sad And if you save yourself, You will make him happy! He\\'ll keep you in a jar, And you\\'ll think you\\'re happy... He\\'ll give you breathing holes, And you\\'ll think you\\'re happy... He\\'ll cover you with grass, And you\\'ll think you\\'re happy... now! You\\'re in a laundry room, You\\'re in a laundry room, Conclusion came to you, ohhh. And if you cut yourself, You will think you\\'re happy! He\\'ll keep you in a jar, Then you\\'ll make him happy... He\\'ll give you breathing holes, Then you\\'ll think you\\'re happy... He\\'ll cover you with grass, Then you\\'ll think you\\'re happy... now! You\\'re in a laundry room, You\\'re in a laundry room, Conclusion came to you, ohhh. You\\'re in a laundry room, You\\'re in a laundry room, Conclusion came to you, ohhh. And if you fool yourself, You will make him happy! He\\'ll keep you in a jar, Then you\\'ll think you\\'re happy... He\\'ll give you breathing holes, Then you will seem happy... You\\'ll wallow in the shit, Then you\\'ll think you\\'re happy... now! You\\'re in a laundry room, You\\'re in a laundry room, You\\'re in a laundry room, Conclusion came to you, ohhh... If I had to lose a mile If I had to touch feelings I would lose my soul The way I do I don\\'t have to think I only have to do it The results are always perfect And that\\'s old news Would you like to hear my voice Sprinkled with emotion Invented at your birth? I can\\'t see the end of me My whole expanse I cannot see I formulate infinity Stored deep inside me If I had to lose a mile If I had to touch feelings I would lose my soul The way I do I don\\'t have to think I only have to do it The results are always perfect And that\\'s old news Would you like to hear my voice Sprinkled with emotion Invented at your birth? I can\\'t see the end of me My whole expanse I cannot see I formulate infinity Stored deep inside me I formulate infinity Stored deep inside me I\\'m goin\\' to Hollywood, they\\'ll see that I\\'m so good I won\\'t care how I feel, and I\\'ll get to fuck Brooke Shields I\\'ll just sit and grin, the money will roll right in I want to be a star, I\\'m going to have a car And you\\'ll have to admit, I\\'ll be rich as shit I\\'ll just sit and grin, the money will roll right in I would give you some, if you only would have treated me nice You\\'ll wish that you did, you\\'ll feel pretty stupid I\\'ll just sit and grin, the money will roll right in It\\'s fun to be a star, it\\'s nice to have a car Yeah, you\\'ll have to admit, that I\\'ll be rich as shit And I\\'ll just sit and grin, the money will roll right in Teenage angst has paid off well Now I\\'m bored and old Self-appointed judges judge More than they have sold If she floats than she is not A witch like we had thought A down payment on another One at Salem\\'s lot Serve the servants - oh no That legendary divorce is such a bore As my bones grew they did hurt They hurt really bad I tried hard to have a father But instead I had a dad I just want you to know that I Don\\'t hate you anymore There is nothing I could say That I haven\\'t thought before Serve the servants - oh no That legendary divorce is such a bore Mom and dad went to a show They dropped me off at Grandpa Joe\\'s I kicked and screamed, said please don\\'t go Grandma take me home Had to eat my dinner there Mashed potatos and stuff like that I couldn\\'t chew my meat too good She said, well, don\\'t you start your crying Go outside and ride your bike That\\'s what I did, I killed my toe After dinner, I had ice cream I fell asleep and watched TV I woke up in my mother\\'s arms Grandma take me home I wanna be alone Come on over Do the twist (aha) Overdo it Have a fit (aha) Come on over Shoot the shit (aha) Love you so much Makes me sick (aha) Beat me out of me (beat it, beat it) She keeps it pumpin\\' strait in my heart. If you wouldn\\'t mind, I would like it blew If you wouldn\\'t mind, I would like to lose If you wouldn\\'t care, I would like to leave If you wouldn\\'t mind, I would like to breath Is there another reason for your stain Could you believe who we knew stress or strain Here is another word that rhymes with shame You could do anything Your life is shit Shit Your life is over Bull Your life is mine Cry Your life is hell Hell I\\'m gonna die Dying with you just I\\'m going to die To wear my libido I\\'m gonna try To find it with you just I\\'m gonna try Do what they say Your life is shit Shit Your life is strange And insane Your life is not the size of crap Your life is now Now I\\'m gonna die Dying with you just I\\'m going to hell Without my libido I\\'m gonna try To find it with you just I\\'m going to hell Without my libido I\\'m gonna die Dying with you just I\\'m going to hell Without my libido I\\'m gonna try To find it with you just I\\'m gonna die Do what they say Your life is shit \"I\\'m gonna open myself up a flea market I\\'m gonna open myself up a flea market And you\\'re gonna wish that you did And retire on the profits First off I\\'m gonna empty out all of my Mrs. Butterworth jars And I\\'m gonna put \\'em on a shelf with my 800 dollar a month tax free Century 21 Shop And then I am going to put my Mrs. Butterworth syrup jars on the shelf Next to all the commemorative fast food chain glasses and cups I\\'ve accumulated Over the past 62 years Then I\\'m going to get some plywood I\\'m going to get some plywood and cut them up into two by two piece squares Then I\\'m going to get some burlap and I\\'m going to cut them into two by two Piece squares and then I\\'m going to put them onto the pieces of plywood And then I\\'m going to go to the beach I\\'m going to go to the beach and I\\'m gonna collect some shells and driftwood And then I\\'m going to take the shells and driftwood and glue them onto the Plywood and burlap Many a hand has scaled the grand old face of the plateau Some belong to strangers and some to folks you know Holy ghosts and talk show hosts are planted in the sand To beautify the foothills and shake the many hands There\\'s nothing on the top but a bucket and a mop And an illustrated book about birds You see a lot up there but don\\'t be scared Who needs action when you got words When you\\'re finished with the mop then you can stop And look at what you\\'ve done The plateau\\'s clean, no dirt to be seen And the work it took was fun Well the many hands began to scan around for the next plateau Some said it was in Greenland and some in Mexico Others decided it was nowhere except for where they stood But those were all just guesses, wouldn\\'t help you if they could When I was an alien Cultures weren\\'t opinions Gotta find a way To find a way When I\\'m there Gotta find a way A better way I had better wait Never met a wise man If so it\\'s a woman Gotta find a way To find a way When I\\'m there Gotta find a way A better way I had better wait Gotta find a way To find a way When I\\'m there Gotta find a way A better way I had better wait Just because you\\'re paranoid Don\\'t mean they\\'re not after you Gotta find a way To find a way When I\\'m there Gotta find a way A better way Gotta find a way To find a way When I\\'m there Gotta find a way A better way I had better wait Gotta find a way To find a way When I\\'m there Gotta find a way A better way I had better wait Gotta find a way To find a way When I\\'m there Gotta find a way A better way I had better wait They hung him on the cross They hung him on the cross They hung him on the cross For me One day when I was lost They hung him on the cross They hung him on the cross for me They whooped him up the hill They whooped him up the hill They whooped him up the hill For me One day when I was lost They hung him on the cross They whooped him up the hill for me He never said among them word They never said among them word They never said among them word For me One day when I was lost They hung him on the cross They hung him on the cross For me They bit him in the side They bit him in the side They bit him in the side For me One day when I was lost They hung him on the cross They hung him on the cross for me He hung his head and died He hung his head and died He hung his head and died For me One day when I was lost They hung him on the cross They hung him on the cross For me If I may, If I might, Let me down, we\\'ve been, If I say what is life, I might be dreaming, If I may what is right, Summon time too see me, He lives in his bonnet, A face from his pocket, Chains mowing life from trees. Do Re Mi. If I may, If I might, Wake me up, see me, If I do and if I lie, Find me out see me, If I may cold as ice, I may have too see me, The ways in his socket, The face from his moment, The chains from his socket, Do Re Mi. Wish me good, Wish me light, Find me out, see me, If I may just be quiet, Follow hate and be me, Hello and if I sigh, Shake me out; TV, If I may and if I might, Gotta gun to bleed, Rays in his pocket, Rays from his wallet, Chains from his armor, Am I deep? Do Re Mi. I really love you baby I love what you\\'ve got Let\\'s get together, we can Get hot No more tomorrow, baby Time is today Girl, I can make you feel Okay No place for hidin\\' baby No place to run You pull the trigger of my Love gun, love gun Love gun, love gun You can\\'t forget me baby Don\\'t try to lie You\\'ll never leave me, mama So don\\'t try I\\'ll be a gambler, baby Lay down the bet We get together, mama You\\'ll sweat No place for hidin\\' baby No place to run You pull the trigger of my Love gun, love gun (repeated several times) Up, up, up and down Turn, turn, turn around Round, round, round about And over again Gun, gun, son of a gun You are the only one Makes any difference to what I say The sun shines in the bedroom When we play The raining always starts When you go away The sun shines in the bedroom When we play The raining always starts When you go away Up, up, up and down Turn, turn, turn around Round, round, round about And over again Gun, gun, son of a gun You are the only one Makes any difference to what I say The sun shines in the bedroom When we play The raining always starts When you go away The sun shines in the bedroom When we play The raining always starts When you go away Up, up, up and down Turn, turn, turn around Round, round, round about And over again Gun, gun, son of a gun You are the only one Makes any difference to what I say The sun shines in the bedroom When we play The raining always starts When you go away The sun shines in the bedroom When we play The raining always starts When you go away The sun shines in the bedroom When we play The raining always starts When you go away The sun shines in the bedroom When we play The raining always starts When you go away She said She\\'d take me anywhere She\\'d take me anywhere As long as she stays with me She said She\\'d take me anywhere She\\'d take me anywhere As long as I stayed clean Kiss kiss Molly\\'s lips Kiss kiss Molly\\'s lips Kiss kiss Molly\\'s lips Kiss kiss Jesus, don\\'t want me for a sunbeam Sunbeams are not made like me Don\\'t expect me to cry For all the reasons you had to die Don\\'t ever ask your love of me Don\\'t expect me to cry Don\\'t expect me to lie Don\\'t expect me to die for thee Jesus, don\\'t want me for a sunbeam Sunbeams are never made like me Don\\'t expect me to cry For all the reasons you had to die Don\\'t ever ask your love of me Don\\'t expect me to cry Don\\'t expect me to lie Don\\'t expect me to die for thee Don\\'t expect me to cry Don\\'t expect me to lie Don\\'t expect me to die for thee Jesus, don\\'t want me for a sunbeam Sunbeams are not made like me Don\\'t expect me to cry For all the reasons you had to die Don\\'t ever ask your love of me Don\\'t expect me to cry Don\\'t expect me to lie Don\\'t expect me to cry Don\\'t expect me to die Don\\'t expect me to lie Don\\'t expect me to cry for thee Monkey see, monkey do (I don\\'t know why) I\\'d rather be deal than cool (I don\\'t know why) Every line ends in rhyme (I don\\'t know why) Less is more, love is blind (I don\\'t know why) Stay Stay away Stay away Stay away Give an inch, take a smile (I don\\'t know why) Fashion shits, fashion stile (I don\\'t know why) Throw it out and keep it in (I don\\'t know why) Have to have poison skin (I don\\'t know why) Stay Stay away Stay away Stay away I don\\'t know why I don\\'t know why Stay Stay away Stay away Stay away Monkey See, monkey do CI don\\'t know why) I\\'d rather be deal than cool (I don\\'t know why) Every line ends in rhyme (I don\\'t know why) Less is more, love is blind (I don\\'t know why) Stay Stay away Stay away Stay away I don\\'t know why I don\\'t know why Stay Stay away Stay away Stay away Stay Stay away Stay away Stay away Stay away Stay away God is gay Would you believe me when I tell you You\\'re the queen of my heart Please don\\'t deceive me when I hurt you Just ain\\'t the way it seems Can you feel my love buzz? Can you feel my love buzz? Can you feel my love buzz? Can you feel my love buzz? Would you believe me when I do you You\\'re the queen of my heart Please don\\'t deceive me when I hurt you Just ain\\'t the way it seems Can you feel my love buzz? Can you feel my love buzz? Can you feel my love buzz? Can you feel my love buzz? And if you save yourself, You will make him happy. He\\'ll keep you in a jar, And you\\'ll think you\\'re happy. He\\'ll give you breather holes, And you\\'ll think you\\'re happy. He\\'ll cover you with grass And you\\'ll think you\\'re happy. [Chorus:] Now... You\\'re in a laundry room. You\\'re in a laundry room. The clues they came to you... And if you cut yourself, You will think you\\'re happy. He\\'ll keep you in a jar, Then you\\'ll make him happy. He\\'ll give you breather holes, Then you\\'ll think you\\'re happy. He\\'ll cover you with grass, Then you\\'ll think you\\'re happy. [Chorus:Repeat x2] And if you fool yourself, You will make him happy. He\\'ll keep you in a jar, Then you\\'ll think you\\'re happy. He\\'ll give you breather holes, Then you will seem happy. You\\'ll wallow in the shit, Then you\\'ll think you\\'re happy. [Chorus] Moderate Rock May day, every day, my day Could\\'ve had a heart attack, my heart We don\\'t know anything, my heart We all want something fair, my heart Hey, hey, hey, hey, hey Out of town, out of sight, is my heart Queen of lies, today, my heart One more on the phone, my heart One more at the door of my heart Hey, hey, hey, hey, hey Mean heart Cold heart Cold heart Cold heart Cold heart Cold heart Cold heart Cold heart Yeah She should have stayed away from friends She should have had more time to spend She should have died when she was born She should have worn the crown of thorns She should have been a son She should have stood out in the crowd She should have made her mother proud She should have fallen on her stance She should have had another chance Runny nose and runny yolk Even if you have a cold still You can cough on me again I still haven\\'t had my fulfill In the someday what\\'s that sound? Broken heart and broken bones Think of how a castrated horse feels (Alt: Think about some capsules of horse pills) One more quirky cliche\\'d phrase You\\'re the one I wanna refill In the someday what\\'s that sound? This song is for lovers out there And the little light in the trees And all the flowers have gingivitis And the birds fly happily We\\'re together once again my love I need you back oh baby baby I can\\'t explain just why we lost it from the start Living without you girl you\\'ll only break my heart... I can feel it I can hold it I can rub it I can shape it I can mold it I can cut it I can taste it I can spank it Beat it Masturbate it I been looking for days now Always hearing the same ol\\' city boy Won\\'t you spank through? I can make you do things you won\\'t think you ever could Hey, I just wanted to know. Do you like me? Use just once and destroy Invasion of our piracy Afterbirth of a nation Starved without your skeleton key I love you for what I am not I did not want what I have got Blanket acne\\'d with cigarette burns Speak at once while taking turns What is wrong with me? What is what I need? What do I think? I think Nothing to do with what you think If you ever think at all Bi-polar opposites attract All of a sudden my water broke I love you for what I am not I did not want what I have got Blanket acne\\'d with cigarette burns Second-rate third degree burns What is wrong with me? What is what I need What do I think? I think Hate, hate your enemies Save, save your friends Find, find your place Speak, speak the truth What is wrong with me? What is wrong with me? What is what I need? What do I think? I think Use just once and destroy Invasion of our piracy Afterbirth of a nation Starved without your skeleton key What is wrong with me? What is wrong with me? What is wrong with me? What do I think? I think What is wrong with me? What is wrong with me? What is wrong with me? What do I think? I think Oh Pick me, pick me yea Live alone, lone single Atleast, atleast yea Everyone is hollow Pick me, pick me yea Everyone is waiting Pick me pick me yea You can be the baby Hey Dive Dive Dive Dive in me Dive Dive Dive Dive in me Dive in me Dive in me Dive in me Kiss this, kiss that yea Live alone, lone single Atleast, atleast yea You could be my hero Pick me, pick me yea Everyone is waiting Hit me, hit me yea I\\'m real good at hitting Hey Dive Dive Dive Dive in me Dive Dive Dive Dive in me Dive in me Dive in me Dive in me Dive Dive Dive Dive in me Dive Dive Dive Dive in me Dive Dive Dive Dive in me Dive in me Dive in me Dive in me Dive in me Dive in me Dive in me Portray sincerity Act out of loyalty Defend your true country Wish away the pain Hand out lobotomies To save little families Surrealistic fantasy Bland boring plain Hold me down in restitution Living out your date with fusion Is the whole fleece shun in master? Don\\'t feel guilty, master writing Somebody said that they\\'re not much like I am I know I can Make enough of the words for you to follow along I sink and then some Slippery pessimist hypocrite master Conservative communist apocalyptic bastard Thank you dear God for putting me on this earth I feel very privileged in debt for my thirst Hold me down in restitution Living out your date with fusion Is the whole fleece shun in master? Don\\'t feel guilty, master writing Somebody said that they\\'re not much like I am I know I can Make enough of the words for you to follow along I sink and then some Bell on door clanks, come on in Floyd observes my hairy chin Sit down chair, don\\'t be afraid Steamed hot towel on my face I\\'m ashamed I\\'m ashamed I\\'m ashamed Barney ties me to the chair I can\\'t see, I\\'m really scared Floyd breathes hard, I hear a zip Pee-pee pressed against my lips I\\'m ashamed I\\'m ashamed I\\'m ashamed I sense others in the room Opie, Aunt Bee, I presume They take turns and cut me up I die smothered in Andy\\'s clutch I\\'m ashamed I\\'m ashamed I\\'m ashamed Ain\\'t it a shame to go fishin on a Sunday Ain\\'t it a shame Ain\\'t it a shame to go fishin on a Sunday When you got Monday, Tuesday, Wednesday Oh, Thursday, Friday, Saturday Ain\\'t it a shame Ain\\'t it a shame to have a drink on Sunday Ain\\'t it a shame Ain\\'t it a shame to have a drink on Sunday When you got Monday, Tuesday, Wednesday Oh, Thursday, Friday, Saturday Ain\\'t it a shame Ain\\'t it a shame to beat your wife on Sunday Ain\\'t it a shame Ain\\'t it a shame to beat your wife on Sunday When you got Monday, Tuesday, Wednesday Oh, Thursday, Friday, Saturday Ain\\'t it a shame She had a moist vagina I\\'ve been tickling the circumference I\\'ve been sucking the walls of her anus Marijuana I preferred her to any other Marijuana I was young my an\\' you were mine. My enemy you were, my an\\' I was young. Your enemy you were, my an\\' I was young. Your enemy you were, my an\\' I was once. You ene... You rang Your ears rang I was young my an\\' you were mine. My enemy you were, my an\\' I was young. Your enemy you were, my an\\' I was young. Your enemy you were, my an\\' I was once. You ene... At night wishfull godess At night crystal locket At night mouth of almounds At sight a fish full of garbage At night disco god. I was young my an\\' you were mine. My enemy you were, my an\\' I was young. Your enemy you were, my an\\' I was young. Your enemy you were, my an\\' I was once. You ene... At night the wishfull godess At night crystal locket At night mouth of almounds At sight a fish full of garbage At night disco god. I was young my an\\' you were mine. My enemy you were, my an\\' I was young. Your enemy you were, my an\\' I was young. Your enemy you were, my an\\' I was once. You ene... At night she was so modest At night crystal locket At night mouth of almounds At sight a fish full of garbage At night disco god. Ah ah ah ah ah ah ah ah ah ah Ah ah ah ah ah ah ah ah ah ah Ah ah ah ah ah ah ah ah ah ah Shake it down easy, shake it down sleazy, come on Shake it down easy, shake yourself, Suzy, come on Don\\'t let me detain you Try to ride along Don\\'t you lie, knowing I am not sad I am not silly I am not chippin\\' I am not chippin\\' away Talk to me In your own language, please In your own Talk to me In your own language please Shake it down easy, make it sound seamy, doll man Make it sound now, make it full house, sad man Leader of the band Makes a mental hell I won\\'t weather it well Well I never Saw it with my arm Paint it with my heart Paint it with my eyes and make it right Lay down easy, lay it down seamy, sad man Lay down easy, lay it down seamy, sad man You don\\'t want to hear this Nothin\\' but a whore I will play the leader With pain Now you know I\\'m needy Lay them down easy Lay them down easy Talk to me In your own language please I am my own parasite I don\\'t need a host to live We feed off of each other We can share our endorphns Doll steak, test meat I won my own pet virus I get to pet and name her Her milk is my shit My shit is her milk Doll steak, test meat Look on the bright side is suicide Lost eyesight I\\'m on your side Angel left wing, right wing, broken wing Lack of iron and/or sleeping Protector of the kennel Ecto-plasma Ecto-Skeletal Obituary birthday Your scent is still here in my place of recovery It\\'s an odd alliance It\\'s another light I say What alone tonight Even if my eyes Even have some time Bet it all tonight Listen I have been banging away Even if you had a sight My It\\'s mad enough tonight And forests have never grown It\\'s another light And I can never have mine It\\'s not mine It\\'s not mine Instead I hide I\\'ve been here for my friends I never know if I said Watching out for me When I can love you Have your way And she might as well know I Seem more high High Than I said minerals will make the world If we did not have chemicals You would not be writing my death certificate Biting is my friend My dog left me a sand send One more day than I can plan Ends safe from you Biting ass a lie friend When I will never have a friend Biting silent as a man His silence setting up around And she improvised And she was supervised I was a rised Or arosed Or a rose Or a rose Or aroused And fine Fine line When I Said night time When I Could never kind And I My milk is your shit My milk is your shit It\\'s hard and boiled And sour all again My milk is your shit It revolves It evolves Cause it\\'s biting out what would My milk is your shit My milk is piss Don\\'t you love that I can bite  Straight as an arrow Defect defect Not straight, not so straight Reject reject Towards anti-social Standing on the stairs Cold, cold morning Ghostly image of fear Mayday mayday Gonna leave this region They\\'ll take me with them Dimension seven Straight as an arrow Defect defect Not straight, not so straight Reject reject Towards anti-social (Alt: So dumb, so dumb) Dimension seven (x7) You better watch out You better beware They\\'re coming from all sides of the country You better beware Return of the rat Return of the rat Return of the rat No, no, no, no Return of the rat Return of the rat Return of the rat No, no, no, no, no, no, no You better confess Well they better confess Started this mess, and oh, I seen them do it You better confess Return of the rat Return of the rat Return of the rat Return of the rat Return of the rat Return of the rat No, no, no, no, no, no, no, no Well you better watch out You better beware They\\'re coming from all sides of the country You better beware Return of the rat Return of the rat Return of the rat No, no, no, no Return of the rat Return of the rat Return of the rat No, no, no, no, no, no, no, no That\\'s it Until my tensions feed me I\\'m fucking hungry, degrade me I want my gun back Like the fucking resume Experience credentials Experience the process People freaking every day White lights, sitting inside And you get sicker Than another little pecker Than a, blasphemy Hold me, I\\'m so pathetic [Incomprehensible], all the sudden Baby, suddenly find her Daddy, exploring only Like the fucking resume Experience potentials Experience the process People freaking every day White lights, sitting inside And you get sicker than another little pecker Burn me It\\'s to potentially grade me Fucking hungry Feed me, the wells of comfort Exhume me I want my complex back A wicked man Picked off the scabs and fed them to the pigeons Help him, he is so cornered Kill him, your mercy whore will Like the fucking resume Experience potentials Experience the process People freaking every day White lights, really inside And then you gonna get sicker than, ah Help me, fucking hoses Help me until my tensions Graze me, really hungry Gravy, I want my complex back Thank you and good night Ah If she ever comes down now Nah If she comes down now Oh She looks so good Oh She\\'s made out of wood She says oh Like most babies smell like butter His smell smelled like no other He was born scentless and senseless He was born a scentless apprentice Go away - get away, get away, get a-way Every wet nurse refused to feed him Electrolytes smell like semen I promise not to sell your perfumed secrets There are countless formulas for pressing flowers I lie in the soll and fertilize mushrooms Leaking out gas fumes are made into perfume To hope is admittance Feed before beginning Double-sided cynics Reflected image Don\\'t be so selfish Leave in me this Follow it far To find where you are You haven\\'t grown Go on alone Never finished his sentence Remained in seclusion For the next few days The family circle noose He had removed us All the styles of heresy Finally he appeared unexpectedly Looking for company I will never bother you I will never promise to I will never follow you I will never bother you Never speak a word again I will crawl away for good I will move away from here You won\\'t be afraid of fear No thought was put in to this I always knew it would come to this Things have never been so swell I have never failed to fail Pain Pain Pain You know you\\'re right You know you\\'re right You know you\\'re right I\\'m so warm and calm inside I no longer have to hide Let?s talk about someone else Steaming soup against her mouth Nothing really bothers her She just wants to love herself I will move away from here You won\\'t be afraid of fear No thought was put into this I always knew to come like this Things have never been so swell I have never failed to fail Pain Pain Pain You know you\\'re right You know you\\'re right You know you\\'re right You know you\\'re right You know you\\'re right You know you\\'re right You know you\\'re right You know you\\'re right You know you\\'re right You know you\\'re right You know you\\'re right You know you\\'re right You know you\\'re right You know you\\'re right You know you\\'re right You know you\\'re right You know you\\'re right Congratulations you have won It\\'s a years subscription of bad puns. And it makes your story our concern And you set it up for returns My opinions. Mmm. Mmm. (x4) And there seems to be a problem here. Your state of emotion seems to clear. You rise and fall like wall street stock And you had an affect on our happy talk. Our opinions. Mmm. Mmm. (x2) My opinions. Mmm. Mmm. (x2) Congratulations you have won It\\'s a years subscription of bad puns. And it makes your story our concern And you set it up for returns They lead a lifetime that is comfortable They travel far to keep their stomachs full They make their living off of arts and crafts They kind with seashells driftwood and burlap They make a deal when they come to town The Sunday swap meet is a battle ground She loves him more than he will ever know He loves her more than he will ever show Keeps his cigarettes close to his heart Keeps her photographs close to her heart Keeps the bitterness close to the heart They lead a lifetime that is comfortable They travel far to keep their stomachs full They make their living off of arts and crafts The kind with seashells, driftwood and burlap They make a deal when they come to town The Sunday swap meet is a battle ground She loves him more than he would ever know He loves her more than he would ever show Keeps his cigarettes close to his heart Keeps her photographs close to her heart Keep the bitterness close to the heart They lead a lifetime that is comfortable They travel far to keep their stomachs full They make their living off of arts and crafts The kind with seashells, driftwood and burlap They make a deal when they come to town The Sunday swap meet is a battle ground She loves her more than he would ever know He loves her more than he would ever show I am buried up to my neck in Contradictionary lies I take pride as the kind of illiterature I\\'m very ape and very nice If you ever need anything please don\\'t hesitate to ask someone else first I\\'m too busy acting like I\\'m not naive. I\\'ve seen it all I was here first Out of the ground Into the sky Out of the sky Into the dirt Jesus, don\\'t want me for a sunbeam Sunbeams are never made like me Don\\'t expect me to cry, For all the reasons you had to die Don\\'t ever ask your love of me Don\\'t expect me to cry Don\\'t expect me to lie Don\\'t expect me to die for me Jesus, don\\'t want me for a sunbeam Sunbeams are never made like me Don\\'t expect me to cry, For all the reasons you had to die Don\\'t ever ask your love of me [Repeat x2] Don\\'t expect me to cry Don\\'t expect me to lie Don\\'t expect me to die for me Jesus, don\\'t want me for a sunbeam Sunbeams are never made like me Don\\'t expect me to cry, For all the reasons you had to die Don\\'t ever ask your love of me Don\\'t expect me to cry Don\\'t expect me to lie Don\\'t expect me to die Don\\'t expect me to cry Don\\'t expect me to lie Don\\'t expect me to die for me When I\\'m feeling tired She pushed food through the door And I crawl towards the crack of light Sometimes I can\\'t find my way Newspapers spread around Soaking all that they can A cleaning is due again A good hosing down The lady whom I feel maternal love for Cannot look me in the eyes But I see hers and they are blue And they cock and twist and masturbate I said so I said so I said so Nirvana, nirvana, nirvana, nirvana Black windows of paint I scratched with my nails I see others just like me Why do they not try to escape? They bring out the older ones They point in my way They come with a flash of light And take my family away'"
            ]
          },
          "metadata": {},
          "execution_count": 120
        }
      ]
    },
    {
      "cell_type": "code",
      "metadata": {
        "id": "_KlsYd7_uOez",
        "colab": {
          "base_uri": "https://localhost:8080/"
        },
        "outputId": "45c5eb1e-f990-4f43-9754-2096b78c9cc1"
      },
      "source": [
        "# Transformar el corpus a tokens\n",
        "tokens=text_to_word_sequence(corpus)\n",
        "# Vistazo general de los primeros tokens\n",
        "tokens[:20]"
      ],
      "execution_count": 121,
      "outputs": [
        {
          "output_type": "execute_result",
          "data": {
            "text/plain": [
              "['load',\n",
              " 'up',\n",
              " 'on',\n",
              " 'guns',\n",
              " 'bring',\n",
              " 'your',\n",
              " 'friends',\n",
              " \"it's\",\n",
              " 'fun',\n",
              " 'to',\n",
              " 'lose',\n",
              " 'and',\n",
              " 'to',\n",
              " 'pretend',\n",
              " \"she's\",\n",
              " 'over',\n",
              " 'bored',\n",
              " 'and',\n",
              " 'self',\n",
              " 'assured']"
            ]
          },
          "metadata": {},
          "execution_count": 121
        }
      ]
    },
    {
      "cell_type": "code",
      "metadata": {
        "id": "GlqpZSJOJ1xQ",
        "colab": {
          "base_uri": "https://localhost:8080/"
        },
        "outputId": "69c03dcc-b73e-4705-f666-f0c425749cb0"
      },
      "source": [
        "print(\"Cantidad de tokens en el corpus:\", len(tokens))"
      ],
      "execution_count": 122,
      "outputs": [
        {
          "output_type": "stream",
          "name": "stdout",
          "text": [
            "Cantidad de tokens en el corpus: 12346\n"
          ]
        }
      ]
    },
    {
      "cell_type": "code",
      "metadata": {
        "id": "RhQevOynuYk2"
      },
      "source": [
        "# Código para hacer el desfazaje de las palabras\n",
        "# según el train_len\n",
        "text_sequences = []\n",
        "for i in range(train_len, len(tokens)):\n",
        "  seq = tokens[i-train_len:i]\n",
        "  text_sequences.append(seq)"
      ],
      "execution_count": 123,
      "outputs": []
    },
    {
      "cell_type": "code",
      "metadata": {
        "id": "FU3FuqHSuhzq",
        "colab": {
          "base_uri": "https://localhost:8080/"
        },
        "outputId": "a27dddb2-4fcb-4d50-dfad-4403fb84dfe0"
      },
      "source": [
        "# Demos un vistazo a nuestros vectores para entrenar el modelo\n",
        "text_sequences[:20]"
      ],
      "execution_count": 124,
      "outputs": [
        {
          "output_type": "execute_result",
          "data": {
            "text/plain": [
              "[['load', 'up', 'on', 'guns'],\n",
              " ['up', 'on', 'guns', 'bring'],\n",
              " ['on', 'guns', 'bring', 'your'],\n",
              " ['guns', 'bring', 'your', 'friends'],\n",
              " ['bring', 'your', 'friends', \"it's\"],\n",
              " ['your', 'friends', \"it's\", 'fun'],\n",
              " ['friends', \"it's\", 'fun', 'to'],\n",
              " [\"it's\", 'fun', 'to', 'lose'],\n",
              " ['fun', 'to', 'lose', 'and'],\n",
              " ['to', 'lose', 'and', 'to'],\n",
              " ['lose', 'and', 'to', 'pretend'],\n",
              " ['and', 'to', 'pretend', \"she's\"],\n",
              " ['to', 'pretend', \"she's\", 'over'],\n",
              " ['pretend', \"she's\", 'over', 'bored'],\n",
              " [\"she's\", 'over', 'bored', 'and'],\n",
              " ['over', 'bored', 'and', 'self'],\n",
              " ['bored', 'and', 'self', 'assured'],\n",
              " ['and', 'self', 'assured', 'oh'],\n",
              " ['self', 'assured', 'oh', 'no'],\n",
              " ['assured', 'oh', 'no', 'i']]"
            ]
          },
          "metadata": {},
          "execution_count": 124
        }
      ]
    },
    {
      "cell_type": "code",
      "metadata": {
        "id": "064N2jtLvHRg",
        "colab": {
          "base_uri": "https://localhost:8080/"
        },
        "outputId": "ab870827-0524-4188-b5ea-e6e8713faa0f"
      },
      "source": [
        "# Proceso de tokenizacion\n",
        "tok = Tokenizer() \n",
        "tok.fit_on_texts(text_sequences) \n",
        "\n",
        "# Convertimos las palabras a números\n",
        "# entran palabras -> salen números\n",
        "sequences = tok.texts_to_sequences(text_sequences)\n",
        "\n",
        "# Damos un vistazo\n",
        "sequences[:20]"
      ],
      "execution_count": 125,
      "outputs": [
        {
          "output_type": "execute_result",
          "data": {
            "text/plain": [
              "[[617, 74, 26, 472],\n",
              " [74, 26, 472, 382],\n",
              " [26, 472, 382, 18],\n",
              " [472, 382, 18, 220],\n",
              " [382, 18, 220, 33],\n",
              " [18, 220, 33, 272],\n",
              " [220, 33, 272, 5],\n",
              " [33, 272, 5, 244],\n",
              " [272, 5, 244, 7],\n",
              " [5, 244, 7, 5],\n",
              " [244, 7, 5, 342],\n",
              " [7, 5, 342, 343],\n",
              " [5, 342, 343, 221],\n",
              " [342, 343, 221, 383],\n",
              " [343, 221, 383, 7],\n",
              " [221, 383, 7, 384],\n",
              " [383, 7, 384, 473],\n",
              " [7, 384, 473, 124],\n",
              " [384, 473, 124, 15],\n",
              " [473, 124, 15, 1]]"
            ]
          },
          "metadata": {},
          "execution_count": 125
        }
      ]
    },
    {
      "cell_type": "code",
      "metadata": {
        "id": "vwsvmvDKKXSP",
        "colab": {
          "base_uri": "https://localhost:8080/"
        },
        "outputId": "4483eea7-e7c1-4f5d-8d4f-67f7219db2d4"
      },
      "source": [
        "print(\"Cantidad de rows del dataset:\", len(sequences))"
      ],
      "execution_count": 126,
      "outputs": [
        {
          "output_type": "stream",
          "name": "stdout",
          "text": [
            "Cantidad de rows del dataset: 12342\n"
          ]
        }
      ]
    },
    {
      "cell_type": "markdown",
      "metadata": {
        "id": "QMVP4bj0vL2e"
      },
      "source": [
        "### Input y target"
      ]
    },
    {
      "cell_type": "code",
      "metadata": {
        "id": "mx2xwdz3KloJ",
        "colab": {
          "base_uri": "https://localhost:8080/"
        },
        "outputId": "e1612d45-0060-43ad-9169-1baa8f015145"
      },
      "source": [
        "# Con numpy es muy fácil realizar el slicing de vectores\n",
        "ex = np.array([[1,2,3,4],[5,6,7,8]])\n",
        "ex"
      ],
      "execution_count": 127,
      "outputs": [
        {
          "output_type": "execute_result",
          "data": {
            "text/plain": [
              "array([[1, 2, 3, 4],\n",
              "       [5, 6, 7, 8]])"
            ]
          },
          "metadata": {},
          "execution_count": 127
        }
      ]
    },
    {
      "cell_type": "code",
      "metadata": {
        "id": "BEod7qghvTVt",
        "colab": {
          "base_uri": "https://localhost:8080/"
        },
        "outputId": "964cec62-878c-45f1-f4d9-c3638eef2efb"
      },
      "source": [
        "# Con numpy es muy fácil realizar el slicing de vectores\n",
        "print(\"Dimension:\", ex.shape)\n",
        "print(\"Todos los elementos:\", ex)\n",
        "print(\"Todos los elementos menos el último:\", ex[:, :-1])"
      ],
      "execution_count": 128,
      "outputs": [
        {
          "output_type": "stream",
          "name": "stdout",
          "text": [
            "Dimension: (2, 4)\n",
            "Todos los elementos: [[1 2 3 4]\n",
            " [5 6 7 8]]\n",
            "Todos los elementos menos el último: [[1 2 3]\n",
            " [5 6 7]]\n"
          ]
        }
      ]
    },
    {
      "cell_type": "code",
      "metadata": {
        "id": "i95xWqtCvp8T",
        "colab": {
          "base_uri": "https://localhost:8080/"
        },
        "outputId": "12b88789-657b-44b1-a37d-a9c531de6be9"
      },
      "source": [
        "input = ex[:,:-1] # todos los rows, menos la ultima col\n",
        "target = ex[:, -1] # última col de cada row\n",
        "\n",
        "print(\"Input:\", input)\n",
        "print(\"Target:\", target)"
      ],
      "execution_count": 129,
      "outputs": [
        {
          "output_type": "stream",
          "name": "stdout",
          "text": [
            "Input: [[1 2 3]\n",
            " [5 6 7]]\n",
            "Target: [4 8]\n"
          ]
        }
      ]
    },
    {
      "cell_type": "code",
      "metadata": {
        "id": "e1vJTG65v4Qn",
        "colab": {
          "base_uri": "https://localhost:8080/"
        },
        "outputId": "2d19cf65-0a8e-4415-fe64-0abd6efc3566"
      },
      "source": [
        "arr_sequences = np.array(sequences)\n",
        "x_data = arr_sequences[:,:-1]\n",
        "y_data_int = arr_sequences[:,-1] # aún falta el oneHotEncoder\n",
        "\n",
        "print(x_data.shape)\n",
        "print(y_data_int.shape)"
      ],
      "execution_count": 130,
      "outputs": [
        {
          "output_type": "stream",
          "name": "stdout",
          "text": [
            "(12342, 3)\n",
            "(12342,)\n"
          ]
        }
      ]
    },
    {
      "cell_type": "code",
      "metadata": {
        "id": "ln6kVWVlwBBs",
        "colab": {
          "base_uri": "https://localhost:8080/"
        },
        "outputId": "8238745c-0b2d-430f-b091-40bfdc1837f8"
      },
      "source": [
        "# Palabras del vocabulario\n",
        "tok.index_word"
      ],
      "execution_count": 131,
      "outputs": [
        {
          "output_type": "execute_result",
          "data": {
            "text/plain": [
              "{1: 'i',\n",
              " 2: 'the',\n",
              " 3: 'a',\n",
              " 4: 'you',\n",
              " 5: 'to',\n",
              " 6: 'me',\n",
              " 7: 'and',\n",
              " 8: \"don't\",\n",
              " 9: 'in',\n",
              " 10: 'my',\n",
              " 11: \"i'm\",\n",
              " 12: 'it',\n",
              " 13: 'of',\n",
              " 14: 'hello',\n",
              " 15: 'no',\n",
              " 16: 'is',\n",
              " 17: 'have',\n",
              " 18: 'your',\n",
              " 19: 'know',\n",
              " 20: \"you're\",\n",
              " 21: 'for',\n",
              " 22: 'girl',\n",
              " 23: 'she',\n",
              " 24: 'what',\n",
              " 25: 'they',\n",
              " 26: 'on',\n",
              " 27: 'with',\n",
              " 28: 'like',\n",
              " 29: 'not',\n",
              " 30: 'way',\n",
              " 31: 'we',\n",
              " 32: 'was',\n",
              " 33: \"it's\",\n",
              " 34: 'when',\n",
              " 35: 'away',\n",
              " 36: 'yeah',\n",
              " 37: 'this',\n",
              " 38: 'as',\n",
              " 39: 'expect',\n",
              " 40: 'do',\n",
              " 41: 'be',\n",
              " 42: 'never',\n",
              " 43: 'so',\n",
              " 44: 'if',\n",
              " 45: 'out',\n",
              " 46: 'love',\n",
              " 47: 'more',\n",
              " 48: 'all',\n",
              " 49: 'right',\n",
              " 50: 'think',\n",
              " 51: 'will',\n",
              " 52: 'just',\n",
              " 53: 'are',\n",
              " 54: 'said',\n",
              " 55: 'feel',\n",
              " 56: 'one',\n",
              " 57: 'gun',\n",
              " 58: 'can',\n",
              " 59: \"ain't\",\n",
              " 60: 'dive',\n",
              " 61: 'find',\n",
              " 62: 'that',\n",
              " 63: 'sun',\n",
              " 64: 'had',\n",
              " 65: 'here',\n",
              " 66: 'now',\n",
              " 67: 'little',\n",
              " 68: 'her',\n",
              " 69: 'would',\n",
              " 70: 'night',\n",
              " 71: 'go',\n",
              " 72: 'gonna',\n",
              " 73: 'take',\n",
              " 74: 'up',\n",
              " 75: 'how',\n",
              " 76: 'hey',\n",
              " 77: \"i've\",\n",
              " 78: 'he',\n",
              " 79: 'ah',\n",
              " 80: 'heart',\n",
              " 81: 'but',\n",
              " 82: 'some',\n",
              " 83: 'low',\n",
              " 84: 'where',\n",
              " 85: 'die',\n",
              " 86: 'him',\n",
              " 87: 'then',\n",
              " 88: 'want',\n",
              " 89: 'happy',\n",
              " 90: 'his',\n",
              " 91: 'at',\n",
              " 92: 'memoria',\n",
              " 93: 'got',\n",
              " 94: 'better',\n",
              " 95: 'there',\n",
              " 96: 'stay',\n",
              " 97: 'cry',\n",
              " 98: 'denial',\n",
              " 99: 'myself',\n",
              " 100: 'down',\n",
              " 101: 'see',\n",
              " 102: 'from',\n",
              " 103: 'ever',\n",
              " 104: \"daddy's\",\n",
              " 105: \"you'll\",\n",
              " 106: 'get',\n",
              " 107: 'than',\n",
              " 108: 'make',\n",
              " 109: 'been',\n",
              " 110: 'lie',\n",
              " 111: 'again',\n",
              " 112: 'an',\n",
              " 113: 'our',\n",
              " 114: \"i'll\",\n",
              " 115: 'care',\n",
              " 116: 'always',\n",
              " 117: 'why',\n",
              " 118: 'could',\n",
              " 119: 'time',\n",
              " 120: 'friend',\n",
              " 121: \"can't\",\n",
              " 122: 'man',\n",
              " 123: 'going',\n",
              " 124: 'oh',\n",
              " 125: 'us',\n",
              " 126: 'mind',\n",
              " 127: 'should',\n",
              " 128: 'pines',\n",
              " 129: 'only',\n",
              " 130: 'afraid',\n",
              " 131: 'come',\n",
              " 132: 'were',\n",
              " 133: 'entertain',\n",
              " 134: 'return',\n",
              " 135: 'rat',\n",
              " 136: 'well',\n",
              " 137: 'say',\n",
              " 138: 'crack',\n",
              " 139: 'pain',\n",
              " 140: 'enemy',\n",
              " 141: 'wait',\n",
              " 142: 'off',\n",
              " 143: 'cold',\n",
              " 144: 'day',\n",
              " 145: 'wrong',\n",
              " 146: \"he'll\",\n",
              " 147: 'shit',\n",
              " 148: \"an'\",\n",
              " 149: 'makes',\n",
              " 150: 'shame',\n",
              " 151: 'am',\n",
              " 152: 'help',\n",
              " 153: 'them',\n",
              " 154: 'something',\n",
              " 155: 'gotta',\n",
              " 156: 'hung',\n",
              " 157: 'advice',\n",
              " 158: 'who',\n",
              " 159: 'let',\n",
              " 160: \"won't\",\n",
              " 161: 'every',\n",
              " 162: 'whole',\n",
              " 163: 'through',\n",
              " 164: 'kiss',\n",
              " 165: 'ummmmm',\n",
              " 166: \"wouldn't\",\n",
              " 167: 'about',\n",
              " 168: 'inside',\n",
              " 169: 'cut',\n",
              " 170: 'made',\n",
              " 171: 'yourself',\n",
              " 172: 'please',\n",
              " 173: 'keep',\n",
              " 174: 'creep',\n",
              " 175: 'even',\n",
              " 176: 'recess',\n",
              " 177: 'life',\n",
              " 178: 'lights',\n",
              " 179: 'sit',\n",
              " 180: 'smell',\n",
              " 181: 'mama',\n",
              " 182: 'back',\n",
              " 183: 'need',\n",
              " 184: 'did',\n",
              " 185: 'likes',\n",
              " 186: 'baby',\n",
              " 187: 'negative',\n",
              " 188: 'room',\n",
              " 189: 'cross',\n",
              " 190: 'young',\n",
              " 191: 'less',\n",
              " 192: 'found',\n",
              " 193: 'hard',\n",
              " 194: 'else',\n",
              " 195: 'wish',\n",
              " 196: 'dream',\n",
              " 197: 'into',\n",
              " 198: 'turn',\n",
              " 199: 'sunday',\n",
              " 200: 'good',\n",
              " 201: 'believe',\n",
              " 202: 'high',\n",
              " 203: 'laundry',\n",
              " 204: 'stupid',\n",
              " 205: 'libido',\n",
              " 206: 'surely',\n",
              " 207: 'old',\n",
              " 208: 'new',\n",
              " 209: 'debt',\n",
              " 210: \"that's\",\n",
              " 211: 'light',\n",
              " 212: 'lost',\n",
              " 213: 'shine',\n",
              " 214: 'shiver',\n",
              " 215: 'half',\n",
              " 216: 'used',\n",
              " 217: 'another',\n",
              " 218: 'ask',\n",
              " 219: 'their',\n",
              " 220: 'friends',\n",
              " 221: 'over',\n",
              " 222: 'dangerous',\n",
              " 223: 'contagious',\n",
              " 224: 'complaint',\n",
              " 225: 'forever',\n",
              " 226: 'priceless',\n",
              " 227: 'hand',\n",
              " 228: 'put',\n",
              " 229: 'easy',\n",
              " 230: 'pick',\n",
              " 231: 'rape',\n",
              " 232: 'luck',\n",
              " 233: 'without',\n",
              " 234: 'jesus',\n",
              " 235: 'sunbeam',\n",
              " 236: 'sunbeams',\n",
              " 237: 'reasons',\n",
              " 238: 'try',\n",
              " 239: 'give',\n",
              " 240: 'plain',\n",
              " 241: 'round',\n",
              " 242: 'play',\n",
              " 243: 'ashamed',\n",
              " 244: 'lose',\n",
              " 245: 'word',\n",
              " 246: 'has',\n",
              " 247: 'married',\n",
              " 248: \"who's\",\n",
              " 249: 'too',\n",
              " 250: 'head',\n",
              " 251: 'face',\n",
              " 252: 'along',\n",
              " 253: 'ride',\n",
              " 254: 'free',\n",
              " 255: 'steal',\n",
              " 256: 'means',\n",
              " 257: 'or',\n",
              " 258: 'living',\n",
              " 259: 'place',\n",
              " 260: 'school',\n",
              " 261: 'milk',\n",
              " 262: 'still',\n",
              " 263: 'mine',\n",
              " 264: 'may',\n",
              " 265: 'shines',\n",
              " 266: 'bedroom',\n",
              " 267: 'raining',\n",
              " 268: 'starts',\n",
              " 269: 'buzz',\n",
              " 270: 'once',\n",
              " 271: 'yea',\n",
              " 272: 'fun',\n",
              " 273: 'albino',\n",
              " 274: 'end',\n",
              " 275: 'by',\n",
              " 276: 'much',\n",
              " 277: 'disco',\n",
              " 278: 'eyes',\n",
              " 279: 'meat',\n",
              " 280: \"they're\",\n",
              " 281: 'okay',\n",
              " 282: \"'cause\",\n",
              " 283: 'god',\n",
              " 284: 'sad',\n",
              " 285: 'came',\n",
              " 286: 'thought',\n",
              " 287: 'died',\n",
              " 288: 'home',\n",
              " 289: 'tell',\n",
              " 290: 'cause',\n",
              " 291: 'around',\n",
              " 292: 'mouth',\n",
              " 293: 'talk',\n",
              " 294: 'really',\n",
              " 295: 'any',\n",
              " 296: 'own',\n",
              " 297: 'drink',\n",
              " 298: 'complain',\n",
              " 299: 'hell',\n",
              " 300: 'experience',\n",
              " 301: 'fucking',\n",
              " 302: 'shake',\n",
              " 303: 'lay',\n",
              " 304: 'full',\n",
              " 305: 'dirty',\n",
              " 306: 'mulatto',\n",
              " 307: 'mosquito',\n",
              " 308: 'until',\n",
              " 309: 'everyone',\n",
              " 310: 'burn',\n",
              " 311: 'chair',\n",
              " 312: 'miss',\n",
              " 313: 'alone',\n",
              " 314: 'long',\n",
              " 315: 'promise',\n",
              " 316: 'sleep',\n",
              " 317: 'wounded',\n",
              " 318: 'dawn',\n",
              " 319: 'fades',\n",
              " 320: 'gray',\n",
              " 321: 'mean',\n",
              " 322: 'leave',\n",
              " 323: 'lips',\n",
              " 324: 'brother',\n",
              " 325: 'follow',\n",
              " 326: 'fear',\n",
              " 327: 'knew',\n",
              " 328: 'grass',\n",
              " 329: 'bad',\n",
              " 330: 'getting',\n",
              " 331: 'hear',\n",
              " 332: 'deal',\n",
              " 333: 'sound',\n",
              " 334: 'jar',\n",
              " 335: 'holes',\n",
              " 336: 'beat',\n",
              " 337: 'keeps',\n",
              " 338: 'straight',\n",
              " 339: 'mmm',\n",
              " 340: 'loves',\n",
              " 341: 'close',\n",
              " 342: 'pretend',\n",
              " 343: \"she's\",\n",
              " 344: 'guess',\n",
              " 345: 'buried',\n",
              " 346: 'double',\n",
              " 347: 'yours',\n",
              " 348: 'eat',\n",
              " 349: 'broken',\n",
              " 350: 'killed',\n",
              " 351: 'years',\n",
              " 352: 'wants',\n",
              " 353: 'while',\n",
              " 354: 'last',\n",
              " 355: 'wind',\n",
              " 356: 'blows',\n",
              " 357: 'hate',\n",
              " 358: 'words',\n",
              " 359: 'wanna',\n",
              " 360: 'house',\n",
              " 361: 'chorus',\n",
              " 362: \"he's\",\n",
              " 363: 'pretty',\n",
              " 364: 'shoot',\n",
              " 365: 'travel',\n",
              " 366: 'things',\n",
              " 367: 'fish',\n",
              " 368: 'people',\n",
              " 369: 'pennyroyal',\n",
              " 370: 'tea',\n",
              " 371: 'ground',\n",
              " 372: 'save',\n",
              " 373: 'show',\n",
              " 374: 'burlap',\n",
              " 375: 'driftwood',\n",
              " 376: 'side',\n",
              " 377: 'might',\n",
              " 378: 'sight',\n",
              " 379: 'master',\n",
              " 380: 'feed',\n",
              " 381: 'kind',\n",
              " 382: 'bring',\n",
              " 383: 'bored',\n",
              " 384: 'self',\n",
              " 385: 'forget',\n",
              " 386: 'taste',\n",
              " 387: 'smile',\n",
              " 388: 'apologies',\n",
              " 389: \"hangin'\",\n",
              " 390: \"'round\",\n",
              " 391: 'downtown',\n",
              " 392: 'sex',\n",
              " 393: 'candy',\n",
              " 394: 'lounging',\n",
              " 395: 'casting',\n",
              " 396: 'devious',\n",
              " 397: 'stares',\n",
              " 398: 'direction',\n",
              " 399: 'dig',\n",
              " 400: 'swear',\n",
              " 401: 'trap',\n",
              " 402: 'black',\n",
              " 403: 'today',\n",
              " 404: 'scared',\n",
              " 405: 'meet',\n",
              " 406: 'stare',\n",
              " 407: 'polly',\n",
              " 408: 'first',\n",
              " 409: 'true',\n",
              " 410: 'food',\n",
              " 411: 'nice',\n",
              " 412: 'says',\n",
              " 413: 'hang',\n",
              " 414: 'dry',\n",
              " 415: 'line',\n",
              " 416: 'mile',\n",
              " 417: 'heal',\n",
              " 418: 'start',\n",
              " 419: 'fire',\n",
              " 420: 'songs',\n",
              " 421: 'sing',\n",
              " 422: 'done',\n",
              " 423: 'chew',\n",
              " 424: 'bother',\n",
              " 425: 'move',\n",
              " 426: 'swell',\n",
              " 427: 'failed',\n",
              " 428: 'fail',\n",
              " 429: 'feelings',\n",
              " 430: 'bit',\n",
              " 431: 'look',\n",
              " 432: 'very',\n",
              " 433: 'stored',\n",
              " 434: \"i'd\",\n",
              " 435: 'turns',\n",
              " 436: 'wanted',\n",
              " 437: 'wear',\n",
              " 438: 'anything',\n",
              " 439: 'cover',\n",
              " 440: 'conclusion',\n",
              " 441: 'ohhh',\n",
              " 442: 'deep',\n",
              " 443: 'grin',\n",
              " 444: 'money',\n",
              " 445: 'roll',\n",
              " 446: 'hurt',\n",
              " 447: 'nothing',\n",
              " 448: 'aha',\n",
              " 449: 'plywood',\n",
              " 450: 'two',\n",
              " 451: 'opinions',\n",
              " 452: 'whooped',\n",
              " 453: 'hill',\n",
              " 454: 'son',\n",
              " 455: \"she'd\",\n",
              " 456: 'anywhere',\n",
              " 457: 'thee',\n",
              " 458: 'monkey',\n",
              " 459: 'seems',\n",
              " 460: 'x2',\n",
              " 461: 'town',\n",
              " 462: 'hold',\n",
              " 463: 'speak',\n",
              " 464: 'atleast',\n",
              " 465: 'ene',\n",
              " 466: 'biting',\n",
              " 467: 'defect',\n",
              " 468: 'reject',\n",
              " 469: 'beware',\n",
              " 470: 'far',\n",
              " 471: 'nirvana',\n",
              " 472: 'guns',\n",
              " 473: 'assured',\n",
              " 474: 'worse',\n",
              " 475: 'best',\n",
              " 476: 'gift',\n",
              " 477: 'blessed',\n",
              " 478: 'group',\n",
              " 479: 'whatever',\n",
              " 480: 'gay',\n",
              " 481: 'write',\n",
              " 482: 'blame',\n",
              " 483: 'cherry',\n",
              " 484: 'rest',\n",
              " 485: 'left',\n",
              " 486: \"we've\",\n",
              " 487: 'morning',\n",
              " 488: 'maybe',\n",
              " 489: 'broke',\n",
              " 490: 'sold',\n",
              " 491: 'world',\n",
              " 492: 'water',\n",
              " 493: \"isn't\",\n",
              " 494: 'seed',\n",
              " 495: 'clip',\n",
              " 496: 'wings',\n",
              " 497: 'rope',\n",
              " 498: 'told',\n",
              " 499: 'fit',\n",
              " 500: 'advantage',\n",
              " 501: 'hope',\n",
              " 502: 'date',\n",
              " 503: 'open',\n",
              " 504: 'concern',\n",
              " 505: 'rhyme',\n",
              " 506: 'run',\n",
              " 507: 'thing',\n",
              " 508: 'whore',\n",
              " 509: 'gone',\n",
              " 510: 'dumb',\n",
              " 511: \"we'll\",\n",
              " 512: 'soul',\n",
              " 513: 'met',\n",
              " 514: 'pass',\n",
              " 515: 'forth',\n",
              " 516: 'passionate',\n",
              " 517: \"you've\",\n",
              " 518: 'somebody',\n",
              " 519: 'crawl',\n",
              " 520: 'warm',\n",
              " 521: 'hide',\n",
              " 522: 'someone',\n",
              " 523: 'rights',\n",
              " 524: 'breed',\n",
              " 525: 'plant',\n",
              " 526: 'build',\n",
              " 527: 'tree',\n",
              " 528: 'three',\n",
              " 529: 'folks',\n",
              " 530: 'angels',\n",
              " 531: 'fly',\n",
              " 532: \"'em\",\n",
              " 533: 'bones',\n",
              " 534: 'anemic',\n",
              " 535: 'royalty',\n",
              " 536: 'before',\n",
              " 537: 'reach',\n",
              " 538: 'grown',\n",
              " 539: 'drone',\n",
              " 540: 'stoned',\n",
              " 541: 'range',\n",
              " 542: 'truth',\n",
              " 543: 'covered',\n",
              " 544: 'work',\n",
              " 545: 'taking',\n",
              " 546: 'arrest',\n",
              " 547: 'shield',\n",
              " 548: 'prove',\n",
              " 549: \"what's\",\n",
              " 550: \"they'll\",\n",
              " 551: 'comfort',\n",
              " 552: 'blanket',\n",
              " 553: 'breathing',\n",
              " 554: 'seem',\n",
              " 555: 'emotion',\n",
              " 556: 'cannot',\n",
              " 557: 'formulate',\n",
              " 558: 'infinity',\n",
              " 559: \"haven't\",\n",
              " 560: 'dying',\n",
              " 561: 'next',\n",
              " 562: 'many',\n",
              " 563: 'seen',\n",
              " 564: 'others',\n",
              " 565: 'among',\n",
              " 566: 'chains',\n",
              " 567: 're',\n",
              " 568: 'mi',\n",
              " 569: 'together',\n",
              " 570: 'difference',\n",
              " 571: \"molly's\",\n",
              " 572: 'ends',\n",
              " 573: 'queen',\n",
              " 574: 'breather',\n",
              " 575: 'door',\n",
              " 576: 'born',\n",
              " 577: 'burns',\n",
              " 578: 'live',\n",
              " 579: 'country',\n",
              " 580: 'writing',\n",
              " 581: 'enough',\n",
              " 582: 'monday',\n",
              " 583: 'tuesday',\n",
              " 584: 'wednesday',\n",
              " 585: 'thursday',\n",
              " 586: 'friday',\n",
              " 587: 'saturday',\n",
              " 588: 'other',\n",
              " 589: 'crystal',\n",
              " 590: 'locket',\n",
              " 591: 'almounds',\n",
              " 592: 'garbage',\n",
              " 593: 'language',\n",
              " 594: 'seamy',\n",
              " 595: 'doll',\n",
              " 596: 'paint',\n",
              " 597: 'won',\n",
              " 598: 'wing',\n",
              " 599: 'tonight',\n",
              " 600: 'towards',\n",
              " 601: 'confess',\n",
              " 602: 'hungry',\n",
              " 603: 'resume',\n",
              " 604: 'process',\n",
              " 605: 'freaking',\n",
              " 606: 'white',\n",
              " 607: 'sicker',\n",
              " 608: 'lead',\n",
              " 609: 'lifetime',\n",
              " 610: 'comfortable',\n",
              " 611: 'stomachs',\n",
              " 612: 'arts',\n",
              " 613: 'crafts',\n",
              " 614: 'seashells',\n",
              " 615: 'swap',\n",
              " 616: 'battle',\n",
              " 617: 'load',\n",
              " 618: 'yeh',\n",
              " 619: 'easily',\n",
              " 620: 'amused',\n",
              " 621: 'nest',\n",
              " 622: 'salt',\n",
              " 623: \"everything's\",\n",
              " 624: 'fault',\n",
              " 625: 'aqua',\n",
              " 626: 'seafoam',\n",
              " 627: 'sunburn',\n",
              " 628: 'freezer',\n",
              " 629: 'choking',\n",
              " 630: 'ashes',\n",
              " 631: 'pie',\n",
              " 632: 'superfly',\n",
              " 633: 'caffeine',\n",
              " 634: \"thinkin'\",\n",
              " 635: \"'bout\",\n",
              " 636: 'platform',\n",
              " 637: 'suede',\n",
              " 638: 'lemonade',\n",
              " 639: 'known',\n",
              " 640: 'hurry',\n",
              " 641: 'choice',\n",
              " 642: 'late',\n",
              " 643: 'doused',\n",
              " 644: 'mud',\n",
              " 645: 'soaked',\n",
              " 646: 'bleach',\n",
              " 647: 'trend',\n",
              " 648: 'pisces',\n",
              " 649: 'weak',\n",
              " 650: 'locked',\n",
              " 651: 'shaped',\n",
              " 652: 'box',\n",
              " 653: 'weeks',\n",
              " 654: 'drawn',\n",
              " 655: 'magnetar',\n",
              " 656: 'pit',\n",
              " 657: 'cancer',\n",
              " 658: 'angel',\n",
              " 659: 'breath',\n",
              " 660: 'throw',\n",
              " 661: 'noose',\n",
              " 662: 'because',\n",
              " 663: 'ugly',\n",
              " 664: 'mirrors',\n",
              " 665: 'everyday',\n",
              " 666: 'candles',\n",
              " 667: 'daze',\n",
              " 668: 'heard',\n",
              " 669: 'spoke',\n",
              " 670: 'ago',\n",
              " 671: 'control',\n",
              " 672: 'land',\n",
              " 673: 'cracker',\n",
              " 674: 'few',\n",
              " 675: 'shoe',\n",
              " 676: 'clue',\n",
              " 677: 'standing',\n",
              " 678: 'husband',\n",
              " 679: 'working',\n",
              " 680: 'driving',\n",
              " 681: 'wheel',\n",
              " 682: 'body',\n",
              " 683: 'favorite',\n",
              " 684: 'verse',\n",
              " 685: 'real',\n",
              " 686: \"livin'\",\n",
              " 687: 'sell',\n",
              " 688: 'weather',\n",
              " 689: 'having',\n",
              " 690: 'glue',\n",
              " 691: 'float',\n",
              " 692: 'hangover',\n",
              " 693: 'skin',\n",
              " 694: 'fall',\n",
              " 695: 'asleep',\n",
              " 696: 'learned',\n",
              " 697: 'wake',\n",
              " 698: 'lucky',\n",
              " 699: 'unless',\n",
              " 700: 'duty',\n",
              " 701: 'completely',\n",
              " 702: 'drain',\n",
              " 703: 'tube',\n",
              " 704: 'infection',\n",
              " 705: 'poison',\n",
              " 706: 'yellow',\n",
              " 707: 'finally',\n",
              " 708: 'calm',\n",
              " 709: 'longer',\n",
              " 710: \"there's\",\n",
              " 711: \"nothin'\",\n",
              " 712: 'bothers',\n",
              " 713: 'herself',\n",
              " 714: 'underneath',\n",
              " 715: 'bridge',\n",
              " 716: 'tarp',\n",
              " 717: 'sprung',\n",
              " 718: 'leak',\n",
              " 719: 'animals',\n",
              " 720: 'trapped',\n",
              " 721: 'become',\n",
              " 722: 'pets',\n",
              " 723: 'drippings',\n",
              " 724: 'ceiling',\n",
              " 725: 'ghost',\n",
              " 726: 'heaven',\n",
              " 727: 'lake',\n",
              " 728: 'fry',\n",
              " 729: 'till',\n",
              " 730: 'fourth',\n",
              " 731: 'july',\n",
              " 732: 'lady',\n",
              " 733: 'dog',\n",
              " 734: 'went',\n",
              " 735: 'soon',\n",
              " 736: 'distill',\n",
              " 737: 'sigh',\n",
              " 738: 'tired',\n",
              " 739: 'scratched',\n",
              " 740: 'mother',\n",
              " 741: 'safe',\n",
              " 742: 'zip',\n",
              " 743: 'sense',\n",
              " 744: 'fuck',\n",
              " 745: 'security',\n",
              " 746: 'smother',\n",
              " 747: \"couldn't\",\n",
              " 748: 'trading',\n",
              " 749: 'regret',\n",
              " 750: 'share',\n",
              " 751: 'grew',\n",
              " 752: 'paid',\n",
              " 753: 'same',\n",
              " 754: 'being',\n",
              " 755: 'fool',\n",
              " 756: 'wallow',\n",
              " 757: 'touch',\n",
              " 758: 'results',\n",
              " 759: 'perfect',\n",
              " 760: 'news',\n",
              " 761: 'voice',\n",
              " 762: 'sprinkled',\n",
              " 763: 'invented',\n",
              " 764: 'birth',\n",
              " 765: 'expanse',\n",
              " 766: 'star',\n",
              " 767: 'car',\n",
              " 768: 'admit',\n",
              " 769: 'rich',\n",
              " 770: 'lot',\n",
              " 771: 'serve',\n",
              " 772: 'servants',\n",
              " 773: 'legendary',\n",
              " 774: 'divorce',\n",
              " 775: 'such',\n",
              " 776: 'bore',\n",
              " 777: 'instead',\n",
              " 778: 'dad',\n",
              " 779: 'grandma',\n",
              " 780: 'dinner',\n",
              " 781: 'after',\n",
              " 782: 'ice',\n",
              " 783: 'tv',\n",
              " 784: 'twist',\n",
              " 785: 'flea',\n",
              " 786: 'market',\n",
              " 787: 'mrs',\n",
              " 788: 'butterworth',\n",
              " 789: 'jars',\n",
              " 790: 'shelf',\n",
              " 791: 'piece',\n",
              " 792: 'squares',\n",
              " 793: 'onto',\n",
              " 794: 'beach',\n",
              " 795: 'shells',\n",
              " 796: 'plateau',\n",
              " 797: 'sand',\n",
              " 798: 'hands',\n",
              " 799: 'mop',\n",
              " 800: 'birds',\n",
              " 801: 'finished',\n",
              " 802: 'clean',\n",
              " 803: 'dirt',\n",
              " 804: 'stood',\n",
              " 805: 'pocket',\n",
              " 806: 'trees',\n",
              " 807: 'socket',\n",
              " 808: 'rays',\n",
              " 809: 'hot',\n",
              " 810: \"hidin'\",\n",
              " 811: 'pull',\n",
              " 812: 'trigger',\n",
              " 813: 'bet',\n",
              " 814: 'stayed',\n",
              " 815: 'rather',\n",
              " 816: 'cool',\n",
              " 817: 'blind',\n",
              " 818: 'fashion',\n",
              " 819: 'deceive',\n",
              " 820: 'repeat',\n",
              " 821: 'lies',\n",
              " 822: 'runny',\n",
              " 823: 'someday',\n",
              " 824: 'horse',\n",
              " 825: 'alt',\n",
              " 826: 'flowers',\n",
              " 827: 'spank',\n",
              " 828: 'masturbate',\n",
              " 829: 'looking',\n",
              " 830: 'days',\n",
              " 831: 'use',\n",
              " 832: 'destroy',\n",
              " 833: 'invasion',\n",
              " 834: 'piracy',\n",
              " 835: 'afterbirth',\n",
              " 836: 'nation',\n",
              " 837: 'starved',\n",
              " 838: 'skeleton',\n",
              " 839: 'key',\n",
              " 840: \"acne'd\",\n",
              " 841: 'cigarette',\n",
              " 842: 'sudden',\n",
              " 843: 'lone',\n",
              " 844: 'single',\n",
              " 845: 'waiting',\n",
              " 846: 'hit',\n",
              " 847: 'restitution',\n",
              " 848: 'fusion',\n",
              " 849: 'fleece',\n",
              " 850: 'shun',\n",
              " 851: 'guilty',\n",
              " 852: 'sink',\n",
              " 853: 'thank',\n",
              " 854: 'floyd',\n",
              " 855: 'pee',\n",
              " 856: 'against',\n",
              " 857: 'fishin',\n",
              " 858: 'wife',\n",
              " 859: 'marijuana',\n",
              " 860: 'rang',\n",
              " 861: 'wishfull',\n",
              " 862: 'godess',\n",
              " 863: \"chippin'\",\n",
              " 864: 'leader',\n",
              " 865: 'steak',\n",
              " 866: 'test',\n",
              " 867: 'pet',\n",
              " 868: 'ecto',\n",
              " 869: 'rose',\n",
              " 870: 'fine',\n",
              " 871: 'arrow',\n",
              " 872: 'anti',\n",
              " 873: 'social',\n",
              " 874: 'image',\n",
              " 875: 'mayday',\n",
              " 876: 'dimension',\n",
              " 877: 'seven',\n",
              " 878: 'watch',\n",
              " 879: 'coming',\n",
              " 880: 'sides',\n",
              " 881: 'tensions',\n",
              " 882: 'sitting',\n",
              " 883: 'pecker',\n",
              " 884: 'potentials',\n",
              " 885: 'complex',\n",
              " 886: 'comes',\n",
              " 887: 'scentless',\n",
              " 888: 'congratulations',\n",
              " 889: 'subscription',\n",
              " 890: 'puns',\n",
              " 891: 'story',\n",
              " 892: 'set',\n",
              " 893: 'returns',\n",
              " 894: 'cigarettes',\n",
              " 895: 'photographs',\n",
              " 896: 'bitterness',\n",
              " 897: 'sky',\n",
              " 898: 'family',\n",
              " 899: 'eating',\n",
              " 900: 'orchids',\n",
              " 901: 'forgive',\n",
              " 902: 'yet',\n",
              " 903: 'hair',\n",
              " 904: \"baby's\",\n",
              " 905: 'hymen',\n",
              " 906: 'highness',\n",
              " 907: 'umbilical',\n",
              " 908: 'climb',\n",
              " 909: 'lonely',\n",
              " 910: 'shaved',\n",
              " 911: 'sure',\n",
              " 912: 'excited',\n",
              " 913: 'horny',\n",
              " 914: 'passed',\n",
              " 915: 'upon',\n",
              " 916: 'stair',\n",
              " 917: 'although',\n",
              " 918: \"wasn't\",\n",
              " 919: 'which',\n",
              " 920: 'surprise',\n",
              " 921: 'laughed',\n",
              " 922: 'shook',\n",
              " 923: 'searched',\n",
              " 924: 'form',\n",
              " 925: 'roamed',\n",
              " 926: 'gazed',\n",
              " 927: 'gazley',\n",
              " 928: 'millions',\n",
              " 929: 'must',\n",
              " 930: 'knows',\n",
              " 931: 'blow',\n",
              " 932: 'torch',\n",
              " 933: 'asks',\n",
              " 934: 'untie',\n",
              " 935: 'chase',\n",
              " 936: 'hurts',\n",
              " 937: 'caught',\n",
              " 938: 'guard',\n",
              " 939: 'amazes',\n",
              " 940: 'instinct',\n",
              " 941: 'ear',\n",
              " 942: 'lend',\n",
              " 943: 'number',\n",
              " 944: 'whip',\n",
              " 945: 'waste',\n",
              " 946: 'source',\n",
              " 947: 'sores',\n",
              " 948: 'appreciate',\n",
              " 949: 'stink',\n",
              " 950: 'overbored',\n",
              " 951: 'mullato',\n",
              " 952: '1',\n",
              " 953: 'forward',\n",
              " 954: 'yesterday',\n",
              " 955: 'under',\n",
              " 956: 'mouse',\n",
              " 957: \"all's\",\n",
              " 958: 'gots',\n",
              " 959: 'meaning',\n",
              " 960: '2',\n",
              " 961: \"feelin'\",\n",
              " 962: 'uninspired',\n",
              " 963: 'everybody',\n",
              " 964: \"bobby's\",\n",
              " 965: 'kinda',\n",
              " 966: 'neat',\n",
              " 967: 'tells',\n",
              " 968: 'kids',\n",
              " 969: 'changes',\n",
              " 970: 'moods',\n",
              " 971: 'spring',\n",
              " 972: 'reproductive',\n",
              " 973: 'glands',\n",
              " 974: 'nature',\n",
              " 975: 'bruises',\n",
              " 976: 'fruit',\n",
              " 977: 'tender',\n",
              " 978: 'age',\n",
              " 979: 'bloom',\n",
              " 980: 'inhale',\n",
              " 981: 'mend',\n",
              " 982: 'clouds',\n",
              " 983: 'cheap',\n",
              " 984: 'lesson',\n",
              " 985: 'soothe',\n",
              " 986: 'dilated',\n",
              " 987: 'became',\n",
              " 988: 'pupil',\n",
              " 989: 'taught',\n",
              " 990: 'everything',\n",
              " 991: 'apple',\n",
              " 992: 'healthy',\n",
              " 993: 'student',\n",
              " 994: 'indebted',\n",
              " 995: 'grateful',\n",
              " 996: 'vacuum',\n",
              " 997: 'fluids',\n",
              " 998: 'sloppy',\n",
              " 999: 'vitamins',\n",
              " 1000: 'freed',\n",
              " ...}"
            ]
          },
          "metadata": {},
          "execution_count": 131
        }
      ]
    },
    {
      "cell_type": "code",
      "metadata": {
        "id": "gJgVhq1zwEpf",
        "colab": {
          "base_uri": "https://localhost:8080/"
        },
        "outputId": "a61e15e5-14e0-4cda-8b03-20f54812bf42"
      },
      "source": [
        "# Cantidad de palabras en el vocabulario\n",
        "vocab_size = len(tok.word_counts)\n",
        "vocab_size"
      ],
      "execution_count": 132,
      "outputs": [
        {
          "output_type": "execute_result",
          "data": {
            "text/plain": [
              "1479"
            ]
          },
          "metadata": {},
          "execution_count": 132
        }
      ]
    },
    {
      "cell_type": "code",
      "metadata": {
        "id": "qWjNrNx9wM1b",
        "colab": {
          "base_uri": "https://localhost:8080/"
        },
        "outputId": "931f8f2b-b0ec-44d0-fbbb-8b08d332a147"
      },
      "source": [
        "# En el caso anterior explota porque y_data_int comienza en \"1\" en vez de \"0\"\n",
        "# valor minimo:\n",
        "min(y_data_int)"
      ],
      "execution_count": 133,
      "outputs": [
        {
          "output_type": "execute_result",
          "data": {
            "text/plain": [
              "1"
            ]
          },
          "metadata": {},
          "execution_count": 133
        }
      ]
    },
    {
      "cell_type": "code",
      "metadata": {
        "id": "gIg2e2WCwXbG",
        "colab": {
          "base_uri": "https://localhost:8080/"
        },
        "outputId": "b4fb2ac8-b982-4793-ca4f-07134c5f403b"
      },
      "source": [
        "y_data_int_offset = y_data_int - 1\n",
        "y_data = to_categorical(y_data_int_offset, num_classes=vocab_size) \n",
        "y_data.shape"
      ],
      "execution_count": 134,
      "outputs": [
        {
          "output_type": "execute_result",
          "data": {
            "text/plain": [
              "(12342, 1479)"
            ]
          },
          "metadata": {},
          "execution_count": 134
        }
      ]
    },
    {
      "cell_type": "markdown",
      "metadata": {
        "id": "GmJWNyxQwfCE"
      },
      "source": [
        "### Entrenar el modelo"
      ]
    },
    {
      "cell_type": "code",
      "metadata": {
        "id": "0cOmNZT_weK2",
        "colab": {
          "base_uri": "https://localhost:8080/"
        },
        "outputId": "3f09b7bb-7581-471f-8e97-c77a405e51d4"
      },
      "source": [
        "# largo de la secuencia de entrada\n",
        "input_seq_len = x_data.shape[1] \n",
        "input_seq_len"
      ],
      "execution_count": 135,
      "outputs": [
        {
          "output_type": "execute_result",
          "data": {
            "text/plain": [
              "3"
            ]
          },
          "metadata": {},
          "execution_count": 135
        }
      ]
    },
    {
      "cell_type": "code",
      "metadata": {
        "id": "qtwITjgnwlgp",
        "colab": {
          "base_uri": "https://localhost:8080/"
        },
        "outputId": "c70033b0-ec9a-4063-8971-e20b2b23dbb9"
      },
      "source": [
        "# Largo del vector de salida --> vocab_size\n",
        "output_size = vocab_size\n",
        "output_size"
      ],
      "execution_count": 136,
      "outputs": [
        {
          "output_type": "execute_result",
          "data": {
            "text/plain": [
              "1479"
            ]
          },
          "metadata": {},
          "execution_count": 136
        }
      ]
    },
    {
      "cell_type": "code",
      "metadata": {
        "id": "jzTZRXrrwrvi",
        "colab": {
          "base_uri": "https://localhost:8080/"
        },
        "outputId": "0d77b6de-7bd7-474e-b663-b4be2b17fc55"
      },
      "source": [
        "from tensorflow.keras.optimizers import SGD, Adam\n",
        "\n",
        "model = Sequential()\n",
        "\n",
        "# Embedding:\n",
        "# input_seq_len = 3 --> ingreso 3 palabras\n",
        "# input_dim = vocab_size --> 1628 palabras distintas\n",
        "# output_dim = 5 --> crear embeddings de tamaño 3 (tamaño variable y ajustable)\n",
        "model.add(Embedding(input_dim=vocab_size+1, output_dim=5, input_length=input_seq_len))\n",
        "\n",
        "model.add(Bidirectional(LSTM(128, return_sequences=True)))\n",
        "model.add(Dropout(0.2))\n",
        "model.add(Bidirectional(LSTM(128))) # La última capa LSTM no lleva return_sequences\n",
        "model.add(Dense(32, activation='relu'))\n",
        "\n",
        "# Predicción de clasificación con softmax\n",
        "# La salida vuelve al espacio de 1628 palabras posibles\n",
        "model.add(Dense(vocab_size, activation='softmax'))\n",
        "\n",
        "# Clasificación multiple categórica --> loss = categorical_crossentropy\n",
        "\n",
        "epochs = 120\n",
        "learning_rate = 0.001\n",
        "decay_rate = learning_rate / epochs\n",
        "\n",
        "sgd = Adam(lr=learning_rate, decay=decay_rate)\n",
        "\n",
        "model.compile(loss='categorical_crossentropy', optimizer=sgd, metrics=['accuracy'])\n",
        "\n",
        "model.summary()"
      ],
      "execution_count": 137,
      "outputs": [
        {
          "output_type": "stream",
          "name": "stdout",
          "text": [
            "Model: \"sequential_6\"\n",
            "_________________________________________________________________\n",
            "Layer (type)                 Output Shape              Param #   \n",
            "=================================================================\n",
            "embedding_6 (Embedding)      (None, 3, 5)              7400      \n",
            "_________________________________________________________________\n",
            "bidirectional_12 (Bidirectio (None, 3, 256)            137216    \n",
            "_________________________________________________________________\n",
            "dropout_6 (Dropout)          (None, 3, 256)            0         \n",
            "_________________________________________________________________\n",
            "bidirectional_13 (Bidirectio (None, 256)               394240    \n",
            "_________________________________________________________________\n",
            "dense_12 (Dense)             (None, 32)                8224      \n",
            "_________________________________________________________________\n",
            "dense_13 (Dense)             (None, 1479)              48807     \n",
            "=================================================================\n",
            "Total params: 595,887\n",
            "Trainable params: 595,887\n",
            "Non-trainable params: 0\n",
            "_________________________________________________________________\n"
          ]
        },
        {
          "output_type": "stream",
          "name": "stderr",
          "text": [
            "/usr/local/lib/python3.7/dist-packages/keras/optimizer_v2/optimizer_v2.py:356: UserWarning: The `lr` argument is deprecated, use `learning_rate` instead.\n",
            "  \"The `lr` argument is deprecated, use `learning_rate` instead.\")\n"
          ]
        }
      ]
    },
    {
      "cell_type": "code",
      "metadata": {
        "id": "oQq1PHDkxDvN",
        "colab": {
          "base_uri": "https://localhost:8080/"
        },
        "outputId": "2cde6dcb-b2d6-4435-f9f0-d5cbdc202493"
      },
      "source": [
        "hist = model.fit(x_data, y_data, epochs=epochs, validation_split=0.2)"
      ],
      "execution_count": 138,
      "outputs": [
        {
          "output_type": "stream",
          "name": "stdout",
          "text": [
            "Epoch 1/120\n",
            "309/309 [==============================] - 13s 22ms/step - loss: 6.1110 - accuracy: 0.0383 - val_loss: 6.7030 - val_accuracy: 0.0312\n",
            "Epoch 2/120\n",
            "309/309 [==============================] - 5s 16ms/step - loss: 5.6411 - accuracy: 0.0436 - val_loss: 6.9303 - val_accuracy: 0.0211\n",
            "Epoch 3/120\n",
            "309/309 [==============================] - 5s 16ms/step - loss: 5.4997 - accuracy: 0.0443 - val_loss: 7.0153 - val_accuracy: 0.0284\n",
            "Epoch 4/120\n",
            "309/309 [==============================] - 5s 16ms/step - loss: 5.2047 - accuracy: 0.0600 - val_loss: 7.4492 - val_accuracy: 0.0397\n",
            "Epoch 5/120\n",
            "309/309 [==============================] - 5s 16ms/step - loss: 4.9535 - accuracy: 0.0877 - val_loss: 7.7008 - val_accuracy: 0.0466\n",
            "Epoch 6/120\n",
            "309/309 [==============================] - 5s 16ms/step - loss: 4.7489 - accuracy: 0.1015 - val_loss: 7.9878 - val_accuracy: 0.0454\n",
            "Epoch 7/120\n",
            "309/309 [==============================] - 5s 16ms/step - loss: 4.5858 - accuracy: 0.1143 - val_loss: 8.2363 - val_accuracy: 0.0494\n",
            "Epoch 8/120\n",
            "309/309 [==============================] - 5s 16ms/step - loss: 4.4322 - accuracy: 0.1296 - val_loss: 8.8276 - val_accuracy: 0.0365\n",
            "Epoch 9/120\n",
            "309/309 [==============================] - 5s 16ms/step - loss: 4.2928 - accuracy: 0.1484 - val_loss: 8.9116 - val_accuracy: 0.0527\n",
            "Epoch 10/120\n",
            "309/309 [==============================] - 5s 16ms/step - loss: 4.1635 - accuracy: 0.1636 - val_loss: 9.2328 - val_accuracy: 0.0522\n",
            "Epoch 11/120\n",
            "309/309 [==============================] - 5s 16ms/step - loss: 4.0070 - accuracy: 0.1803 - val_loss: 9.6338 - val_accuracy: 0.0490\n",
            "Epoch 12/120\n",
            "309/309 [==============================] - 5s 16ms/step - loss: 3.8551 - accuracy: 0.2037 - val_loss: 9.9397 - val_accuracy: 0.0446\n",
            "Epoch 13/120\n",
            "309/309 [==============================] - 5s 16ms/step - loss: 3.7036 - accuracy: 0.2246 - val_loss: 10.4085 - val_accuracy: 0.0506\n",
            "Epoch 14/120\n",
            "309/309 [==============================] - 5s 16ms/step - loss: 3.5581 - accuracy: 0.2461 - val_loss: 10.8584 - val_accuracy: 0.0672\n",
            "Epoch 15/120\n",
            "309/309 [==============================] - 5s 16ms/step - loss: 3.4036 - accuracy: 0.2720 - val_loss: 11.2498 - val_accuracy: 0.0648\n",
            "Epoch 16/120\n",
            "309/309 [==============================] - 5s 16ms/step - loss: 3.2555 - accuracy: 0.2931 - val_loss: 11.4707 - val_accuracy: 0.0567\n",
            "Epoch 17/120\n",
            "309/309 [==============================] - 5s 16ms/step - loss: 3.1129 - accuracy: 0.3215 - val_loss: 12.1547 - val_accuracy: 0.0709\n",
            "Epoch 18/120\n",
            "309/309 [==============================] - 5s 16ms/step - loss: 2.9819 - accuracy: 0.3422 - val_loss: 12.7142 - val_accuracy: 0.0757\n",
            "Epoch 19/120\n",
            "309/309 [==============================] - 5s 16ms/step - loss: 2.8650 - accuracy: 0.3643 - val_loss: 13.2926 - val_accuracy: 0.0733\n",
            "Epoch 20/120\n",
            "309/309 [==============================] - 5s 16ms/step - loss: 2.7377 - accuracy: 0.3882 - val_loss: 13.7018 - val_accuracy: 0.0875\n",
            "Epoch 21/120\n",
            "309/309 [==============================] - 5s 16ms/step - loss: 2.6291 - accuracy: 0.4046 - val_loss: 13.8749 - val_accuracy: 0.0871\n",
            "Epoch 22/120\n",
            "309/309 [==============================] - 5s 16ms/step - loss: 2.5291 - accuracy: 0.4289 - val_loss: 14.5885 - val_accuracy: 0.0855\n",
            "Epoch 23/120\n",
            "309/309 [==============================] - 5s 16ms/step - loss: 2.4375 - accuracy: 0.4436 - val_loss: 14.9738 - val_accuracy: 0.1009\n",
            "Epoch 24/120\n",
            "309/309 [==============================] - 5s 16ms/step - loss: 2.3404 - accuracy: 0.4633 - val_loss: 15.4764 - val_accuracy: 0.0928\n",
            "Epoch 25/120\n",
            "309/309 [==============================] - 5s 16ms/step - loss: 2.2340 - accuracy: 0.4873 - val_loss: 15.9498 - val_accuracy: 0.1025\n",
            "Epoch 26/120\n",
            "309/309 [==============================] - 5s 16ms/step - loss: 2.1687 - accuracy: 0.4984 - val_loss: 16.4258 - val_accuracy: 0.1033\n",
            "Epoch 27/120\n",
            "309/309 [==============================] - 5s 16ms/step - loss: 2.0953 - accuracy: 0.5162 - val_loss: 16.7762 - val_accuracy: 0.1021\n",
            "Epoch 28/120\n",
            "309/309 [==============================] - 5s 16ms/step - loss: 2.0151 - accuracy: 0.5302 - val_loss: 17.4822 - val_accuracy: 0.1057\n",
            "Epoch 29/120\n",
            "309/309 [==============================] - 5s 16ms/step - loss: 1.9712 - accuracy: 0.5405 - val_loss: 17.3181 - val_accuracy: 0.1077\n",
            "Epoch 30/120\n",
            "309/309 [==============================] - 5s 16ms/step - loss: 1.9048 - accuracy: 0.5523 - val_loss: 18.1813 - val_accuracy: 0.1090\n",
            "Epoch 31/120\n",
            "309/309 [==============================] - 5s 16ms/step - loss: 1.8374 - accuracy: 0.5623 - val_loss: 18.2233 - val_accuracy: 0.1138\n",
            "Epoch 32/120\n",
            "309/309 [==============================] - 5s 16ms/step - loss: 1.7786 - accuracy: 0.5755 - val_loss: 18.8114 - val_accuracy: 0.1134\n",
            "Epoch 33/120\n",
            "309/309 [==============================] - 5s 16ms/step - loss: 1.7320 - accuracy: 0.5872 - val_loss: 19.3819 - val_accuracy: 0.1114\n",
            "Epoch 34/120\n",
            "309/309 [==============================] - 5s 16ms/step - loss: 1.6777 - accuracy: 0.5934 - val_loss: 19.4759 - val_accuracy: 0.1130\n",
            "Epoch 35/120\n",
            "309/309 [==============================] - 5s 16ms/step - loss: 1.6341 - accuracy: 0.6090 - val_loss: 19.6161 - val_accuracy: 0.1150\n",
            "Epoch 36/120\n",
            "309/309 [==============================] - 5s 16ms/step - loss: 1.5970 - accuracy: 0.6160 - val_loss: 20.4303 - val_accuracy: 0.1187\n",
            "Epoch 37/120\n",
            "309/309 [==============================] - 5s 16ms/step - loss: 1.5477 - accuracy: 0.6253 - val_loss: 20.6140 - val_accuracy: 0.1154\n",
            "Epoch 38/120\n",
            "309/309 [==============================] - 5s 16ms/step - loss: 1.4908 - accuracy: 0.6381 - val_loss: 20.8523 - val_accuracy: 0.1171\n",
            "Epoch 39/120\n",
            "309/309 [==============================] - 5s 16ms/step - loss: 1.4665 - accuracy: 0.6425 - val_loss: 20.8931 - val_accuracy: 0.1158\n",
            "Epoch 40/120\n",
            "309/309 [==============================] - 5s 16ms/step - loss: 1.4279 - accuracy: 0.6504 - val_loss: 21.4751 - val_accuracy: 0.1179\n",
            "Epoch 41/120\n",
            "309/309 [==============================] - 5s 16ms/step - loss: 1.3815 - accuracy: 0.6576 - val_loss: 21.8006 - val_accuracy: 0.1171\n",
            "Epoch 42/120\n",
            "309/309 [==============================] - 5s 16ms/step - loss: 1.3503 - accuracy: 0.6652 - val_loss: 21.9339 - val_accuracy: 0.1247\n",
            "Epoch 43/120\n",
            "309/309 [==============================] - 5s 16ms/step - loss: 1.2996 - accuracy: 0.6762 - val_loss: 22.4734 - val_accuracy: 0.1191\n",
            "Epoch 44/120\n",
            "309/309 [==============================] - 5s 16ms/step - loss: 1.2766 - accuracy: 0.6848 - val_loss: 22.5008 - val_accuracy: 0.1235\n",
            "Epoch 45/120\n",
            "309/309 [==============================] - 5s 16ms/step - loss: 1.2517 - accuracy: 0.6882 - val_loss: 22.6324 - val_accuracy: 0.1239\n",
            "Epoch 46/120\n",
            "309/309 [==============================] - 5s 16ms/step - loss: 1.2091 - accuracy: 0.6985 - val_loss: 23.0642 - val_accuracy: 0.1231\n",
            "Epoch 47/120\n",
            "309/309 [==============================] - 5s 16ms/step - loss: 1.1888 - accuracy: 0.7018 - val_loss: 23.0900 - val_accuracy: 0.1256\n",
            "Epoch 48/120\n",
            "309/309 [==============================] - 5s 16ms/step - loss: 1.1487 - accuracy: 0.7143 - val_loss: 23.7158 - val_accuracy: 0.1247\n",
            "Epoch 49/120\n",
            "309/309 [==============================] - 5s 16ms/step - loss: 1.1192 - accuracy: 0.7154 - val_loss: 23.8941 - val_accuracy: 0.1252\n",
            "Epoch 50/120\n",
            "309/309 [==============================] - 5s 16ms/step - loss: 1.1022 - accuracy: 0.7241 - val_loss: 23.9086 - val_accuracy: 0.1235\n",
            "Epoch 51/120\n",
            "309/309 [==============================] - 5s 16ms/step - loss: 1.0799 - accuracy: 0.7262 - val_loss: 24.4577 - val_accuracy: 0.1308\n",
            "Epoch 52/120\n",
            "309/309 [==============================] - 5s 16ms/step - loss: 1.0314 - accuracy: 0.7357 - val_loss: 24.8871 - val_accuracy: 0.1328\n",
            "Epoch 53/120\n",
            "309/309 [==============================] - 5s 16ms/step - loss: 1.0136 - accuracy: 0.7425 - val_loss: 24.8403 - val_accuracy: 0.1316\n",
            "Epoch 54/120\n",
            "309/309 [==============================] - 5s 16ms/step - loss: 0.9984 - accuracy: 0.7413 - val_loss: 24.8366 - val_accuracy: 0.1304\n",
            "Epoch 55/120\n",
            "309/309 [==============================] - 5s 16ms/step - loss: 0.9845 - accuracy: 0.7449 - val_loss: 24.9285 - val_accuracy: 0.1316\n",
            "Epoch 56/120\n",
            "309/309 [==============================] - 5s 16ms/step - loss: 0.9519 - accuracy: 0.7534 - val_loss: 25.4757 - val_accuracy: 0.1328\n",
            "Epoch 57/120\n",
            "309/309 [==============================] - 5s 16ms/step - loss: 0.9249 - accuracy: 0.7594 - val_loss: 26.1044 - val_accuracy: 0.1284\n",
            "Epoch 58/120\n",
            "309/309 [==============================] - 5s 16ms/step - loss: 0.9132 - accuracy: 0.7638 - val_loss: 26.1893 - val_accuracy: 0.1292\n",
            "Epoch 59/120\n",
            "309/309 [==============================] - 5s 16ms/step - loss: 0.9047 - accuracy: 0.7586 - val_loss: 26.2216 - val_accuracy: 0.1320\n",
            "Epoch 60/120\n",
            "309/309 [==============================] - 5s 16ms/step - loss: 0.8590 - accuracy: 0.7764 - val_loss: 26.2553 - val_accuracy: 0.1361\n",
            "Epoch 61/120\n",
            "309/309 [==============================] - 5s 16ms/step - loss: 0.8446 - accuracy: 0.7775 - val_loss: 26.5152 - val_accuracy: 0.1316\n",
            "Epoch 62/120\n",
            "309/309 [==============================] - 5s 16ms/step - loss: 0.8249 - accuracy: 0.7826 - val_loss: 26.7005 - val_accuracy: 0.1341\n",
            "Epoch 63/120\n",
            "309/309 [==============================] - 5s 16ms/step - loss: 0.7949 - accuracy: 0.7851 - val_loss: 26.7786 - val_accuracy: 0.1304\n",
            "Epoch 64/120\n",
            "309/309 [==============================] - 5s 16ms/step - loss: 0.7999 - accuracy: 0.7839 - val_loss: 26.8191 - val_accuracy: 0.1296\n",
            "Epoch 65/120\n",
            "309/309 [==============================] - 5s 16ms/step - loss: 0.7747 - accuracy: 0.7969 - val_loss: 27.4481 - val_accuracy: 0.1418\n",
            "Epoch 66/120\n",
            "309/309 [==============================] - 5s 16ms/step - loss: 0.7709 - accuracy: 0.7947 - val_loss: 27.5579 - val_accuracy: 0.1357\n",
            "Epoch 67/120\n",
            "309/309 [==============================] - 5s 16ms/step - loss: 0.7487 - accuracy: 0.7990 - val_loss: 27.6356 - val_accuracy: 0.1373\n",
            "Epoch 68/120\n",
            "309/309 [==============================] - 5s 17ms/step - loss: 0.7330 - accuracy: 0.8029 - val_loss: 28.5519 - val_accuracy: 0.1397\n",
            "Epoch 69/120\n",
            "309/309 [==============================] - 5s 16ms/step - loss: 0.7270 - accuracy: 0.8049 - val_loss: 27.8685 - val_accuracy: 0.1369\n",
            "Epoch 70/120\n",
            "309/309 [==============================] - 5s 16ms/step - loss: 0.6938 - accuracy: 0.8082 - val_loss: 28.3386 - val_accuracy: 0.1312\n",
            "Epoch 71/120\n",
            "309/309 [==============================] - 5s 17ms/step - loss: 0.6832 - accuracy: 0.8114 - val_loss: 28.3222 - val_accuracy: 0.1389\n",
            "Epoch 72/120\n",
            "309/309 [==============================] - 5s 16ms/step - loss: 0.6678 - accuracy: 0.8190 - val_loss: 28.7473 - val_accuracy: 0.1357\n",
            "Epoch 73/120\n",
            "309/309 [==============================] - 5s 16ms/step - loss: 0.6564 - accuracy: 0.8212 - val_loss: 28.7062 - val_accuracy: 0.1454\n",
            "Epoch 74/120\n",
            "309/309 [==============================] - 5s 16ms/step - loss: 0.6402 - accuracy: 0.8241 - val_loss: 28.8795 - val_accuracy: 0.1377\n",
            "Epoch 75/120\n",
            "309/309 [==============================] - 5s 17ms/step - loss: 0.6198 - accuracy: 0.8298 - val_loss: 29.0441 - val_accuracy: 0.1409\n",
            "Epoch 76/120\n",
            "309/309 [==============================] - 5s 17ms/step - loss: 0.6180 - accuracy: 0.8266 - val_loss: 29.3755 - val_accuracy: 0.1438\n",
            "Epoch 77/120\n",
            "309/309 [==============================] - 5s 16ms/step - loss: 0.5876 - accuracy: 0.8375 - val_loss: 29.4610 - val_accuracy: 0.1422\n",
            "Epoch 78/120\n",
            "309/309 [==============================] - 5s 17ms/step - loss: 0.5979 - accuracy: 0.8351 - val_loss: 29.5730 - val_accuracy: 0.1418\n",
            "Epoch 79/120\n",
            "309/309 [==============================] - 5s 17ms/step - loss: 0.5904 - accuracy: 0.8360 - val_loss: 29.5433 - val_accuracy: 0.1426\n",
            "Epoch 80/120\n",
            "309/309 [==============================] - 5s 16ms/step - loss: 0.5599 - accuracy: 0.8451 - val_loss: 30.0457 - val_accuracy: 0.1377\n",
            "Epoch 81/120\n",
            "309/309 [==============================] - 5s 16ms/step - loss: 0.5652 - accuracy: 0.8426 - val_loss: 30.0948 - val_accuracy: 0.1442\n",
            "Epoch 82/120\n",
            "309/309 [==============================] - 5s 16ms/step - loss: 0.5527 - accuracy: 0.8463 - val_loss: 30.3135 - val_accuracy: 0.1393\n",
            "Epoch 83/120\n",
            "309/309 [==============================] - 5s 16ms/step - loss: 0.5452 - accuracy: 0.8476 - val_loss: 30.3562 - val_accuracy: 0.1438\n",
            "Epoch 84/120\n",
            "309/309 [==============================] - 5s 16ms/step - loss: 0.5169 - accuracy: 0.8545 - val_loss: 30.7981 - val_accuracy: 0.1418\n",
            "Epoch 85/120\n",
            "309/309 [==============================] - 5s 16ms/step - loss: 0.5213 - accuracy: 0.8511 - val_loss: 30.8319 - val_accuracy: 0.1426\n",
            "Epoch 86/120\n",
            "309/309 [==============================] - 5s 16ms/step - loss: 0.5031 - accuracy: 0.8574 - val_loss: 30.7187 - val_accuracy: 0.1414\n",
            "Epoch 87/120\n",
            "309/309 [==============================] - 5s 16ms/step - loss: 0.4931 - accuracy: 0.8613 - val_loss: 30.6821 - val_accuracy: 0.1438\n",
            "Epoch 88/120\n",
            "309/309 [==============================] - 5s 16ms/step - loss: 0.4971 - accuracy: 0.8573 - val_loss: 30.9877 - val_accuracy: 0.1409\n",
            "Epoch 89/120\n",
            "309/309 [==============================] - 5s 16ms/step - loss: 0.5039 - accuracy: 0.8557 - val_loss: 31.4395 - val_accuracy: 0.1393\n",
            "Epoch 90/120\n",
            "309/309 [==============================] - 5s 16ms/step - loss: 0.4779 - accuracy: 0.8632 - val_loss: 31.4939 - val_accuracy: 0.1438\n",
            "Epoch 91/120\n",
            "309/309 [==============================] - 5s 16ms/step - loss: 0.4717 - accuracy: 0.8626 - val_loss: 30.9971 - val_accuracy: 0.1397\n",
            "Epoch 92/120\n",
            "309/309 [==============================] - 5s 16ms/step - loss: 0.4607 - accuracy: 0.8654 - val_loss: 31.2174 - val_accuracy: 0.1466\n",
            "Epoch 93/120\n",
            "309/309 [==============================] - 5s 17ms/step - loss: 0.4712 - accuracy: 0.8625 - val_loss: 31.7072 - val_accuracy: 0.1478\n",
            "Epoch 94/120\n",
            "309/309 [==============================] - 5s 16ms/step - loss: 0.4533 - accuracy: 0.8666 - val_loss: 31.7528 - val_accuracy: 0.1418\n",
            "Epoch 95/120\n",
            "309/309 [==============================] - 5s 16ms/step - loss: 0.4353 - accuracy: 0.8727 - val_loss: 31.8949 - val_accuracy: 0.1414\n",
            "Epoch 96/120\n",
            "309/309 [==============================] - 5s 16ms/step - loss: 0.4396 - accuracy: 0.8694 - val_loss: 32.4779 - val_accuracy: 0.1442\n",
            "Epoch 97/120\n",
            "309/309 [==============================] - 5s 16ms/step - loss: 0.4266 - accuracy: 0.8735 - val_loss: 32.0523 - val_accuracy: 0.1430\n",
            "Epoch 98/120\n",
            "309/309 [==============================] - 5s 16ms/step - loss: 0.4159 - accuracy: 0.8784 - val_loss: 32.5307 - val_accuracy: 0.1458\n",
            "Epoch 99/120\n",
            "309/309 [==============================] - 5s 16ms/step - loss: 0.4050 - accuracy: 0.8812 - val_loss: 32.5581 - val_accuracy: 0.1434\n",
            "Epoch 100/120\n",
            "309/309 [==============================] - 5s 16ms/step - loss: 0.4163 - accuracy: 0.8768 - val_loss: 32.5661 - val_accuracy: 0.1458\n",
            "Epoch 101/120\n",
            "309/309 [==============================] - 5s 16ms/step - loss: 0.4096 - accuracy: 0.8805 - val_loss: 32.4887 - val_accuracy: 0.1470\n",
            "Epoch 102/120\n",
            "309/309 [==============================] - 5s 16ms/step - loss: 0.4137 - accuracy: 0.8742 - val_loss: 33.0054 - val_accuracy: 0.1418\n",
            "Epoch 103/120\n",
            "309/309 [==============================] - 5s 16ms/step - loss: 0.4070 - accuracy: 0.8792 - val_loss: 32.7750 - val_accuracy: 0.1422\n",
            "Epoch 104/120\n",
            "309/309 [==============================] - 5s 16ms/step - loss: 0.3980 - accuracy: 0.8772 - val_loss: 33.2344 - val_accuracy: 0.1438\n",
            "Epoch 105/120\n",
            "309/309 [==============================] - 5s 16ms/step - loss: 0.3908 - accuracy: 0.8810 - val_loss: 32.9473 - val_accuracy: 0.1414\n",
            "Epoch 106/120\n",
            "309/309 [==============================] - 5s 16ms/step - loss: 0.3767 - accuracy: 0.8856 - val_loss: 33.6505 - val_accuracy: 0.1434\n",
            "Epoch 107/120\n",
            "309/309 [==============================] - 5s 16ms/step - loss: 0.3669 - accuracy: 0.8892 - val_loss: 33.4008 - val_accuracy: 0.1458\n",
            "Epoch 108/120\n",
            "309/309 [==============================] - 5s 16ms/step - loss: 0.3717 - accuracy: 0.8838 - val_loss: 33.3047 - val_accuracy: 0.1418\n",
            "Epoch 109/120\n",
            "309/309 [==============================] - 5s 16ms/step - loss: 0.3634 - accuracy: 0.8864 - val_loss: 33.4205 - val_accuracy: 0.1454\n",
            "Epoch 110/120\n",
            "309/309 [==============================] - 5s 16ms/step - loss: 0.3599 - accuracy: 0.8886 - val_loss: 33.6199 - val_accuracy: 0.1450\n",
            "Epoch 111/120\n",
            "309/309 [==============================] - 5s 16ms/step - loss: 0.3630 - accuracy: 0.8875 - val_loss: 33.3414 - val_accuracy: 0.1462\n",
            "Epoch 112/120\n",
            "309/309 [==============================] - 5s 16ms/step - loss: 0.3573 - accuracy: 0.8898 - val_loss: 34.1018 - val_accuracy: 0.1438\n",
            "Epoch 113/120\n",
            "309/309 [==============================] - 5s 16ms/step - loss: 0.3666 - accuracy: 0.8834 - val_loss: 33.9326 - val_accuracy: 0.1474\n",
            "Epoch 114/120\n",
            "309/309 [==============================] - 5s 16ms/step - loss: 0.3585 - accuracy: 0.8892 - val_loss: 33.8243 - val_accuracy: 0.1442\n",
            "Epoch 115/120\n",
            "309/309 [==============================] - 5s 16ms/step - loss: 0.3380 - accuracy: 0.8953 - val_loss: 33.8752 - val_accuracy: 0.1462\n",
            "Epoch 116/120\n",
            "309/309 [==============================] - 5s 16ms/step - loss: 0.3330 - accuracy: 0.8949 - val_loss: 34.2141 - val_accuracy: 0.1442\n",
            "Epoch 117/120\n",
            "309/309 [==============================] - 5s 16ms/step - loss: 0.3230 - accuracy: 0.8980 - val_loss: 34.3037 - val_accuracy: 0.1454\n",
            "Epoch 118/120\n",
            "309/309 [==============================] - 5s 16ms/step - loss: 0.3299 - accuracy: 0.8940 - val_loss: 34.1933 - val_accuracy: 0.1442\n",
            "Epoch 119/120\n",
            "309/309 [==============================] - 5s 16ms/step - loss: 0.3374 - accuracy: 0.8927 - val_loss: 34.5363 - val_accuracy: 0.1434\n",
            "Epoch 120/120\n",
            "309/309 [==============================] - 5s 16ms/step - loss: 0.3427 - accuracy: 0.8895 - val_loss: 34.0359 - val_accuracy: 0.1470\n"
          ]
        }
      ]
    },
    {
      "cell_type": "code",
      "metadata": {
        "id": "q_orBXOrCsNn",
        "colab": {
          "base_uri": "https://localhost:8080/",
          "height": 265
        },
        "outputId": "d5c20658-1083-4acd-cb90-89a1213d5dd9"
      },
      "source": [
        "import matplotlib.pyplot as plt\n",
        "import seaborn as sns\n",
        "\n",
        "# Entrenamiento\n",
        "epoch_count = range(1, len(hist.history['accuracy']) + 1)\n",
        "sns.lineplot(x=epoch_count,  y=hist.history['accuracy'], label='train')\n",
        "sns.lineplot(x=epoch_count,  y=hist.history['val_accuracy'], label='valid')\n",
        "plt.show()"
      ],
      "execution_count": 139,
      "outputs": [
        {
          "output_type": "display_data",
          "data": {
            "image/png": "[encoded data removed]",
            "text/plain": [
              "<Figure size 432x288 with 1 Axes>"
            ]
          },
          "metadata": {
            "needs_background": "light"
          }
        }
      ]
    },
    {
      "cell_type": "markdown",
      "metadata": {
        "id": "mCeMWWupxN1-"
      },
      "source": [
        "### Generación de secuencias nuevas"
      ]
    },
    {
      "cell_type": "code",
      "metadata": {
        "id": "bwbS_pfhxvB3"
      },
      "source": [
        "def generate_seq(model, tokenizer, seed_text, max_length, n_words):\n",
        "    \"\"\"\n",
        "        Exec model sequence prediction\n",
        "\n",
        "        Args:\n",
        "            model (keras): modelo entrenado\n",
        "            tokenizer (keras tokenizer): tonenizer utilizado en el preprocesamiento\n",
        "            seed_text (string): texto de entrada (input_seq)\n",
        "            max_length (int): máxima longitud de la sequencia de entrada\n",
        "            n_words (int): números de palabras a agregar a la sequencia de entrada\n",
        "        returns:\n",
        "            output_text (string): sentencia con las \"n_words\" agregadas\n",
        "    \"\"\"\n",
        "    output_text = seed_text\n",
        "\t# generate a fixed number of words\n",
        "    for _ in range(n_words):\n",
        "\t\t# Encodeamos\n",
        "        encoded = tokenizer.texts_to_sequences([output_text])[0]\n",
        "\t\t# Si tienen distinto largo\n",
        "        encoded = pad_sequences([encoded], maxlen=max_length, padding='pre')\n",
        "\t\t\n",
        "\t\t# Predicción softmax\n",
        "        y_hat = model.predict(encoded).argmax(axis=-1)\n",
        "\t\t# Vamos concatenando las predicciones\n",
        "        out_word = ''\n",
        "\n",
        "        # Debemos buscar en el vocabulario la palabra\n",
        "        # que corresopnde al indice (y_hat) predicho por le modelo\n",
        "        for word, index in tokenizer.word_index.items():\n",
        "            if index == y_hat:\n",
        "                out_word = word\n",
        "                break\n",
        "\n",
        "\t\t# Agrego las palabras a la frase predicha\n",
        "        output_text += ' ' + out_word\n",
        "    return output_text"
      ],
      "execution_count": 140,
      "outputs": []
    },
    {
      "cell_type": "code",
      "metadata": {
        "id": "JoFqRC5pxzqS",
        "colab": {
          "base_uri": "https://localhost:8080/",
          "height": 35
        },
        "outputId": "afb61d5f-20eb-4ca9-92be-38aa75027435"
      },
      "source": [
        "input_text='I need to'\n",
        "generate_seq(model, tok, input_text, max_length=3, n_words=3)"
      ],
      "execution_count": 141,
      "outputs": [
        {
          "output_type": "execute_result",
          "data": {
            "application/vnd.google.colaboratory.intrinsic+json": {
              "type": "string"
            },
            "text/plain": [
              "'I need to yours and my'"
            ]
          },
          "metadata": {},
          "execution_count": 141
        }
      ]
    },
    {
      "cell_type": "code",
      "metadata": {
        "colab": {
          "base_uri": "https://localhost:8080/",
          "height": 35
        },
        "id": "e-9-HG8S2LCp",
        "outputId": "0dce9099-5cb5-4b08-c192-880334f81bba"
      },
      "source": [
        "input_text='we both know'\n",
        "generate_seq(model, tok, input_text, max_length=3, n_words=2)"
      ],
      "execution_count": 142,
      "outputs": [
        {
          "output_type": "execute_result",
          "data": {
            "application/vnd.google.colaboratory.intrinsic+json": {
              "type": "string"
            },
            "text/plain": [
              "'we both know it lights'"
            ]
          },
          "metadata": {},
          "execution_count": 142
        }
      ]
    },
    {
      "cell_type": "code",
      "metadata": {
        "colab": {
          "base_uri": "https://localhost:8080/",
          "height": 35
        },
        "id": "v9qSJAkP2LUb",
        "outputId": "1d369274-6e61-4bd6-e7ca-905b9a31f107"
      },
      "source": [
        "input_text='With the lights'\n",
        "generate_seq(model, tok, input_text, max_length=3, n_words=1)"
      ],
      "execution_count": 143,
      "outputs": [
        {
          "output_type": "execute_result",
          "data": {
            "application/vnd.google.colaboratory.intrinsic+json": {
              "type": "string"
            },
            "text/plain": [
              "'With the lights if'"
            ]
          },
          "metadata": {},
          "execution_count": 143
        }
      ]
    },
    {
      "cell_type": "code",
      "metadata": {
        "colab": {
          "base_uri": "https://localhost:8080/",
          "height": 35
        },
        "id": "MCwjC9wd2Lev",
        "outputId": "f34d2535-fa6f-47a0-daf2-126505e5f2e3"
      },
      "source": [
        "input_text='Hello, hello, hello'\n",
        "generate_seq(model, tok, input_text, max_length=3, n_words=2)"
      ],
      "execution_count": 144,
      "outputs": [
        {
          "output_type": "execute_result",
          "data": {
            "application/vnd.google.colaboratory.intrinsic+json": {
              "type": "string"
            },
            "text/plain": [
              "'Hello, hello, hello up i'"
            ]
          },
          "metadata": {},
          "execution_count": 144
        }
      ]
    },
    {
      "cell_type": "code",
      "metadata": {
        "id": "t3VYAwTDvzbv",
        "colab": {
          "base_uri": "https://localhost:8080/",
          "height": 35
        },
        "outputId": "855fecf1-51dc-44e0-d36f-25fdd06681f4"
      },
      "source": [
        "input_text='She should have'\n",
        "generate_seq(model, tok, input_text, max_length=3, n_words=3)"
      ],
      "execution_count": 145,
      "outputs": [
        {
          "output_type": "execute_result",
          "data": {
            "application/vnd.google.colaboratory.intrinsic+json": {
              "type": "string"
            },
            "text/plain": [
              "'She should have the scaled the'"
            ]
          },
          "metadata": {},
          "execution_count": 145
        }
      ]
    },
    {
      "cell_type": "markdown",
      "metadata": {
        "id": "T2SHmXbgxQH9"
      },
      "source": [
        "### Conclusiones\n",
        "\n",
        "Se amplio el modelo estudiado en clase, agregando capas bidireccionales y aumentando las epocas de entrenamiento. Sin embargo debido al tamanno limitado del vocabulario no se logra un accuracy aceptable."
      ]
    },
    {
      "cell_type": "code",
      "metadata": {
        "id": "ZWjx_TmL2yHL"
      },
      "source": [
        ""
      ],
      "execution_count": null,
      "outputs": []
    }
  ]
}